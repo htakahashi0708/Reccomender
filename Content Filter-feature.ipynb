{
 "cells": [
  {
   "cell_type": "markdown",
   "id": "07d7d388",
   "metadata": {},
   "source": [
    "https://www.kaggle.com/competitions/kkbox-music-recommendation-challenge/data"
   ]
  },
  {
   "cell_type": "code",
   "execution_count": 1,
   "id": "3d7eb8c1",
   "metadata": {},
   "outputs": [],
   "source": [
    "import numpy as np\n",
    "import pandas as pd\n",
    "import matplotlib.pyplot as plt\n",
    "import seaborn as sns\n",
    "import math"
   ]
  },
  {
   "cell_type": "code",
   "execution_count": 2,
   "id": "aa9e6464",
   "metadata": {},
   "outputs": [],
   "source": [
    "from sklearn import metrics"
   ]
  },
  {
   "cell_type": "code",
   "execution_count": 3,
   "id": "6528b2ab",
   "metadata": {},
   "outputs": [],
   "source": [
    "def msno_convert(val, dic):\n",
    "    try:\n",
    "        val = dic[val]\n",
    "    except KeyError:\n",
    "        val = -1\n",
    "        \n",
    "    return val"
   ]
  },
  {
   "cell_type": "code",
   "execution_count": 4,
   "id": "aeabf685",
   "metadata": {},
   "outputs": [],
   "source": [
    "train_df = pd.read_parquet(\"data_p1/train_p1.parquet\")"
   ]
  },
  {
   "cell_type": "code",
   "execution_count": 5,
   "id": "8528b061",
   "metadata": {},
   "outputs": [
    {
     "data": {
      "text/plain": [
       "7377418"
      ]
     },
     "execution_count": 5,
     "metadata": {},
     "output_type": "execute_result"
    }
   ],
   "source": [
    "n_train = train_df.shape[0]\n",
    "n_train"
   ]
  },
  {
   "cell_type": "code",
   "execution_count": 6,
   "id": "27177c9b",
   "metadata": {},
   "outputs": [],
   "source": [
    "test_df = pd.read_parquet(\"data_p1/test_p1.parquet\")"
   ]
  },
  {
   "cell_type": "code",
   "execution_count": 7,
   "id": "6b2259f3",
   "metadata": {},
   "outputs": [
    {
     "data": {
      "text/plain": [
       "2556790"
      ]
     },
     "execution_count": 7,
     "metadata": {},
     "output_type": "execute_result"
    }
   ],
   "source": [
    "n_test = test_df.shape[0]\n",
    "n_test"
   ]
  },
  {
   "cell_type": "code",
   "execution_count": 8,
   "id": "7a231456",
   "metadata": {},
   "outputs": [],
   "source": [
    "member_df = pd.read_parquet(\"data_p1/members_p1.parquet\")"
   ]
  },
  {
   "cell_type": "code",
   "execution_count": 9,
   "id": "eed1189a",
   "metadata": {},
   "outputs": [],
   "source": [
    "n_member = member_df.shape[0]"
   ]
  },
  {
   "cell_type": "code",
   "execution_count": 10,
   "id": "c4201c9b",
   "metadata": {},
   "outputs": [
    {
     "data": {
      "text/plain": [
       "city                       int64\n",
       "bd                         int64\n",
       "gender                    object\n",
       "registered_via             int64\n",
       "registration_init_time     int64\n",
       "expiration_date            int64\n",
       "msno_idx                   int32\n",
       "dtype: object"
      ]
     },
     "execution_count": 10,
     "metadata": {},
     "output_type": "execute_result"
    }
   ],
   "source": [
    "member_df.dtypes"
   ]
  },
  {
   "cell_type": "code",
   "execution_count": 11,
   "id": "58bb0aff",
   "metadata": {},
   "outputs": [],
   "source": [
    "song_df = pd.read_parquet(\"data_p1/songs_p1.parquet\")"
   ]
  },
  {
   "cell_type": "code",
   "execution_count": 12,
   "id": "e27c096e",
   "metadata": {},
   "outputs": [],
   "source": [
    "song_df = song_df.loc[song_df.in_data]"
   ]
  },
  {
   "cell_type": "code",
   "execution_count": 13,
   "id": "d9f9e5ee",
   "metadata": {},
   "outputs": [
    {
     "data": {
      "text/plain": [
       "419781"
      ]
     },
     "execution_count": 13,
     "metadata": {},
     "output_type": "execute_result"
    }
   ],
   "source": [
    "n_song = song_df.shape[0]\n",
    "n_song"
   ]
  },
  {
   "cell_type": "code",
   "execution_count": 14,
   "id": "fa5a9061",
   "metadata": {},
   "outputs": [
    {
     "data": {
      "text/plain": [
       "song_length      int64\n",
       "genre_ids       object\n",
       "artist_name     object\n",
       "composer        object\n",
       "lyricist        object\n",
       "language       float64\n",
       "artist_id        int32\n",
       "song_idx         int32\n",
       "in_data           bool\n",
       "dtype: object"
      ]
     },
     "execution_count": 14,
     "metadata": {},
     "output_type": "execute_result"
    }
   ],
   "source": [
    "song_df.dtypes"
   ]
  },
  {
   "cell_type": "code",
   "execution_count": 15,
   "id": "0abb1c22",
   "metadata": {},
   "outputs": [],
   "source": [
    "#song_df[\"genre_ids\"].unique()"
   ]
  },
  {
   "cell_type": "code",
   "execution_count": 16,
   "id": "4159b888",
   "metadata": {},
   "outputs": [],
   "source": [
    "genre_unique =  song_df[\"genre_ids\"].unique()"
   ]
  },
  {
   "cell_type": "code",
   "execution_count": 17,
   "id": "17de78a7",
   "metadata": {},
   "outputs": [],
   "source": [
    "genre_dic = {}\n",
    "genre_set = set()\n",
    "for i in range(genre_unique.shape[0]):\n",
    "    \n",
    "    if genre_unique[i] is not None:\n",
    "        val = genre_unique[i].split(\"|\")\n",
    "        genre_set = genre_set.union(val)\n",
    "        genre_dic[genre_unique[i]] = val\n",
    "        \n",
    "        \n",
    "    "
   ]
  },
  {
   "cell_type": "code",
   "execution_count": 18,
   "id": "d91e909f",
   "metadata": {},
   "outputs": [
    {
     "data": {
      "text/plain": [
       "172"
      ]
     },
     "execution_count": 18,
     "metadata": {},
     "output_type": "execute_result"
    }
   ],
   "source": [
    "len(genre_set)"
   ]
  },
  {
   "cell_type": "code",
   "execution_count": 19,
   "id": "1516016d",
   "metadata": {},
   "outputs": [
    {
     "data": {
      "text/plain": [
       "(419781, 9)"
      ]
     },
     "execution_count": 19,
     "metadata": {},
     "output_type": "execute_result"
    }
   ],
   "source": [
    "song_df.shape"
   ]
  },
  {
   "cell_type": "code",
   "execution_count": null,
   "id": "5c919b03",
   "metadata": {},
   "outputs": [],
   "source": []
  },
  {
   "cell_type": "code",
   "execution_count": 20,
   "id": "6b989fd1",
   "metadata": {},
   "outputs": [],
   "source": [
    "count = 0\n",
    "genre_idx = {}\n",
    "for val in genre_set:\n",
    "    genre_idx[val] = count\n",
    "    count += 1"
   ]
  },
  {
   "cell_type": "code",
   "execution_count": null,
   "id": "8c141365",
   "metadata": {},
   "outputs": [],
   "source": []
  },
  {
   "cell_type": "code",
   "execution_count": 21,
   "id": "2d7faca9",
   "metadata": {},
   "outputs": [
    {
     "data": {
      "text/plain": [
       "172"
      ]
     },
     "execution_count": 21,
     "metadata": {},
     "output_type": "execute_result"
    }
   ],
   "source": [
    "n_genre = len(genre_set)\n",
    "n_genre"
   ]
  },
  {
   "cell_type": "code",
   "execution_count": 22,
   "id": "483f22cd",
   "metadata": {},
   "outputs": [
    {
     "data": {
      "text/plain": [
       "419781"
      ]
     },
     "execution_count": 22,
     "metadata": {},
     "output_type": "execute_result"
    }
   ],
   "source": [
    "n_song"
   ]
  },
  {
   "cell_type": "code",
   "execution_count": 23,
   "id": "4168f519",
   "metadata": {},
   "outputs": [],
   "source": [
    "song_genre_mat =  np.zeros((n_song, n_genre), dtype =  bool)"
   ]
  },
  {
   "cell_type": "code",
   "execution_count": 24,
   "id": "7ee93121",
   "metadata": {},
   "outputs": [],
   "source": [
    "genre_ids_array = song_df[\"genre_ids\"].to_numpy(copy = True)"
   ]
  },
  {
   "cell_type": "code",
   "execution_count": null,
   "id": "d273fcfe",
   "metadata": {},
   "outputs": [],
   "source": []
  },
  {
   "cell_type": "code",
   "execution_count": 26,
   "id": "047ceeee",
   "metadata": {},
   "outputs": [],
   "source": [
    "for i in range(n_song):\n",
    "    val =  genre_ids_array[i]\n",
    "    if val is not None:\n",
    "        genre_list = genre_dic[val]\n",
    "\n",
    "        for j in range(len(genre_list)):\n",
    "            idx = genre_idx[genre_list[j]]\n",
    "\n",
    "            song_genre_mat[i, idx] = True"
   ]
  },
  {
   "cell_type": "code",
   "execution_count": 27,
   "id": "3838d371",
   "metadata": {},
   "outputs": [
    {
     "data": {
      "text/plain": [
       "array([[False, False, False, ..., False, False, False],\n",
       "       [False, False, False, ..., False, False, False],\n",
       "       [False, False, False, ..., False, False, False],\n",
       "       ...,\n",
       "       [False, False, False, ..., False, False, False],\n",
       "       [False, False, False, ..., False, False, False],\n",
       "       [False, False, False, ..., False, False, False]])"
      ]
     },
     "execution_count": 27,
     "metadata": {},
     "output_type": "execute_result"
    }
   ],
   "source": [
    "song_genre_mat"
   ]
  },
  {
   "cell_type": "code",
   "execution_count": 28,
   "id": "e68582ca",
   "metadata": {},
   "outputs": [],
   "source": [
    "song_genre_df = pd.DataFrame(song_genre_mat)"
   ]
  },
  {
   "cell_type": "code",
   "execution_count": 29,
   "id": "b74517b2",
   "metadata": {},
   "outputs": [],
   "source": [
    "col_names = []\n",
    "for i in range(n_genre):\n",
    "    col_names.append(\"genre_\" +  str(i))"
   ]
  },
  {
   "cell_type": "code",
   "execution_count": 30,
   "id": "1ddbefc1",
   "metadata": {},
   "outputs": [
    {
     "data": {
      "text/plain": [
       "1"
      ]
     },
     "execution_count": 30,
     "metadata": {},
     "output_type": "execute_result"
    }
   ],
   "source": []
  },
  {
   "cell_type": "code",
   "execution_count": 42,
   "id": "4225d8d3",
   "metadata": {},
   "outputs": [],
   "source": [
    "#song_genre_df.columns = col_names"
   ]
  },
  {
   "cell_type": "code",
   "execution_count": 31,
   "id": "4c9efbc3",
   "metadata": {},
   "outputs": [
    {
     "data": {
      "text/plain": [
       "<AxesSubplot:>"
      ]
     },
     "execution_count": 31,
     "metadata": {},
     "output_type": "execute_result"
    },
    {
     "data": {
      "image/png": "[encoded data removed]",
      "text/plain": [
       "<Figure size 432x288 with 1 Axes>"
      ]
     },
     "metadata": {
      "needs_background": "light"
     },
     "output_type": "display_data"
    }
   ],
   "source": [
    "song_genre_df.sum().plot()"
   ]
  },
  {
   "cell_type": "code",
   "execution_count": 32,
   "id": "c6002303",
   "metadata": {},
   "outputs": [
    {
     "data": {
      "text/plain": [
       "(array([  1,   4,   8,  18,  55,  64,  66,  99, 100, 104, 116, 122, 136,\n",
       "        154, 164, 168], dtype=int64),\n",
       " (16,))"
      ]
     },
     "execution_count": 32,
     "metadata": {},
     "output_type": "execute_result"
    }
   ],
   "source": [
    "major_genre = np.where((song_genre_df.sum() > 5000))[0]\n",
    "major_genre, major_genre.shape"
   ]
  },
  {
   "cell_type": "code",
   "execution_count": 36,
   "id": "c8e094c9",
   "metadata": {},
   "outputs": [],
   "source": [
    "song_genre_df = song_genre_df.iloc[:, major_genre]"
   ]
  },
  {
   "cell_type": "code",
   "execution_count": 40,
   "id": "a91c334d",
   "metadata": {},
   "outputs": [],
   "source": [
    "cnames_genre = []\n",
    "for v in major_genre:\n",
    "    cnames_genre.append(\"genre_\"+str(v))\n"
   ]
  },
  {
   "cell_type": "code",
   "execution_count": 43,
   "id": "c1911044",
   "metadata": {},
   "outputs": [],
   "source": [
    "song_genre_df.columns = cnames_genre"
   ]
  },
  {
   "cell_type": "code",
   "execution_count": 44,
   "id": "de27c0d8",
   "metadata": {},
   "outputs": [
    {
     "data": {
      "text/plain": [
       "((419781, 16), 419781)"
      ]
     },
     "execution_count": 44,
     "metadata": {},
     "output_type": "execute_result"
    }
   ],
   "source": [
    "song_genre_df.shape, n_song"
   ]
  },
  {
   "cell_type": "code",
   "execution_count": 45,
   "id": "e0d46ad5",
   "metadata": {},
   "outputs": [],
   "source": [
    "song_genre_df[\"song_idx\"] = np.arange(n_song)"
   ]
  },
  {
   "cell_type": "code",
   "execution_count": 46,
   "id": "c5f6461f",
   "metadata": {},
   "outputs": [],
   "source": [
    "#song_genre_df = song_genre_df.merge(song_stat, on = \"song_idx\", how = \"left\")"
   ]
  },
  {
   "cell_type": "code",
   "execution_count": 48,
   "id": "bb298cc6",
   "metadata": {},
   "outputs": [
    {
     "ename": "NameError",
     "evalue": "name 'song_stat' is not defined",
     "output_type": "error",
     "traceback": [
      "\u001b[1;31m---------------------------------------------------------------------------\u001b[0m",
      "\u001b[1;31mNameError\u001b[0m                                 Traceback (most recent call last)",
      "\u001b[1;32m~\\AppData\\Local\\Temp/ipykernel_916/953924202.py\u001b[0m in \u001b[0;36m<module>\u001b[1;34m\u001b[0m\n\u001b[1;32m----> 1\u001b[1;33m \u001b[0msong_stat\u001b[0m\u001b[1;33m\u001b[0m\u001b[1;33m\u001b[0m\u001b[0m\n\u001b[0m",
      "\u001b[1;31mNameError\u001b[0m: name 'song_stat' is not defined"
     ]
    }
   ],
   "source": [
    "song_stat"
   ]
  },
  {
   "cell_type": "code",
   "execution_count": 46,
   "id": "1cdcff93",
   "metadata": {},
   "outputs": [
    {
     "data": {
      "text/html": [
       "<div>\n",
       "<style scoped>\n",
       "    .dataframe tbody tr th:only-of-type {\n",
       "        vertical-align: middle;\n",
       "    }\n",
       "\n",
       "    .dataframe tbody tr th {\n",
       "        vertical-align: top;\n",
       "    }\n",
       "\n",
       "    .dataframe thead th {\n",
       "        text-align: right;\n",
       "    }\n",
       "</style>\n",
       "<table border=\"1\" class=\"dataframe\">\n",
       "  <thead>\n",
       "    <tr style=\"text-align: right;\">\n",
       "      <th></th>\n",
       "      <th>source_system_tab</th>\n",
       "      <th>source_screen_name</th>\n",
       "      <th>source_type</th>\n",
       "      <th>target</th>\n",
       "      <th>msno_idx</th>\n",
       "      <th>song_idx</th>\n",
       "    </tr>\n",
       "  </thead>\n",
       "  <tbody>\n",
       "    <tr>\n",
       "      <th>0</th>\n",
       "      <td>explore</td>\n",
       "      <td>Explore</td>\n",
       "      <td>online-playlist</td>\n",
       "      <td>1</td>\n",
       "      <td>21893</td>\n",
       "      <td>1391177</td>\n",
       "    </tr>\n",
       "    <tr>\n",
       "      <th>1</th>\n",
       "      <td>my library</td>\n",
       "      <td>Local playlist more</td>\n",
       "      <td>local-playlist</td>\n",
       "      <td>1</td>\n",
       "      <td>26052</td>\n",
       "      <td>1584026</td>\n",
       "    </tr>\n",
       "    <tr>\n",
       "      <th>2</th>\n",
       "      <td>my library</td>\n",
       "      <td>Local playlist more</td>\n",
       "      <td>local-playlist</td>\n",
       "      <td>1</td>\n",
       "      <td>26052</td>\n",
       "      <td>456722</td>\n",
       "    </tr>\n",
       "    <tr>\n",
       "      <th>3</th>\n",
       "      <td>my library</td>\n",
       "      <td>Local playlist more</td>\n",
       "      <td>local-playlist</td>\n",
       "      <td>1</td>\n",
       "      <td>26052</td>\n",
       "      <td>1072225</td>\n",
       "    </tr>\n",
       "    <tr>\n",
       "      <th>4</th>\n",
       "      <td>explore</td>\n",
       "      <td>Explore</td>\n",
       "      <td>online-playlist</td>\n",
       "      <td>1</td>\n",
       "      <td>21893</td>\n",
       "      <td>518476</td>\n",
       "    </tr>\n",
       "    <tr>\n",
       "      <th>...</th>\n",
       "      <td>...</td>\n",
       "      <td>...</td>\n",
       "      <td>...</td>\n",
       "      <td>...</td>\n",
       "      <td>...</td>\n",
       "      <td>...</td>\n",
       "    </tr>\n",
       "    <tr>\n",
       "      <th>7377413</th>\n",
       "      <td>my library</td>\n",
       "      <td>Local playlist more</td>\n",
       "      <td>local-playlist</td>\n",
       "      <td>1</td>\n",
       "      <td>1605</td>\n",
       "      <td>1492444</td>\n",
       "    </tr>\n",
       "    <tr>\n",
       "      <th>7377414</th>\n",
       "      <td>search</td>\n",
       "      <td>Search</td>\n",
       "      <td>song</td>\n",
       "      <td>0</td>\n",
       "      <td>3927</td>\n",
       "      <td>97719</td>\n",
       "    </tr>\n",
       "    <tr>\n",
       "      <th>7377415</th>\n",
       "      <td>search</td>\n",
       "      <td>Search</td>\n",
       "      <td>song</td>\n",
       "      <td>1</td>\n",
       "      <td>3927</td>\n",
       "      <td>94999</td>\n",
       "    </tr>\n",
       "    <tr>\n",
       "      <th>7377416</th>\n",
       "      <td>discover</td>\n",
       "      <td>Discover Genre</td>\n",
       "      <td>online-playlist</td>\n",
       "      <td>1</td>\n",
       "      <td>5841</td>\n",
       "      <td>890863</td>\n",
       "    </tr>\n",
       "    <tr>\n",
       "      <th>7377417</th>\n",
       "      <td>discover</td>\n",
       "      <td>Discover Genre</td>\n",
       "      <td>online-playlist</td>\n",
       "      <td>1</td>\n",
       "      <td>5841</td>\n",
       "      <td>771082</td>\n",
       "    </tr>\n",
       "  </tbody>\n",
       "</table>\n",
       "<p>7377418 rows × 6 columns</p>\n",
       "</div>"
      ],
      "text/plain": [
       "        source_system_tab   source_screen_name      source_type  target  \\\n",
       "0                 explore              Explore  online-playlist       1   \n",
       "1              my library  Local playlist more   local-playlist       1   \n",
       "2              my library  Local playlist more   local-playlist       1   \n",
       "3              my library  Local playlist more   local-playlist       1   \n",
       "4                 explore              Explore  online-playlist       1   \n",
       "...                   ...                  ...              ...     ...   \n",
       "7377413        my library  Local playlist more   local-playlist       1   \n",
       "7377414            search               Search             song       0   \n",
       "7377415            search               Search             song       1   \n",
       "7377416          discover       Discover Genre  online-playlist       1   \n",
       "7377417          discover       Discover Genre  online-playlist       1   \n",
       "\n",
       "         msno_idx  song_idx  \n",
       "0           21893   1391177  \n",
       "1           26052   1584026  \n",
       "2           26052    456722  \n",
       "3           26052   1072225  \n",
       "4           21893    518476  \n",
       "...           ...       ...  \n",
       "7377413      1605   1492444  \n",
       "7377414      3927     97719  \n",
       "7377415      3927     94999  \n",
       "7377416      5841    890863  \n",
       "7377417      5841    771082  \n",
       "\n",
       "[7377418 rows x 6 columns]"
      ]
     },
     "execution_count": 46,
     "metadata": {},
     "output_type": "execute_result"
    }
   ],
   "source": [
    "train_df"
   ]
  },
  {
   "cell_type": "code",
   "execution_count": null,
   "id": "28d4427b",
   "metadata": {},
   "outputs": [],
   "source": []
  },
  {
   "cell_type": "code",
   "execution_count": 29,
   "id": "11c26ebd",
   "metadata": {},
   "outputs": [],
   "source": [
    "#train_df[\"target2\"] = train_df[\"target\"].copy()\n"
   ]
  },
  {
   "cell_type": "code",
   "execution_count": 30,
   "id": "23927bb6",
   "metadata": {},
   "outputs": [],
   "source": [
    "#target_array = train_df[\"target\"].copy().to_numpy(copy = True)"
   ]
  },
  {
   "cell_type": "code",
   "execution_count": 31,
   "id": "dcc82b24",
   "metadata": {},
   "outputs": [],
   "source": [
    "#train_df[\"target2\"] = target_array[::-1]*np.exp(-np.arange(n_train)/50000000)[::-1]"
   ]
  },
  {
   "cell_type": "code",
   "execution_count": 32,
   "id": "2ff8ca76",
   "metadata": {},
   "outputs": [],
   "source": [
    "#train_df[\"target2\"]"
   ]
  },
  {
   "cell_type": "code",
   "execution_count": 49,
   "id": "72448f68",
   "metadata": {},
   "outputs": [],
   "source": [
    "song_stat = train_df[[\"song_idx\", \"target\"]].groupby(\"song_idx\").sum().rename({\"target\": \"Like\"}, axis = 1).reset_index()\n",
    "song_stat2 = train_df[[\"song_idx\", \"target\"]].groupby(\"song_idx\").count().rename({\"target\": \"Count\"}, axis = 1).reset_index()\n",
    "song_stat[\"Count\"] = song_stat2[\"Count\"]\n",
    "song_stat[\"Prob\"] = song_stat[\"Like\"]/ (5 + song_stat[\"Count\"])\n",
    "song_df = song_df.merge(song_stat, on = \"song_idx\", how = \"left\")"
   ]
  },
  {
   "cell_type": "code",
   "execution_count": 60,
   "id": "36d808c2",
   "metadata": {},
   "outputs": [],
   "source": [
    "artist_df = song_df[[\"artist_id\", \"Like\"]].groupby(\"artist_id\").sum().reset_index()\n",
    "artist_df2 = song_df[[\"artist_id\", \"Count\"]].groupby(\"artist_id\").sum().reset_index()"
   ]
  },
  {
   "cell_type": "code",
   "execution_count": 61,
   "id": "8fe19928",
   "metadata": {},
   "outputs": [],
   "source": [
    "artist_df.rename({\"Like\":\"artist_Like\"}, axis = 1, inplace = True)\n",
    "artist_df2.rename({\"Count\":\"artist_Count\"}, axis = 1, inplace = True)"
   ]
  },
  {
   "cell_type": "code",
   "execution_count": 69,
   "id": "870f2a00",
   "metadata": {},
   "outputs": [],
   "source": [
    "artist_df[\"artist_Count\"] = artist_df2[\"artist_Count\"]"
   ]
  },
  {
   "cell_type": "code",
   "execution_count": 70,
   "id": "1e86541e",
   "metadata": {},
   "outputs": [],
   "source": [
    "artist_df[\"artist_Prob\"] = artist_df[\"artist_Like\"]/(5 + artist_df[\"artist_Count\"])  "
   ]
  },
  {
   "cell_type": "code",
   "execution_count": 74,
   "id": "a82014d7",
   "metadata": {},
   "outputs": [
    {
     "data": {
      "text/html": [
       "<div>\n",
       "<style scoped>\n",
       "    .dataframe tbody tr th:only-of-type {\n",
       "        vertical-align: middle;\n",
       "    }\n",
       "\n",
       "    .dataframe tbody tr th {\n",
       "        vertical-align: top;\n",
       "    }\n",
       "\n",
       "    .dataframe thead th {\n",
       "        text-align: right;\n",
       "    }\n",
       "</style>\n",
       "<table border=\"1\" class=\"dataframe\">\n",
       "  <thead>\n",
       "    <tr style=\"text-align: right;\">\n",
       "      <th></th>\n",
       "      <th>artist_id</th>\n",
       "      <th>artist_Like</th>\n",
       "      <th>artist_Count</th>\n",
       "      <th>artist_Prob</th>\n",
       "    </tr>\n",
       "  </thead>\n",
       "  <tbody>\n",
       "    <tr>\n",
       "      <th>0</th>\n",
       "      <td>2</td>\n",
       "      <td>1.0</td>\n",
       "      <td>1.0</td>\n",
       "      <td>0.166667</td>\n",
       "    </tr>\n",
       "    <tr>\n",
       "      <th>1</th>\n",
       "      <td>4</td>\n",
       "      <td>0.0</td>\n",
       "      <td>0.0</td>\n",
       "      <td>0.000000</td>\n",
       "    </tr>\n",
       "    <tr>\n",
       "      <th>2</th>\n",
       "      <td>10</td>\n",
       "      <td>0.0</td>\n",
       "      <td>0.0</td>\n",
       "      <td>0.000000</td>\n",
       "    </tr>\n",
       "    <tr>\n",
       "      <th>3</th>\n",
       "      <td>11</td>\n",
       "      <td>0.0</td>\n",
       "      <td>0.0</td>\n",
       "      <td>0.000000</td>\n",
       "    </tr>\n",
       "    <tr>\n",
       "      <th>4</th>\n",
       "      <td>13</td>\n",
       "      <td>0.0</td>\n",
       "      <td>1.0</td>\n",
       "      <td>0.000000</td>\n",
       "    </tr>\n",
       "    <tr>\n",
       "      <th>...</th>\n",
       "      <td>...</td>\n",
       "      <td>...</td>\n",
       "      <td>...</td>\n",
       "      <td>...</td>\n",
       "    </tr>\n",
       "    <tr>\n",
       "      <th>46367</th>\n",
       "      <td>222339</td>\n",
       "      <td>1.0</td>\n",
       "      <td>3.0</td>\n",
       "      <td>0.125000</td>\n",
       "    </tr>\n",
       "    <tr>\n",
       "      <th>46368</th>\n",
       "      <td>222341</td>\n",
       "      <td>14.0</td>\n",
       "      <td>33.0</td>\n",
       "      <td>0.368421</td>\n",
       "    </tr>\n",
       "    <tr>\n",
       "      <th>46369</th>\n",
       "      <td>222343</td>\n",
       "      <td>1.0</td>\n",
       "      <td>1.0</td>\n",
       "      <td>0.166667</td>\n",
       "    </tr>\n",
       "    <tr>\n",
       "      <th>46370</th>\n",
       "      <td>222357</td>\n",
       "      <td>13.0</td>\n",
       "      <td>17.0</td>\n",
       "      <td>0.590909</td>\n",
       "    </tr>\n",
       "    <tr>\n",
       "      <th>46371</th>\n",
       "      <td>222359</td>\n",
       "      <td>0.0</td>\n",
       "      <td>1.0</td>\n",
       "      <td>0.000000</td>\n",
       "    </tr>\n",
       "  </tbody>\n",
       "</table>\n",
       "<p>46372 rows × 4 columns</p>\n",
       "</div>"
      ],
      "text/plain": [
       "       artist_id  artist_Like  artist_Count  artist_Prob\n",
       "0              2          1.0           1.0     0.166667\n",
       "1              4          0.0           0.0     0.000000\n",
       "2             10          0.0           0.0     0.000000\n",
       "3             11          0.0           0.0     0.000000\n",
       "4             13          0.0           1.0     0.000000\n",
       "...          ...          ...           ...          ...\n",
       "46367     222339          1.0           3.0     0.125000\n",
       "46368     222341         14.0          33.0     0.368421\n",
       "46369     222343          1.0           1.0     0.166667\n",
       "46370     222357         13.0          17.0     0.590909\n",
       "46371     222359          0.0           1.0     0.000000\n",
       "\n",
       "[46372 rows x 4 columns]"
      ]
     },
     "execution_count": 74,
     "metadata": {},
     "output_type": "execute_result"
    }
   ],
   "source": [
    "#song_df.drop([\"artist_score\"], axis = 1, inplace = True)\n",
    "artist_df"
   ]
  },
  {
   "cell_type": "code",
   "execution_count": 75,
   "id": "41a80d46",
   "metadata": {},
   "outputs": [],
   "source": [
    "song_df = song_df.merge(artist_df, on = \"artist_id\", how = \"left\")"
   ]
  },
  {
   "cell_type": "code",
   "execution_count": 79,
   "id": "b076dd6d",
   "metadata": {},
   "outputs": [
    {
     "data": {
      "text/plain": [
       "<AxesSubplot:xlabel='artist_Prob', ylabel='Prob'>"
      ]
     },
     "execution_count": 79,
     "metadata": {},
     "output_type": "execute_result"
    },
    {
     "data": {
      "image/png": "[encoded data removed]",
      "text/plain": [
       "<Figure size 432x288 with 1 Axes>"
      ]
     },
     "metadata": {
      "needs_background": "light"
     },
     "output_type": "display_data"
    }
   ],
   "source": [
    "sns.scatterplot(data = song_df, x = \"artist_Prob\", y = \"Prob\", alpha = 0.005)"
   ]
  },
  {
   "cell_type": "code",
   "execution_count": null,
   "id": "9abce237",
   "metadata": {},
   "outputs": [],
   "source": []
  },
  {
   "cell_type": "code",
   "execution_count": null,
   "id": "c4a9b1bb",
   "metadata": {},
   "outputs": [],
   "source": []
  },
  {
   "cell_type": "code",
   "execution_count": null,
   "id": "837a1314",
   "metadata": {},
   "outputs": [],
   "source": []
  },
  {
   "cell_type": "code",
   "execution_count": null,
   "id": "2e1e4c83",
   "metadata": {},
   "outputs": [],
   "source": []
  },
  {
   "cell_type": "code",
   "execution_count": 33,
   "id": "10f819f1",
   "metadata": {},
   "outputs": [],
   "source": [
    "def cal_prob(count_0, count_1, D = 10):\n",
    "    \n",
    "    val = count1/(count_0+count1 + D)\n",
    "    \n",
    "    return val"
   ]
  },
  {
   "cell_type": "markdown",
   "id": "b547e608",
   "metadata": {},
   "source": [
    "## Source System"
   ]
  },
  {
   "cell_type": "code",
   "execution_count": 34,
   "id": "bcb2f54d",
   "metadata": {},
   "outputs": [],
   "source": [
    "filter1 = train_df[\"source_system_tab\"].isna()\n",
    "train_df.loc[filter1, \"source_system_tab\"] =  \"Z\"\n",
    "\n",
    "filter1 = test_df[\"source_system_tab\"].isna()\n",
    "test_df.loc[filter1, \"source_system_tab\"] =  \"Z\""
   ]
  },
  {
   "cell_type": "code",
   "execution_count": 35,
   "id": "4322f612",
   "metadata": {},
   "outputs": [],
   "source": [
    "sources = train_df[\"source_system_tab\"].unique()\n",
    "sources_dic = {}\n",
    "for i in range(sources.shape[0]):\n",
    "    sources_dic[sources[i]] = i"
   ]
  },
  {
   "cell_type": "code",
   "execution_count": 36,
   "id": "eb700d86",
   "metadata": {},
   "outputs": [],
   "source": [
    "train_df[\"sources_id\"] =  train_df[\"source_system_tab\"].apply(lambda x: sources_dic[x])\n",
    "test_df[\"sources_id\"] =  test_df[\"source_system_tab\"].apply(lambda x: sources_dic[x])"
   ]
  },
  {
   "cell_type": "code",
   "execution_count": 45,
   "id": "79526409",
   "metadata": {},
   "outputs": [],
   "source": [
    "def member_source_table(n_train1, n_train2):\n",
    "    member_source_1 = train_df[[\"msno_idx\", \"sources_id\", \"target\"]].iloc[n_train1:n_train2,:].groupby([\"msno_idx\", \"sources_id\"]).sum()\n",
    "    member_source_01 = train_df[[\"msno_idx\", \"sources_id\", \"target\"]].iloc[n_train1:n_train2,:].groupby([\"msno_idx\", \"sources_id\"]).count()\n",
    "    member_source_df = member_source_1/(member_source_01 + 1)\n",
    "    \n",
    "    member_source_t = member_source_df.pivot_table(index = \"msno_idx\", columns = [\"sources_id\"])\n",
    "    \n",
    "    return member_source_t.to_numpy()"
   ]
  },
  {
   "cell_type": "code",
   "execution_count": 38,
   "id": "2ab70672",
   "metadata": {},
   "outputs": [],
   "source": [
    "train_df2 = train_df[[\"target\", \"msno_idx\", \"song_idx\"]]\n",
    "train_df2 = train_df2.merge(song_genre_df, on =  \"song_idx\", how = \"left\")"
   ]
  },
  {
   "cell_type": "code",
   "execution_count": 322,
   "id": "646cae98",
   "metadata": {},
   "outputs": [],
   "source": [
    "n_train1 = 100000\n",
    "n_train2 = 400000"
   ]
  },
  {
   "cell_type": "code",
   "execution_count": 328,
   "id": "6e85bfbf",
   "metadata": {},
   "outputs": [],
   "source": [
    "    member_set = set(np.array(train_df[[\"msno_idx\", \"target\"]].iloc[n_train1:n_train2,:].groupby([\"msno_idx\"]).count().query(\"target > 200\").index))\n",
    "    \n",
    "    filter1 = train_df[\"msno_idx\"].iloc[n_train1:n_train2].apply(lambda x: x in member_set)\n",
    "    \n",
    "    train_df3 = train_df2.drop([\"song_idx\"], axis = 1).iloc[n_train1:n_train2,:].loc[filter1]\n",
    "    \n",
    "    \n",
    "    member_genre1 = train_df3.query(\"target == 1\").groupby(\"msno_idx\").sum()\n",
    "    member_genre01 = train_df3.groupby(\"msno_idx\").count()\n",
    "    \n",
    "    member_genre_prob = member_genre1/(member_genre01 + 1)\n",
    "    member_genre_prob = member_genre_prob.reset_index()\n",
    "    \n",
    "    member_genre_prob2 = np.zeros((n_member, n_genre)) \n",
    "    \n",
    "    member_genre_prob2[member_genre_prob[\"msno_idx\"],:] = member_genre_prob.drop([\"msno_idx\", \"target\"], axis = 1).to_numpy()"
   ]
  },
  {
   "cell_type": "code",
   "execution_count": 338,
   "id": "d648f3cf",
   "metadata": {},
   "outputs": [
    {
     "data": {
      "text/html": [
       "<div>\n",
       "<style scoped>\n",
       "    .dataframe tbody tr th:only-of-type {\n",
       "        vertical-align: middle;\n",
       "    }\n",
       "\n",
       "    .dataframe tbody tr th {\n",
       "        vertical-align: top;\n",
       "    }\n",
       "\n",
       "    .dataframe thead th {\n",
       "        text-align: right;\n",
       "    }\n",
       "</style>\n",
       "<table border=\"1\" class=\"dataframe\">\n",
       "  <thead>\n",
       "    <tr style=\"text-align: right;\">\n",
       "      <th></th>\n",
       "      <th>source_system_tab</th>\n",
       "      <th>source_screen_name</th>\n",
       "      <th>source_type</th>\n",
       "      <th>target</th>\n",
       "      <th>msno_idx</th>\n",
       "      <th>song_idx</th>\n",
       "      <th>sources_id</th>\n",
       "    </tr>\n",
       "  </thead>\n",
       "  <tbody>\n",
       "    <tr>\n",
       "      <th>0</th>\n",
       "      <td>explore</td>\n",
       "      <td>Explore</td>\n",
       "      <td>online-playlist</td>\n",
       "      <td>1</td>\n",
       "      <td>21893</td>\n",
       "      <td>1391177</td>\n",
       "      <td>0</td>\n",
       "    </tr>\n",
       "    <tr>\n",
       "      <th>1</th>\n",
       "      <td>my library</td>\n",
       "      <td>Local playlist more</td>\n",
       "      <td>local-playlist</td>\n",
       "      <td>1</td>\n",
       "      <td>26052</td>\n",
       "      <td>1584026</td>\n",
       "      <td>1</td>\n",
       "    </tr>\n",
       "    <tr>\n",
       "      <th>2</th>\n",
       "      <td>my library</td>\n",
       "      <td>Local playlist more</td>\n",
       "      <td>local-playlist</td>\n",
       "      <td>1</td>\n",
       "      <td>26052</td>\n",
       "      <td>456722</td>\n",
       "      <td>1</td>\n",
       "    </tr>\n",
       "    <tr>\n",
       "      <th>3</th>\n",
       "      <td>my library</td>\n",
       "      <td>Local playlist more</td>\n",
       "      <td>local-playlist</td>\n",
       "      <td>1</td>\n",
       "      <td>26052</td>\n",
       "      <td>1072225</td>\n",
       "      <td>1</td>\n",
       "    </tr>\n",
       "    <tr>\n",
       "      <th>4</th>\n",
       "      <td>explore</td>\n",
       "      <td>Explore</td>\n",
       "      <td>online-playlist</td>\n",
       "      <td>1</td>\n",
       "      <td>21893</td>\n",
       "      <td>518476</td>\n",
       "      <td>0</td>\n",
       "    </tr>\n",
       "    <tr>\n",
       "      <th>...</th>\n",
       "      <td>...</td>\n",
       "      <td>...</td>\n",
       "      <td>...</td>\n",
       "      <td>...</td>\n",
       "      <td>...</td>\n",
       "      <td>...</td>\n",
       "      <td>...</td>\n",
       "    </tr>\n",
       "    <tr>\n",
       "      <th>7377413</th>\n",
       "      <td>my library</td>\n",
       "      <td>Local playlist more</td>\n",
       "      <td>local-playlist</td>\n",
       "      <td>1</td>\n",
       "      <td>1605</td>\n",
       "      <td>1492444</td>\n",
       "      <td>1</td>\n",
       "    </tr>\n",
       "    <tr>\n",
       "      <th>7377414</th>\n",
       "      <td>search</td>\n",
       "      <td>Search</td>\n",
       "      <td>song</td>\n",
       "      <td>0</td>\n",
       "      <td>3927</td>\n",
       "      <td>97719</td>\n",
       "      <td>2</td>\n",
       "    </tr>\n",
       "    <tr>\n",
       "      <th>7377415</th>\n",
       "      <td>search</td>\n",
       "      <td>Search</td>\n",
       "      <td>song</td>\n",
       "      <td>1</td>\n",
       "      <td>3927</td>\n",
       "      <td>94999</td>\n",
       "      <td>2</td>\n",
       "    </tr>\n",
       "    <tr>\n",
       "      <th>7377416</th>\n",
       "      <td>discover</td>\n",
       "      <td>Discover Genre</td>\n",
       "      <td>online-playlist</td>\n",
       "      <td>1</td>\n",
       "      <td>5841</td>\n",
       "      <td>890863</td>\n",
       "      <td>3</td>\n",
       "    </tr>\n",
       "    <tr>\n",
       "      <th>7377417</th>\n",
       "      <td>discover</td>\n",
       "      <td>Discover Genre</td>\n",
       "      <td>online-playlist</td>\n",
       "      <td>1</td>\n",
       "      <td>5841</td>\n",
       "      <td>771082</td>\n",
       "      <td>3</td>\n",
       "    </tr>\n",
       "  </tbody>\n",
       "</table>\n",
       "<p>7377418 rows × 7 columns</p>\n",
       "</div>"
      ],
      "text/plain": [
       "        source_system_tab   source_screen_name      source_type  target  \\\n",
       "0                 explore              Explore  online-playlist       1   \n",
       "1              my library  Local playlist more   local-playlist       1   \n",
       "2              my library  Local playlist more   local-playlist       1   \n",
       "3              my library  Local playlist more   local-playlist       1   \n",
       "4                 explore              Explore  online-playlist       1   \n",
       "...                   ...                  ...              ...     ...   \n",
       "7377413        my library  Local playlist more   local-playlist       1   \n",
       "7377414            search               Search             song       0   \n",
       "7377415            search               Search             song       1   \n",
       "7377416          discover       Discover Genre  online-playlist       1   \n",
       "7377417          discover       Discover Genre  online-playlist       1   \n",
       "\n",
       "         msno_idx  song_idx  sources_id  \n",
       "0           21893   1391177           0  \n",
       "1           26052   1584026           1  \n",
       "2           26052    456722           1  \n",
       "3           26052   1072225           1  \n",
       "4           21893    518476           0  \n",
       "...           ...       ...         ...  \n",
       "7377413      1605   1492444           1  \n",
       "7377414      3927     97719           2  \n",
       "7377415      3927     94999           2  \n",
       "7377416      5841    890863           3  \n",
       "7377417      5841    771082           3  \n",
       "\n",
       "[7377418 rows x 7 columns]"
      ]
     },
     "execution_count": 338,
     "metadata": {},
     "output_type": "execute_result"
    }
   ],
   "source": [
    "train_df"
   ]
  },
  {
   "cell_type": "code",
   "execution_count": 337,
   "id": "c4af63dd",
   "metadata": {},
   "outputs": [
    {
     "ename": "UndefinedVariableError",
     "evalue": "name 'genre_0' is not defined",
     "output_type": "error",
     "traceback": [
      "\u001b[1;31m---------------------------------------------------------------------------\u001b[0m",
      "\u001b[1;31mKeyError\u001b[0m                                  Traceback (most recent call last)",
      "\u001b[1;32m~\\anaconda3\\lib\\site-packages\\pandas\\core\\computation\\scope.py\u001b[0m in \u001b[0;36mresolve\u001b[1;34m(self, key, is_local)\u001b[0m\n\u001b[0;32m    199\u001b[0m             \u001b[1;32mif\u001b[0m \u001b[0mself\u001b[0m\u001b[1;33m.\u001b[0m\u001b[0mhas_resolvers\u001b[0m\u001b[1;33m:\u001b[0m\u001b[1;33m\u001b[0m\u001b[1;33m\u001b[0m\u001b[0m\n\u001b[1;32m--> 200\u001b[1;33m                 \u001b[1;32mreturn\u001b[0m \u001b[0mself\u001b[0m\u001b[1;33m.\u001b[0m\u001b[0mresolvers\u001b[0m\u001b[1;33m[\u001b[0m\u001b[0mkey\u001b[0m\u001b[1;33m]\u001b[0m\u001b[1;33m\u001b[0m\u001b[1;33m\u001b[0m\u001b[0m\n\u001b[0m\u001b[0;32m    201\u001b[0m \u001b[1;33m\u001b[0m\u001b[0m\n",
      "\u001b[1;32m~\\anaconda3\\lib\\collections\\__init__.py\u001b[0m in \u001b[0;36m__getitem__\u001b[1;34m(self, key)\u001b[0m\n\u001b[0;32m    940\u001b[0m                 \u001b[1;32mpass\u001b[0m\u001b[1;33m\u001b[0m\u001b[1;33m\u001b[0m\u001b[0m\n\u001b[1;32m--> 941\u001b[1;33m         \u001b[1;32mreturn\u001b[0m \u001b[0mself\u001b[0m\u001b[1;33m.\u001b[0m\u001b[0m__missing__\u001b[0m\u001b[1;33m(\u001b[0m\u001b[0mkey\u001b[0m\u001b[1;33m)\u001b[0m            \u001b[1;31m# support subclasses that define __missing__\u001b[0m\u001b[1;33m\u001b[0m\u001b[1;33m\u001b[0m\u001b[0m\n\u001b[0m\u001b[0;32m    942\u001b[0m \u001b[1;33m\u001b[0m\u001b[0m\n",
      "\u001b[1;32m~\\anaconda3\\lib\\collections\\__init__.py\u001b[0m in \u001b[0;36m__missing__\u001b[1;34m(self, key)\u001b[0m\n\u001b[0;32m    932\u001b[0m     \u001b[1;32mdef\u001b[0m \u001b[0m__missing__\u001b[0m\u001b[1;33m(\u001b[0m\u001b[0mself\u001b[0m\u001b[1;33m,\u001b[0m \u001b[0mkey\u001b[0m\u001b[1;33m)\u001b[0m\u001b[1;33m:\u001b[0m\u001b[1;33m\u001b[0m\u001b[1;33m\u001b[0m\u001b[0m\n\u001b[1;32m--> 933\u001b[1;33m         \u001b[1;32mraise\u001b[0m \u001b[0mKeyError\u001b[0m\u001b[1;33m(\u001b[0m\u001b[0mkey\u001b[0m\u001b[1;33m)\u001b[0m\u001b[1;33m\u001b[0m\u001b[1;33m\u001b[0m\u001b[0m\n\u001b[0m\u001b[0;32m    934\u001b[0m \u001b[1;33m\u001b[0m\u001b[0m\n",
      "\u001b[1;31mKeyError\u001b[0m: 'genre_0'",
      "\nDuring handling of the above exception, another exception occurred:\n",
      "\u001b[1;31mKeyError\u001b[0m                                  Traceback (most recent call last)",
      "\u001b[1;32m~\\anaconda3\\lib\\site-packages\\pandas\\core\\computation\\scope.py\u001b[0m in \u001b[0;36mresolve\u001b[1;34m(self, key, is_local)\u001b[0m\n\u001b[0;32m    210\u001b[0m                 \u001b[1;31m# e.g., df[df > 0]\u001b[0m\u001b[1;33m\u001b[0m\u001b[1;33m\u001b[0m\u001b[0m\n\u001b[1;32m--> 211\u001b[1;33m                 \u001b[1;32mreturn\u001b[0m \u001b[0mself\u001b[0m\u001b[1;33m.\u001b[0m\u001b[0mtemps\u001b[0m\u001b[1;33m[\u001b[0m\u001b[0mkey\u001b[0m\u001b[1;33m]\u001b[0m\u001b[1;33m\u001b[0m\u001b[1;33m\u001b[0m\u001b[0m\n\u001b[0m\u001b[0;32m    212\u001b[0m             \u001b[1;32mexcept\u001b[0m \u001b[0mKeyError\u001b[0m \u001b[1;32mas\u001b[0m \u001b[0merr\u001b[0m\u001b[1;33m:\u001b[0m\u001b[1;33m\u001b[0m\u001b[1;33m\u001b[0m\u001b[0m\n",
      "\u001b[1;31mKeyError\u001b[0m: 'genre_0'",
      "\nThe above exception was the direct cause of the following exception:\n",
      "\u001b[1;31mUndefinedVariableError\u001b[0m                    Traceback (most recent call last)",
      "\u001b[1;32m~\\AppData\\Local\\Temp/ipykernel_34724/286925525.py\u001b[0m in \u001b[0;36m<module>\u001b[1;34m\u001b[0m\n\u001b[1;32m----> 1\u001b[1;33m \u001b[0mtrain_df3\u001b[0m\u001b[1;33m[\u001b[0m\u001b[1;33m[\u001b[0m\u001b[1;34m\"msno_idx\"\u001b[0m\u001b[1;33m,\u001b[0m \u001b[1;34m\"genre_10\"\u001b[0m\u001b[1;33m,\u001b[0m \u001b[1;34m\"target\"\u001b[0m\u001b[1;33m]\u001b[0m\u001b[1;33m]\u001b[0m\u001b[1;33m.\u001b[0m\u001b[0mquery\u001b[0m\u001b[1;33m(\u001b[0m\u001b[1;34m\"genre_0 > 0\"\u001b[0m\u001b[1;33m)\u001b[0m\u001b[1;33m.\u001b[0m\u001b[0mgroupby\u001b[0m\u001b[1;33m(\u001b[0m\u001b[1;33m[\u001b[0m\u001b[1;34m\"msno_idx\"\u001b[0m\u001b[1;33m,\u001b[0m \u001b[1;34m\"genre_0\"\u001b[0m\u001b[1;33m]\u001b[0m\u001b[1;33m)\u001b[0m\u001b[1;33m.\u001b[0m\u001b[0mmean\u001b[0m\u001b[1;33m(\u001b[0m\u001b[1;33m)\u001b[0m\u001b[1;33m\u001b[0m\u001b[1;33m\u001b[0m\u001b[0m\n\u001b[0m",
      "\u001b[1;32m~\\anaconda3\\lib\\site-packages\\pandas\\core\\frame.py\u001b[0m in \u001b[0;36mquery\u001b[1;34m(self, expr, inplace, **kwargs)\u001b[0m\n\u001b[0;32m   4058\u001b[0m         \u001b[0mkwargs\u001b[0m\u001b[1;33m[\u001b[0m\u001b[1;34m\"level\"\u001b[0m\u001b[1;33m]\u001b[0m \u001b[1;33m=\u001b[0m \u001b[0mkwargs\u001b[0m\u001b[1;33m.\u001b[0m\u001b[0mpop\u001b[0m\u001b[1;33m(\u001b[0m\u001b[1;34m\"level\"\u001b[0m\u001b[1;33m,\u001b[0m \u001b[1;36m0\u001b[0m\u001b[1;33m)\u001b[0m \u001b[1;33m+\u001b[0m \u001b[1;36m1\u001b[0m\u001b[1;33m\u001b[0m\u001b[1;33m\u001b[0m\u001b[0m\n\u001b[0;32m   4059\u001b[0m         \u001b[0mkwargs\u001b[0m\u001b[1;33m[\u001b[0m\u001b[1;34m\"target\"\u001b[0m\u001b[1;33m]\u001b[0m \u001b[1;33m=\u001b[0m \u001b[1;32mNone\u001b[0m\u001b[1;33m\u001b[0m\u001b[1;33m\u001b[0m\u001b[0m\n\u001b[1;32m-> 4060\u001b[1;33m         \u001b[0mres\u001b[0m \u001b[1;33m=\u001b[0m \u001b[0mself\u001b[0m\u001b[1;33m.\u001b[0m\u001b[0meval\u001b[0m\u001b[1;33m(\u001b[0m\u001b[0mexpr\u001b[0m\u001b[1;33m,\u001b[0m \u001b[1;33m**\u001b[0m\u001b[0mkwargs\u001b[0m\u001b[1;33m)\u001b[0m\u001b[1;33m\u001b[0m\u001b[1;33m\u001b[0m\u001b[0m\n\u001b[0m\u001b[0;32m   4061\u001b[0m \u001b[1;33m\u001b[0m\u001b[0m\n\u001b[0;32m   4062\u001b[0m         \u001b[1;32mtry\u001b[0m\u001b[1;33m:\u001b[0m\u001b[1;33m\u001b[0m\u001b[1;33m\u001b[0m\u001b[0m\n",
      "\u001b[1;32m~\\anaconda3\\lib\\site-packages\\pandas\\core\\frame.py\u001b[0m in \u001b[0;36meval\u001b[1;34m(self, expr, inplace, **kwargs)\u001b[0m\n\u001b[0;32m   4189\u001b[0m         \u001b[0mkwargs\u001b[0m\u001b[1;33m[\u001b[0m\u001b[1;34m\"resolvers\"\u001b[0m\u001b[1;33m]\u001b[0m \u001b[1;33m=\u001b[0m \u001b[0mkwargs\u001b[0m\u001b[1;33m.\u001b[0m\u001b[0mget\u001b[0m\u001b[1;33m(\u001b[0m\u001b[1;34m\"resolvers\"\u001b[0m\u001b[1;33m,\u001b[0m \u001b[1;33m(\u001b[0m\u001b[1;33m)\u001b[0m\u001b[1;33m)\u001b[0m \u001b[1;33m+\u001b[0m \u001b[0mtuple\u001b[0m\u001b[1;33m(\u001b[0m\u001b[0mresolvers\u001b[0m\u001b[1;33m)\u001b[0m\u001b[1;33m\u001b[0m\u001b[1;33m\u001b[0m\u001b[0m\n\u001b[0;32m   4190\u001b[0m \u001b[1;33m\u001b[0m\u001b[0m\n\u001b[1;32m-> 4191\u001b[1;33m         \u001b[1;32mreturn\u001b[0m \u001b[0m_eval\u001b[0m\u001b[1;33m(\u001b[0m\u001b[0mexpr\u001b[0m\u001b[1;33m,\u001b[0m \u001b[0minplace\u001b[0m\u001b[1;33m=\u001b[0m\u001b[0minplace\u001b[0m\u001b[1;33m,\u001b[0m \u001b[1;33m**\u001b[0m\u001b[0mkwargs\u001b[0m\u001b[1;33m)\u001b[0m\u001b[1;33m\u001b[0m\u001b[1;33m\u001b[0m\u001b[0m\n\u001b[0m\u001b[0;32m   4192\u001b[0m \u001b[1;33m\u001b[0m\u001b[0m\n\u001b[0;32m   4193\u001b[0m     \u001b[1;32mdef\u001b[0m \u001b[0mselect_dtypes\u001b[0m\u001b[1;33m(\u001b[0m\u001b[0mself\u001b[0m\u001b[1;33m,\u001b[0m \u001b[0minclude\u001b[0m\u001b[1;33m=\u001b[0m\u001b[1;32mNone\u001b[0m\u001b[1;33m,\u001b[0m \u001b[0mexclude\u001b[0m\u001b[1;33m=\u001b[0m\u001b[1;32mNone\u001b[0m\u001b[1;33m)\u001b[0m \u001b[1;33m->\u001b[0m \u001b[0mDataFrame\u001b[0m\u001b[1;33m:\u001b[0m\u001b[1;33m\u001b[0m\u001b[1;33m\u001b[0m\u001b[0m\n",
      "\u001b[1;32m~\\anaconda3\\lib\\site-packages\\pandas\\core\\computation\\eval.py\u001b[0m in \u001b[0;36meval\u001b[1;34m(expr, parser, engine, truediv, local_dict, global_dict, resolvers, level, target, inplace)\u001b[0m\n\u001b[0;32m    346\u001b[0m         )\n\u001b[0;32m    347\u001b[0m \u001b[1;33m\u001b[0m\u001b[0m\n\u001b[1;32m--> 348\u001b[1;33m         \u001b[0mparsed_expr\u001b[0m \u001b[1;33m=\u001b[0m \u001b[0mExpr\u001b[0m\u001b[1;33m(\u001b[0m\u001b[0mexpr\u001b[0m\u001b[1;33m,\u001b[0m \u001b[0mengine\u001b[0m\u001b[1;33m=\u001b[0m\u001b[0mengine\u001b[0m\u001b[1;33m,\u001b[0m \u001b[0mparser\u001b[0m\u001b[1;33m=\u001b[0m\u001b[0mparser\u001b[0m\u001b[1;33m,\u001b[0m \u001b[0menv\u001b[0m\u001b[1;33m=\u001b[0m\u001b[0menv\u001b[0m\u001b[1;33m)\u001b[0m\u001b[1;33m\u001b[0m\u001b[1;33m\u001b[0m\u001b[0m\n\u001b[0m\u001b[0;32m    349\u001b[0m \u001b[1;33m\u001b[0m\u001b[0m\n\u001b[0;32m    350\u001b[0m         \u001b[1;31m# construct the engine and evaluate the parsed expression\u001b[0m\u001b[1;33m\u001b[0m\u001b[1;33m\u001b[0m\u001b[0m\n",
      "\u001b[1;32m~\\anaconda3\\lib\\site-packages\\pandas\\core\\computation\\expr.py\u001b[0m in \u001b[0;36m__init__\u001b[1;34m(self, expr, engine, parser, env, level)\u001b[0m\n\u001b[0;32m    804\u001b[0m         \u001b[0mself\u001b[0m\u001b[1;33m.\u001b[0m\u001b[0mparser\u001b[0m \u001b[1;33m=\u001b[0m \u001b[0mparser\u001b[0m\u001b[1;33m\u001b[0m\u001b[1;33m\u001b[0m\u001b[0m\n\u001b[0;32m    805\u001b[0m         \u001b[0mself\u001b[0m\u001b[1;33m.\u001b[0m\u001b[0m_visitor\u001b[0m \u001b[1;33m=\u001b[0m \u001b[0mPARSERS\u001b[0m\u001b[1;33m[\u001b[0m\u001b[0mparser\u001b[0m\u001b[1;33m]\u001b[0m\u001b[1;33m(\u001b[0m\u001b[0mself\u001b[0m\u001b[1;33m.\u001b[0m\u001b[0menv\u001b[0m\u001b[1;33m,\u001b[0m \u001b[0mself\u001b[0m\u001b[1;33m.\u001b[0m\u001b[0mengine\u001b[0m\u001b[1;33m,\u001b[0m \u001b[0mself\u001b[0m\u001b[1;33m.\u001b[0m\u001b[0mparser\u001b[0m\u001b[1;33m)\u001b[0m\u001b[1;33m\u001b[0m\u001b[1;33m\u001b[0m\u001b[0m\n\u001b[1;32m--> 806\u001b[1;33m         \u001b[0mself\u001b[0m\u001b[1;33m.\u001b[0m\u001b[0mterms\u001b[0m \u001b[1;33m=\u001b[0m \u001b[0mself\u001b[0m\u001b[1;33m.\u001b[0m\u001b[0mparse\u001b[0m\u001b[1;33m(\u001b[0m\u001b[1;33m)\u001b[0m\u001b[1;33m\u001b[0m\u001b[1;33m\u001b[0m\u001b[0m\n\u001b[0m\u001b[0;32m    807\u001b[0m \u001b[1;33m\u001b[0m\u001b[0m\n\u001b[0;32m    808\u001b[0m     \u001b[1;33m@\u001b[0m\u001b[0mproperty\u001b[0m\u001b[1;33m\u001b[0m\u001b[1;33m\u001b[0m\u001b[0m\n",
      "\u001b[1;32m~\\anaconda3\\lib\\site-packages\\pandas\\core\\computation\\expr.py\u001b[0m in \u001b[0;36mparse\u001b[1;34m(self)\u001b[0m\n\u001b[0;32m    823\u001b[0m         \u001b[0mParse\u001b[0m \u001b[0man\u001b[0m \u001b[0mexpression\u001b[0m\u001b[1;33m.\u001b[0m\u001b[1;33m\u001b[0m\u001b[1;33m\u001b[0m\u001b[0m\n\u001b[0;32m    824\u001b[0m         \"\"\"\n\u001b[1;32m--> 825\u001b[1;33m         \u001b[1;32mreturn\u001b[0m \u001b[0mself\u001b[0m\u001b[1;33m.\u001b[0m\u001b[0m_visitor\u001b[0m\u001b[1;33m.\u001b[0m\u001b[0mvisit\u001b[0m\u001b[1;33m(\u001b[0m\u001b[0mself\u001b[0m\u001b[1;33m.\u001b[0m\u001b[0mexpr\u001b[0m\u001b[1;33m)\u001b[0m\u001b[1;33m\u001b[0m\u001b[1;33m\u001b[0m\u001b[0m\n\u001b[0m\u001b[0;32m    826\u001b[0m \u001b[1;33m\u001b[0m\u001b[0m\n\u001b[0;32m    827\u001b[0m     \u001b[1;33m@\u001b[0m\u001b[0mproperty\u001b[0m\u001b[1;33m\u001b[0m\u001b[1;33m\u001b[0m\u001b[0m\n",
      "\u001b[1;32m~\\anaconda3\\lib\\site-packages\\pandas\\core\\computation\\expr.py\u001b[0m in \u001b[0;36mvisit\u001b[1;34m(self, node, **kwargs)\u001b[0m\n\u001b[0;32m    409\u001b[0m         \u001b[0mmethod\u001b[0m \u001b[1;33m=\u001b[0m \u001b[1;34m\"visit_\"\u001b[0m \u001b[1;33m+\u001b[0m \u001b[0mtype\u001b[0m\u001b[1;33m(\u001b[0m\u001b[0mnode\u001b[0m\u001b[1;33m)\u001b[0m\u001b[1;33m.\u001b[0m\u001b[0m__name__\u001b[0m\u001b[1;33m\u001b[0m\u001b[1;33m\u001b[0m\u001b[0m\n\u001b[0;32m    410\u001b[0m         \u001b[0mvisitor\u001b[0m \u001b[1;33m=\u001b[0m \u001b[0mgetattr\u001b[0m\u001b[1;33m(\u001b[0m\u001b[0mself\u001b[0m\u001b[1;33m,\u001b[0m \u001b[0mmethod\u001b[0m\u001b[1;33m)\u001b[0m\u001b[1;33m\u001b[0m\u001b[1;33m\u001b[0m\u001b[0m\n\u001b[1;32m--> 411\u001b[1;33m         \u001b[1;32mreturn\u001b[0m \u001b[0mvisitor\u001b[0m\u001b[1;33m(\u001b[0m\u001b[0mnode\u001b[0m\u001b[1;33m,\u001b[0m \u001b[1;33m**\u001b[0m\u001b[0mkwargs\u001b[0m\u001b[1;33m)\u001b[0m\u001b[1;33m\u001b[0m\u001b[1;33m\u001b[0m\u001b[0m\n\u001b[0m\u001b[0;32m    412\u001b[0m \u001b[1;33m\u001b[0m\u001b[0m\n\u001b[0;32m    413\u001b[0m     \u001b[1;32mdef\u001b[0m \u001b[0mvisit_Module\u001b[0m\u001b[1;33m(\u001b[0m\u001b[0mself\u001b[0m\u001b[1;33m,\u001b[0m \u001b[0mnode\u001b[0m\u001b[1;33m,\u001b[0m \u001b[1;33m**\u001b[0m\u001b[0mkwargs\u001b[0m\u001b[1;33m)\u001b[0m\u001b[1;33m:\u001b[0m\u001b[1;33m\u001b[0m\u001b[1;33m\u001b[0m\u001b[0m\n",
      "\u001b[1;32m~\\anaconda3\\lib\\site-packages\\pandas\\core\\computation\\expr.py\u001b[0m in \u001b[0;36mvisit_Module\u001b[1;34m(self, node, **kwargs)\u001b[0m\n\u001b[0;32m    415\u001b[0m             \u001b[1;32mraise\u001b[0m \u001b[0mSyntaxError\u001b[0m\u001b[1;33m(\u001b[0m\u001b[1;34m\"only a single expression is allowed\"\u001b[0m\u001b[1;33m)\u001b[0m\u001b[1;33m\u001b[0m\u001b[1;33m\u001b[0m\u001b[0m\n\u001b[0;32m    416\u001b[0m         \u001b[0mexpr\u001b[0m \u001b[1;33m=\u001b[0m \u001b[0mnode\u001b[0m\u001b[1;33m.\u001b[0m\u001b[0mbody\u001b[0m\u001b[1;33m[\u001b[0m\u001b[1;36m0\u001b[0m\u001b[1;33m]\u001b[0m\u001b[1;33m\u001b[0m\u001b[1;33m\u001b[0m\u001b[0m\n\u001b[1;32m--> 417\u001b[1;33m         \u001b[1;32mreturn\u001b[0m \u001b[0mself\u001b[0m\u001b[1;33m.\u001b[0m\u001b[0mvisit\u001b[0m\u001b[1;33m(\u001b[0m\u001b[0mexpr\u001b[0m\u001b[1;33m,\u001b[0m \u001b[1;33m**\u001b[0m\u001b[0mkwargs\u001b[0m\u001b[1;33m)\u001b[0m\u001b[1;33m\u001b[0m\u001b[1;33m\u001b[0m\u001b[0m\n\u001b[0m\u001b[0;32m    418\u001b[0m \u001b[1;33m\u001b[0m\u001b[0m\n\u001b[0;32m    419\u001b[0m     \u001b[1;32mdef\u001b[0m \u001b[0mvisit_Expr\u001b[0m\u001b[1;33m(\u001b[0m\u001b[0mself\u001b[0m\u001b[1;33m,\u001b[0m \u001b[0mnode\u001b[0m\u001b[1;33m,\u001b[0m \u001b[1;33m**\u001b[0m\u001b[0mkwargs\u001b[0m\u001b[1;33m)\u001b[0m\u001b[1;33m:\u001b[0m\u001b[1;33m\u001b[0m\u001b[1;33m\u001b[0m\u001b[0m\n",
      "\u001b[1;32m~\\anaconda3\\lib\\site-packages\\pandas\\core\\computation\\expr.py\u001b[0m in \u001b[0;36mvisit\u001b[1;34m(self, node, **kwargs)\u001b[0m\n\u001b[0;32m    409\u001b[0m         \u001b[0mmethod\u001b[0m \u001b[1;33m=\u001b[0m \u001b[1;34m\"visit_\"\u001b[0m \u001b[1;33m+\u001b[0m \u001b[0mtype\u001b[0m\u001b[1;33m(\u001b[0m\u001b[0mnode\u001b[0m\u001b[1;33m)\u001b[0m\u001b[1;33m.\u001b[0m\u001b[0m__name__\u001b[0m\u001b[1;33m\u001b[0m\u001b[1;33m\u001b[0m\u001b[0m\n\u001b[0;32m    410\u001b[0m         \u001b[0mvisitor\u001b[0m \u001b[1;33m=\u001b[0m \u001b[0mgetattr\u001b[0m\u001b[1;33m(\u001b[0m\u001b[0mself\u001b[0m\u001b[1;33m,\u001b[0m \u001b[0mmethod\u001b[0m\u001b[1;33m)\u001b[0m\u001b[1;33m\u001b[0m\u001b[1;33m\u001b[0m\u001b[0m\n\u001b[1;32m--> 411\u001b[1;33m         \u001b[1;32mreturn\u001b[0m \u001b[0mvisitor\u001b[0m\u001b[1;33m(\u001b[0m\u001b[0mnode\u001b[0m\u001b[1;33m,\u001b[0m \u001b[1;33m**\u001b[0m\u001b[0mkwargs\u001b[0m\u001b[1;33m)\u001b[0m\u001b[1;33m\u001b[0m\u001b[1;33m\u001b[0m\u001b[0m\n\u001b[0m\u001b[0;32m    412\u001b[0m \u001b[1;33m\u001b[0m\u001b[0m\n\u001b[0;32m    413\u001b[0m     \u001b[1;32mdef\u001b[0m \u001b[0mvisit_Module\u001b[0m\u001b[1;33m(\u001b[0m\u001b[0mself\u001b[0m\u001b[1;33m,\u001b[0m \u001b[0mnode\u001b[0m\u001b[1;33m,\u001b[0m \u001b[1;33m**\u001b[0m\u001b[0mkwargs\u001b[0m\u001b[1;33m)\u001b[0m\u001b[1;33m:\u001b[0m\u001b[1;33m\u001b[0m\u001b[1;33m\u001b[0m\u001b[0m\n",
      "\u001b[1;32m~\\anaconda3\\lib\\site-packages\\pandas\\core\\computation\\expr.py\u001b[0m in \u001b[0;36mvisit_Expr\u001b[1;34m(self, node, **kwargs)\u001b[0m\n\u001b[0;32m    418\u001b[0m \u001b[1;33m\u001b[0m\u001b[0m\n\u001b[0;32m    419\u001b[0m     \u001b[1;32mdef\u001b[0m \u001b[0mvisit_Expr\u001b[0m\u001b[1;33m(\u001b[0m\u001b[0mself\u001b[0m\u001b[1;33m,\u001b[0m \u001b[0mnode\u001b[0m\u001b[1;33m,\u001b[0m \u001b[1;33m**\u001b[0m\u001b[0mkwargs\u001b[0m\u001b[1;33m)\u001b[0m\u001b[1;33m:\u001b[0m\u001b[1;33m\u001b[0m\u001b[1;33m\u001b[0m\u001b[0m\n\u001b[1;32m--> 420\u001b[1;33m         \u001b[1;32mreturn\u001b[0m \u001b[0mself\u001b[0m\u001b[1;33m.\u001b[0m\u001b[0mvisit\u001b[0m\u001b[1;33m(\u001b[0m\u001b[0mnode\u001b[0m\u001b[1;33m.\u001b[0m\u001b[0mvalue\u001b[0m\u001b[1;33m,\u001b[0m \u001b[1;33m**\u001b[0m\u001b[0mkwargs\u001b[0m\u001b[1;33m)\u001b[0m\u001b[1;33m\u001b[0m\u001b[1;33m\u001b[0m\u001b[0m\n\u001b[0m\u001b[0;32m    421\u001b[0m \u001b[1;33m\u001b[0m\u001b[0m\n\u001b[0;32m    422\u001b[0m     \u001b[1;32mdef\u001b[0m \u001b[0m_rewrite_membership_op\u001b[0m\u001b[1;33m(\u001b[0m\u001b[0mself\u001b[0m\u001b[1;33m,\u001b[0m \u001b[0mnode\u001b[0m\u001b[1;33m,\u001b[0m \u001b[0mleft\u001b[0m\u001b[1;33m,\u001b[0m \u001b[0mright\u001b[0m\u001b[1;33m)\u001b[0m\u001b[1;33m:\u001b[0m\u001b[1;33m\u001b[0m\u001b[1;33m\u001b[0m\u001b[0m\n",
      "\u001b[1;32m~\\anaconda3\\lib\\site-packages\\pandas\\core\\computation\\expr.py\u001b[0m in \u001b[0;36mvisit\u001b[1;34m(self, node, **kwargs)\u001b[0m\n\u001b[0;32m    409\u001b[0m         \u001b[0mmethod\u001b[0m \u001b[1;33m=\u001b[0m \u001b[1;34m\"visit_\"\u001b[0m \u001b[1;33m+\u001b[0m \u001b[0mtype\u001b[0m\u001b[1;33m(\u001b[0m\u001b[0mnode\u001b[0m\u001b[1;33m)\u001b[0m\u001b[1;33m.\u001b[0m\u001b[0m__name__\u001b[0m\u001b[1;33m\u001b[0m\u001b[1;33m\u001b[0m\u001b[0m\n\u001b[0;32m    410\u001b[0m         \u001b[0mvisitor\u001b[0m \u001b[1;33m=\u001b[0m \u001b[0mgetattr\u001b[0m\u001b[1;33m(\u001b[0m\u001b[0mself\u001b[0m\u001b[1;33m,\u001b[0m \u001b[0mmethod\u001b[0m\u001b[1;33m)\u001b[0m\u001b[1;33m\u001b[0m\u001b[1;33m\u001b[0m\u001b[0m\n\u001b[1;32m--> 411\u001b[1;33m         \u001b[1;32mreturn\u001b[0m \u001b[0mvisitor\u001b[0m\u001b[1;33m(\u001b[0m\u001b[0mnode\u001b[0m\u001b[1;33m,\u001b[0m \u001b[1;33m**\u001b[0m\u001b[0mkwargs\u001b[0m\u001b[1;33m)\u001b[0m\u001b[1;33m\u001b[0m\u001b[1;33m\u001b[0m\u001b[0m\n\u001b[0m\u001b[0;32m    412\u001b[0m \u001b[1;33m\u001b[0m\u001b[0m\n\u001b[0;32m    413\u001b[0m     \u001b[1;32mdef\u001b[0m \u001b[0mvisit_Module\u001b[0m\u001b[1;33m(\u001b[0m\u001b[0mself\u001b[0m\u001b[1;33m,\u001b[0m \u001b[0mnode\u001b[0m\u001b[1;33m,\u001b[0m \u001b[1;33m**\u001b[0m\u001b[0mkwargs\u001b[0m\u001b[1;33m)\u001b[0m\u001b[1;33m:\u001b[0m\u001b[1;33m\u001b[0m\u001b[1;33m\u001b[0m\u001b[0m\n",
      "\u001b[1;32m~\\anaconda3\\lib\\site-packages\\pandas\\core\\computation\\expr.py\u001b[0m in \u001b[0;36mvisit_Compare\u001b[1;34m(self, node, **kwargs)\u001b[0m\n\u001b[0;32m    716\u001b[0m             \u001b[0mop\u001b[0m \u001b[1;33m=\u001b[0m \u001b[0mself\u001b[0m\u001b[1;33m.\u001b[0m\u001b[0mtranslate_In\u001b[0m\u001b[1;33m(\u001b[0m\u001b[0mops\u001b[0m\u001b[1;33m[\u001b[0m\u001b[1;36m0\u001b[0m\u001b[1;33m]\u001b[0m\u001b[1;33m)\u001b[0m\u001b[1;33m\u001b[0m\u001b[1;33m\u001b[0m\u001b[0m\n\u001b[0;32m    717\u001b[0m             \u001b[0mbinop\u001b[0m \u001b[1;33m=\u001b[0m \u001b[0mast\u001b[0m\u001b[1;33m.\u001b[0m\u001b[0mBinOp\u001b[0m\u001b[1;33m(\u001b[0m\u001b[0mop\u001b[0m\u001b[1;33m=\u001b[0m\u001b[0mop\u001b[0m\u001b[1;33m,\u001b[0m \u001b[0mleft\u001b[0m\u001b[1;33m=\u001b[0m\u001b[0mnode\u001b[0m\u001b[1;33m.\u001b[0m\u001b[0mleft\u001b[0m\u001b[1;33m,\u001b[0m \u001b[0mright\u001b[0m\u001b[1;33m=\u001b[0m\u001b[0mcomps\u001b[0m\u001b[1;33m[\u001b[0m\u001b[1;36m0\u001b[0m\u001b[1;33m]\u001b[0m\u001b[1;33m)\u001b[0m\u001b[1;33m\u001b[0m\u001b[1;33m\u001b[0m\u001b[0m\n\u001b[1;32m--> 718\u001b[1;33m             \u001b[1;32mreturn\u001b[0m \u001b[0mself\u001b[0m\u001b[1;33m.\u001b[0m\u001b[0mvisit\u001b[0m\u001b[1;33m(\u001b[0m\u001b[0mbinop\u001b[0m\u001b[1;33m)\u001b[0m\u001b[1;33m\u001b[0m\u001b[1;33m\u001b[0m\u001b[0m\n\u001b[0m\u001b[0;32m    719\u001b[0m \u001b[1;33m\u001b[0m\u001b[0m\n\u001b[0;32m    720\u001b[0m         \u001b[1;31m# recursive case: we have a chained comparison, a CMP b CMP c, etc.\u001b[0m\u001b[1;33m\u001b[0m\u001b[1;33m\u001b[0m\u001b[0m\n",
      "\u001b[1;32m~\\anaconda3\\lib\\site-packages\\pandas\\core\\computation\\expr.py\u001b[0m in \u001b[0;36mvisit\u001b[1;34m(self, node, **kwargs)\u001b[0m\n\u001b[0;32m    409\u001b[0m         \u001b[0mmethod\u001b[0m \u001b[1;33m=\u001b[0m \u001b[1;34m\"visit_\"\u001b[0m \u001b[1;33m+\u001b[0m \u001b[0mtype\u001b[0m\u001b[1;33m(\u001b[0m\u001b[0mnode\u001b[0m\u001b[1;33m)\u001b[0m\u001b[1;33m.\u001b[0m\u001b[0m__name__\u001b[0m\u001b[1;33m\u001b[0m\u001b[1;33m\u001b[0m\u001b[0m\n\u001b[0;32m    410\u001b[0m         \u001b[0mvisitor\u001b[0m \u001b[1;33m=\u001b[0m \u001b[0mgetattr\u001b[0m\u001b[1;33m(\u001b[0m\u001b[0mself\u001b[0m\u001b[1;33m,\u001b[0m \u001b[0mmethod\u001b[0m\u001b[1;33m)\u001b[0m\u001b[1;33m\u001b[0m\u001b[1;33m\u001b[0m\u001b[0m\n\u001b[1;32m--> 411\u001b[1;33m         \u001b[1;32mreturn\u001b[0m \u001b[0mvisitor\u001b[0m\u001b[1;33m(\u001b[0m\u001b[0mnode\u001b[0m\u001b[1;33m,\u001b[0m \u001b[1;33m**\u001b[0m\u001b[0mkwargs\u001b[0m\u001b[1;33m)\u001b[0m\u001b[1;33m\u001b[0m\u001b[1;33m\u001b[0m\u001b[0m\n\u001b[0m\u001b[0;32m    412\u001b[0m \u001b[1;33m\u001b[0m\u001b[0m\n\u001b[0;32m    413\u001b[0m     \u001b[1;32mdef\u001b[0m \u001b[0mvisit_Module\u001b[0m\u001b[1;33m(\u001b[0m\u001b[0mself\u001b[0m\u001b[1;33m,\u001b[0m \u001b[0mnode\u001b[0m\u001b[1;33m,\u001b[0m \u001b[1;33m**\u001b[0m\u001b[0mkwargs\u001b[0m\u001b[1;33m)\u001b[0m\u001b[1;33m:\u001b[0m\u001b[1;33m\u001b[0m\u001b[1;33m\u001b[0m\u001b[0m\n",
      "\u001b[1;32m~\\anaconda3\\lib\\site-packages\\pandas\\core\\computation\\expr.py\u001b[0m in \u001b[0;36mvisit_BinOp\u001b[1;34m(self, node, **kwargs)\u001b[0m\n\u001b[0;32m    530\u001b[0m \u001b[1;33m\u001b[0m\u001b[0m\n\u001b[0;32m    531\u001b[0m     \u001b[1;32mdef\u001b[0m \u001b[0mvisit_BinOp\u001b[0m\u001b[1;33m(\u001b[0m\u001b[0mself\u001b[0m\u001b[1;33m,\u001b[0m \u001b[0mnode\u001b[0m\u001b[1;33m,\u001b[0m \u001b[1;33m**\u001b[0m\u001b[0mkwargs\u001b[0m\u001b[1;33m)\u001b[0m\u001b[1;33m:\u001b[0m\u001b[1;33m\u001b[0m\u001b[1;33m\u001b[0m\u001b[0m\n\u001b[1;32m--> 532\u001b[1;33m         \u001b[0mop\u001b[0m\u001b[1;33m,\u001b[0m \u001b[0mop_class\u001b[0m\u001b[1;33m,\u001b[0m \u001b[0mleft\u001b[0m\u001b[1;33m,\u001b[0m \u001b[0mright\u001b[0m \u001b[1;33m=\u001b[0m \u001b[0mself\u001b[0m\u001b[1;33m.\u001b[0m\u001b[0m_maybe_transform_eq_ne\u001b[0m\u001b[1;33m(\u001b[0m\u001b[0mnode\u001b[0m\u001b[1;33m)\u001b[0m\u001b[1;33m\u001b[0m\u001b[1;33m\u001b[0m\u001b[0m\n\u001b[0m\u001b[0;32m    533\u001b[0m         \u001b[0mleft\u001b[0m\u001b[1;33m,\u001b[0m \u001b[0mright\u001b[0m \u001b[1;33m=\u001b[0m \u001b[0mself\u001b[0m\u001b[1;33m.\u001b[0m\u001b[0m_maybe_downcast_constants\u001b[0m\u001b[1;33m(\u001b[0m\u001b[0mleft\u001b[0m\u001b[1;33m,\u001b[0m \u001b[0mright\u001b[0m\u001b[1;33m)\u001b[0m\u001b[1;33m\u001b[0m\u001b[1;33m\u001b[0m\u001b[0m\n\u001b[0;32m    534\u001b[0m         \u001b[1;32mreturn\u001b[0m \u001b[0mself\u001b[0m\u001b[1;33m.\u001b[0m\u001b[0m_maybe_evaluate_binop\u001b[0m\u001b[1;33m(\u001b[0m\u001b[0mop\u001b[0m\u001b[1;33m,\u001b[0m \u001b[0mop_class\u001b[0m\u001b[1;33m,\u001b[0m \u001b[0mleft\u001b[0m\u001b[1;33m,\u001b[0m \u001b[0mright\u001b[0m\u001b[1;33m)\u001b[0m\u001b[1;33m\u001b[0m\u001b[1;33m\u001b[0m\u001b[0m\n",
      "\u001b[1;32m~\\anaconda3\\lib\\site-packages\\pandas\\core\\computation\\expr.py\u001b[0m in \u001b[0;36m_maybe_transform_eq_ne\u001b[1;34m(self, node, left, right)\u001b[0m\n\u001b[0;32m    450\u001b[0m     \u001b[1;32mdef\u001b[0m \u001b[0m_maybe_transform_eq_ne\u001b[0m\u001b[1;33m(\u001b[0m\u001b[0mself\u001b[0m\u001b[1;33m,\u001b[0m \u001b[0mnode\u001b[0m\u001b[1;33m,\u001b[0m \u001b[0mleft\u001b[0m\u001b[1;33m=\u001b[0m\u001b[1;32mNone\u001b[0m\u001b[1;33m,\u001b[0m \u001b[0mright\u001b[0m\u001b[1;33m=\u001b[0m\u001b[1;32mNone\u001b[0m\u001b[1;33m)\u001b[0m\u001b[1;33m:\u001b[0m\u001b[1;33m\u001b[0m\u001b[1;33m\u001b[0m\u001b[0m\n\u001b[0;32m    451\u001b[0m         \u001b[1;32mif\u001b[0m \u001b[0mleft\u001b[0m \u001b[1;32mis\u001b[0m \u001b[1;32mNone\u001b[0m\u001b[1;33m:\u001b[0m\u001b[1;33m\u001b[0m\u001b[1;33m\u001b[0m\u001b[0m\n\u001b[1;32m--> 452\u001b[1;33m             \u001b[0mleft\u001b[0m \u001b[1;33m=\u001b[0m \u001b[0mself\u001b[0m\u001b[1;33m.\u001b[0m\u001b[0mvisit\u001b[0m\u001b[1;33m(\u001b[0m\u001b[0mnode\u001b[0m\u001b[1;33m.\u001b[0m\u001b[0mleft\u001b[0m\u001b[1;33m,\u001b[0m \u001b[0mside\u001b[0m\u001b[1;33m=\u001b[0m\u001b[1;34m\"left\"\u001b[0m\u001b[1;33m)\u001b[0m\u001b[1;33m\u001b[0m\u001b[1;33m\u001b[0m\u001b[0m\n\u001b[0m\u001b[0;32m    453\u001b[0m         \u001b[1;32mif\u001b[0m \u001b[0mright\u001b[0m \u001b[1;32mis\u001b[0m \u001b[1;32mNone\u001b[0m\u001b[1;33m:\u001b[0m\u001b[1;33m\u001b[0m\u001b[1;33m\u001b[0m\u001b[0m\n\u001b[0;32m    454\u001b[0m             \u001b[0mright\u001b[0m \u001b[1;33m=\u001b[0m \u001b[0mself\u001b[0m\u001b[1;33m.\u001b[0m\u001b[0mvisit\u001b[0m\u001b[1;33m(\u001b[0m\u001b[0mnode\u001b[0m\u001b[1;33m.\u001b[0m\u001b[0mright\u001b[0m\u001b[1;33m,\u001b[0m \u001b[0mside\u001b[0m\u001b[1;33m=\u001b[0m\u001b[1;34m\"right\"\u001b[0m\u001b[1;33m)\u001b[0m\u001b[1;33m\u001b[0m\u001b[1;33m\u001b[0m\u001b[0m\n",
      "\u001b[1;32m~\\anaconda3\\lib\\site-packages\\pandas\\core\\computation\\expr.py\u001b[0m in \u001b[0;36mvisit\u001b[1;34m(self, node, **kwargs)\u001b[0m\n\u001b[0;32m    409\u001b[0m         \u001b[0mmethod\u001b[0m \u001b[1;33m=\u001b[0m \u001b[1;34m\"visit_\"\u001b[0m \u001b[1;33m+\u001b[0m \u001b[0mtype\u001b[0m\u001b[1;33m(\u001b[0m\u001b[0mnode\u001b[0m\u001b[1;33m)\u001b[0m\u001b[1;33m.\u001b[0m\u001b[0m__name__\u001b[0m\u001b[1;33m\u001b[0m\u001b[1;33m\u001b[0m\u001b[0m\n\u001b[0;32m    410\u001b[0m         \u001b[0mvisitor\u001b[0m \u001b[1;33m=\u001b[0m \u001b[0mgetattr\u001b[0m\u001b[1;33m(\u001b[0m\u001b[0mself\u001b[0m\u001b[1;33m,\u001b[0m \u001b[0mmethod\u001b[0m\u001b[1;33m)\u001b[0m\u001b[1;33m\u001b[0m\u001b[1;33m\u001b[0m\u001b[0m\n\u001b[1;32m--> 411\u001b[1;33m         \u001b[1;32mreturn\u001b[0m \u001b[0mvisitor\u001b[0m\u001b[1;33m(\u001b[0m\u001b[0mnode\u001b[0m\u001b[1;33m,\u001b[0m \u001b[1;33m**\u001b[0m\u001b[0mkwargs\u001b[0m\u001b[1;33m)\u001b[0m\u001b[1;33m\u001b[0m\u001b[1;33m\u001b[0m\u001b[0m\n\u001b[0m\u001b[0;32m    412\u001b[0m \u001b[1;33m\u001b[0m\u001b[0m\n\u001b[0;32m    413\u001b[0m     \u001b[1;32mdef\u001b[0m \u001b[0mvisit_Module\u001b[0m\u001b[1;33m(\u001b[0m\u001b[0mself\u001b[0m\u001b[1;33m,\u001b[0m \u001b[0mnode\u001b[0m\u001b[1;33m,\u001b[0m \u001b[1;33m**\u001b[0m\u001b[0mkwargs\u001b[0m\u001b[1;33m)\u001b[0m\u001b[1;33m:\u001b[0m\u001b[1;33m\u001b[0m\u001b[1;33m\u001b[0m\u001b[0m\n",
      "\u001b[1;32m~\\anaconda3\\lib\\site-packages\\pandas\\core\\computation\\expr.py\u001b[0m in \u001b[0;36mvisit_Name\u001b[1;34m(self, node, **kwargs)\u001b[0m\n\u001b[0;32m    543\u001b[0m \u001b[1;33m\u001b[0m\u001b[0m\n\u001b[0;32m    544\u001b[0m     \u001b[1;32mdef\u001b[0m \u001b[0mvisit_Name\u001b[0m\u001b[1;33m(\u001b[0m\u001b[0mself\u001b[0m\u001b[1;33m,\u001b[0m \u001b[0mnode\u001b[0m\u001b[1;33m,\u001b[0m \u001b[1;33m**\u001b[0m\u001b[0mkwargs\u001b[0m\u001b[1;33m)\u001b[0m\u001b[1;33m:\u001b[0m\u001b[1;33m\u001b[0m\u001b[1;33m\u001b[0m\u001b[0m\n\u001b[1;32m--> 545\u001b[1;33m         \u001b[1;32mreturn\u001b[0m \u001b[0mself\u001b[0m\u001b[1;33m.\u001b[0m\u001b[0mterm_type\u001b[0m\u001b[1;33m(\u001b[0m\u001b[0mnode\u001b[0m\u001b[1;33m.\u001b[0m\u001b[0mid\u001b[0m\u001b[1;33m,\u001b[0m \u001b[0mself\u001b[0m\u001b[1;33m.\u001b[0m\u001b[0menv\u001b[0m\u001b[1;33m,\u001b[0m \u001b[1;33m**\u001b[0m\u001b[0mkwargs\u001b[0m\u001b[1;33m)\u001b[0m\u001b[1;33m\u001b[0m\u001b[1;33m\u001b[0m\u001b[0m\n\u001b[0m\u001b[0;32m    546\u001b[0m \u001b[1;33m\u001b[0m\u001b[0m\n\u001b[0;32m    547\u001b[0m     \u001b[1;32mdef\u001b[0m \u001b[0mvisit_NameConstant\u001b[0m\u001b[1;33m(\u001b[0m\u001b[0mself\u001b[0m\u001b[1;33m,\u001b[0m \u001b[0mnode\u001b[0m\u001b[1;33m,\u001b[0m \u001b[1;33m**\u001b[0m\u001b[0mkwargs\u001b[0m\u001b[1;33m)\u001b[0m\u001b[1;33m:\u001b[0m\u001b[1;33m\u001b[0m\u001b[1;33m\u001b[0m\u001b[0m\n",
      "\u001b[1;32m~\\anaconda3\\lib\\site-packages\\pandas\\core\\computation\\ops.py\u001b[0m in \u001b[0;36m__init__\u001b[1;34m(self, name, env, side, encoding)\u001b[0m\n\u001b[0;32m     96\u001b[0m         \u001b[0mtname\u001b[0m \u001b[1;33m=\u001b[0m \u001b[0mstr\u001b[0m\u001b[1;33m(\u001b[0m\u001b[0mname\u001b[0m\u001b[1;33m)\u001b[0m\u001b[1;33m\u001b[0m\u001b[1;33m\u001b[0m\u001b[0m\n\u001b[0;32m     97\u001b[0m         \u001b[0mself\u001b[0m\u001b[1;33m.\u001b[0m\u001b[0mis_local\u001b[0m \u001b[1;33m=\u001b[0m \u001b[0mtname\u001b[0m\u001b[1;33m.\u001b[0m\u001b[0mstartswith\u001b[0m\u001b[1;33m(\u001b[0m\u001b[0mLOCAL_TAG\u001b[0m\u001b[1;33m)\u001b[0m \u001b[1;32mor\u001b[0m \u001b[0mtname\u001b[0m \u001b[1;32min\u001b[0m \u001b[0mDEFAULT_GLOBALS\u001b[0m\u001b[1;33m\u001b[0m\u001b[1;33m\u001b[0m\u001b[0m\n\u001b[1;32m---> 98\u001b[1;33m         \u001b[0mself\u001b[0m\u001b[1;33m.\u001b[0m\u001b[0m_value\u001b[0m \u001b[1;33m=\u001b[0m \u001b[0mself\u001b[0m\u001b[1;33m.\u001b[0m\u001b[0m_resolve_name\u001b[0m\u001b[1;33m(\u001b[0m\u001b[1;33m)\u001b[0m\u001b[1;33m\u001b[0m\u001b[1;33m\u001b[0m\u001b[0m\n\u001b[0m\u001b[0;32m     99\u001b[0m         \u001b[0mself\u001b[0m\u001b[1;33m.\u001b[0m\u001b[0mencoding\u001b[0m \u001b[1;33m=\u001b[0m \u001b[0mencoding\u001b[0m\u001b[1;33m\u001b[0m\u001b[1;33m\u001b[0m\u001b[0m\n\u001b[0;32m    100\u001b[0m \u001b[1;33m\u001b[0m\u001b[0m\n",
      "\u001b[1;32m~\\anaconda3\\lib\\site-packages\\pandas\\core\\computation\\ops.py\u001b[0m in \u001b[0;36m_resolve_name\u001b[1;34m(self)\u001b[0m\n\u001b[0;32m    113\u001b[0m \u001b[1;33m\u001b[0m\u001b[0m\n\u001b[0;32m    114\u001b[0m     \u001b[1;32mdef\u001b[0m \u001b[0m_resolve_name\u001b[0m\u001b[1;33m(\u001b[0m\u001b[0mself\u001b[0m\u001b[1;33m)\u001b[0m\u001b[1;33m:\u001b[0m\u001b[1;33m\u001b[0m\u001b[1;33m\u001b[0m\u001b[0m\n\u001b[1;32m--> 115\u001b[1;33m         \u001b[0mres\u001b[0m \u001b[1;33m=\u001b[0m \u001b[0mself\u001b[0m\u001b[1;33m.\u001b[0m\u001b[0menv\u001b[0m\u001b[1;33m.\u001b[0m\u001b[0mresolve\u001b[0m\u001b[1;33m(\u001b[0m\u001b[0mself\u001b[0m\u001b[1;33m.\u001b[0m\u001b[0mlocal_name\u001b[0m\u001b[1;33m,\u001b[0m \u001b[0mis_local\u001b[0m\u001b[1;33m=\u001b[0m\u001b[0mself\u001b[0m\u001b[1;33m.\u001b[0m\u001b[0mis_local\u001b[0m\u001b[1;33m)\u001b[0m\u001b[1;33m\u001b[0m\u001b[1;33m\u001b[0m\u001b[0m\n\u001b[0m\u001b[0;32m    116\u001b[0m         \u001b[0mself\u001b[0m\u001b[1;33m.\u001b[0m\u001b[0mupdate\u001b[0m\u001b[1;33m(\u001b[0m\u001b[0mres\u001b[0m\u001b[1;33m)\u001b[0m\u001b[1;33m\u001b[0m\u001b[1;33m\u001b[0m\u001b[0m\n\u001b[0;32m    117\u001b[0m \u001b[1;33m\u001b[0m\u001b[0m\n",
      "\u001b[1;32m~\\anaconda3\\lib\\site-packages\\pandas\\core\\computation\\scope.py\u001b[0m in \u001b[0;36mresolve\u001b[1;34m(self, key, is_local)\u001b[0m\n\u001b[0;32m    214\u001b[0m                 \u001b[1;32mfrom\u001b[0m \u001b[0mpandas\u001b[0m\u001b[1;33m.\u001b[0m\u001b[0mcore\u001b[0m\u001b[1;33m.\u001b[0m\u001b[0mcomputation\u001b[0m\u001b[1;33m.\u001b[0m\u001b[0mops\u001b[0m \u001b[1;32mimport\u001b[0m \u001b[0mUndefinedVariableError\u001b[0m\u001b[1;33m\u001b[0m\u001b[1;33m\u001b[0m\u001b[0m\n\u001b[0;32m    215\u001b[0m \u001b[1;33m\u001b[0m\u001b[0m\n\u001b[1;32m--> 216\u001b[1;33m                 \u001b[1;32mraise\u001b[0m \u001b[0mUndefinedVariableError\u001b[0m\u001b[1;33m(\u001b[0m\u001b[0mkey\u001b[0m\u001b[1;33m,\u001b[0m \u001b[0mis_local\u001b[0m\u001b[1;33m)\u001b[0m \u001b[1;32mfrom\u001b[0m \u001b[0merr\u001b[0m\u001b[1;33m\u001b[0m\u001b[1;33m\u001b[0m\u001b[0m\n\u001b[0m\u001b[0;32m    217\u001b[0m \u001b[1;33m\u001b[0m\u001b[0m\n\u001b[0;32m    218\u001b[0m     \u001b[1;32mdef\u001b[0m \u001b[0mswapkey\u001b[0m\u001b[1;33m(\u001b[0m\u001b[0mself\u001b[0m\u001b[1;33m,\u001b[0m \u001b[0mold_key\u001b[0m\u001b[1;33m:\u001b[0m \u001b[0mstr\u001b[0m\u001b[1;33m,\u001b[0m \u001b[0mnew_key\u001b[0m\u001b[1;33m:\u001b[0m \u001b[0mstr\u001b[0m\u001b[1;33m,\u001b[0m \u001b[0mnew_value\u001b[0m\u001b[1;33m=\u001b[0m\u001b[1;32mNone\u001b[0m\u001b[1;33m)\u001b[0m \u001b[1;33m->\u001b[0m \u001b[1;32mNone\u001b[0m\u001b[1;33m:\u001b[0m\u001b[1;33m\u001b[0m\u001b[1;33m\u001b[0m\u001b[0m\n",
      "\u001b[1;31mUndefinedVariableError\u001b[0m: name 'genre_0' is not defined"
     ]
    }
   ],
   "source": []
  },
  {
   "cell_type": "code",
   "execution_count": 330,
   "id": "f5ea35a9",
   "metadata": {},
   "outputs": [
    {
     "data": {
      "text/plain": [
       "array([0.        , 0.        , 0.        , 0.        , 0.        ,\n",
       "       0.        , 0.        , 0.        , 0.        , 0.01444043,\n",
       "       0.        , 0.01083032, 0.        , 0.        , 0.        ,\n",
       "       0.        , 0.        , 0.        , 0.06498195, 0.        ,\n",
       "       0.        , 0.        , 0.        , 0.        , 0.        ,\n",
       "       0.        , 0.        , 0.        , 0.        , 0.        ,\n",
       "       0.        , 0.        , 0.        , 0.        , 0.        ,\n",
       "       0.        , 0.        , 0.        , 0.        , 0.        ,\n",
       "       0.        , 0.        , 0.        , 0.        , 0.        ,\n",
       "       0.        , 0.50180505, 0.        , 0.        , 0.01083032,\n",
       "       0.        , 0.        , 0.        , 0.        , 0.        ,\n",
       "       0.        , 0.        , 0.        , 0.        , 0.        ,\n",
       "       0.        , 0.        , 0.        , 0.        , 0.        ,\n",
       "       0.        , 0.        , 0.        , 0.        , 0.        ,\n",
       "       0.        , 0.        , 0.        , 0.        , 0.        ,\n",
       "       0.        , 0.01083032, 0.        , 0.        , 0.        ,\n",
       "       0.        , 0.        , 0.        , 0.        , 0.        ,\n",
       "       0.        , 0.        , 0.        , 0.        , 0.        ,\n",
       "       0.        , 0.        , 0.        , 0.        , 0.        ,\n",
       "       0.        , 0.        , 0.13718412, 0.        , 0.        ,\n",
       "       0.        , 0.        , 0.        , 0.        , 0.        ,\n",
       "       0.        , 0.        , 0.        , 0.        , 0.        ,\n",
       "       0.        , 0.        , 0.        , 0.        , 0.        ,\n",
       "       0.        , 0.        , 0.        , 0.        , 0.        ,\n",
       "       0.        , 0.        , 0.        , 0.        , 0.        ,\n",
       "       0.        , 0.        , 0.        , 0.        , 0.        ,\n",
       "       0.        , 0.        , 0.        , 0.        , 0.        ,\n",
       "       0.        , 0.        , 0.        , 0.        , 0.        ,\n",
       "       0.        , 0.        , 0.        , 0.        , 0.        ,\n",
       "       0.        , 0.        , 0.        , 0.00361011, 0.01083032,\n",
       "       0.        , 0.        , 0.        , 0.        , 0.        ,\n",
       "       0.        , 0.        , 0.        , 0.        , 0.        ,\n",
       "       0.        , 0.        , 0.        , 0.        , 0.        ,\n",
       "       0.        , 0.        , 0.        , 0.        , 0.        ,\n",
       "       0.        , 0.        , 0.        , 0.        , 0.        ,\n",
       "       0.        , 0.01444043, 0.        , 0.        , 0.        ,\n",
       "       0.        , 0.        , 0.        , 0.        , 0.        ,\n",
       "       0.        , 0.        , 0.        , 0.        , 0.        ,\n",
       "       0.        ])"
      ]
     },
     "execution_count": 330,
     "metadata": {},
     "output_type": "execute_result"
    }
   ],
   "source": [
    "member_genre_prob2[3248]"
   ]
  },
  {
   "cell_type": "code",
   "execution_count": null,
   "id": "e045ae4f",
   "metadata": {},
   "outputs": [],
   "source": [
    "    train_df4 = train_df.iloc[n_train1:n_train2,:].loc[filter1]\n",
    "    member_source_1 = train_df4[[\"msno_idx\", \"sources_id\", \"target\"]].groupby([\"msno_idx\", \"sources_id\"]).sum()\n",
    "    member_source_01 = train_df4[[\"msno_idx\", \"sources_id\", \"target\"]].groupby([\"msno_idx\", \"sources_id\"]).count()\n",
    "    member_source_df = member_source_1/(member_source_01 + 1)\n",
    "    \n",
    "    \n",
    "    source_mean = train_df[[\"sources_id\", \"target\"]].iloc[n_train1:n_train2,:].groupby(\"sources_id\").mean()[\"target\"].to_numpy()\n",
    "    \n",
    "    member_source_t = member_source_df.pivot_table(index = \"msno_idx\", columns = [\"sources_id\"]).reset_index()\n",
    "    \n",
    "    member_source_t2 = np.zeros((n_member, 9))\n",
    "    member_source_t2[:,:] = source_mean[:]\n",
    "    \n",
    "    member_source_t2[member_source_t[\"msno_idx\"],:] = member_source_t[\"target\"]"
   ]
  },
  {
   "cell_type": "code",
   "execution_count": null,
   "id": "76823109",
   "metadata": {},
   "outputs": [],
   "source": []
  },
  {
   "cell_type": "code",
   "execution_count": null,
   "id": "acbea4b8",
   "metadata": {},
   "outputs": [],
   "source": []
  },
  {
   "cell_type": "code",
   "execution_count": 164,
   "id": "dd240c81",
   "metadata": {},
   "outputs": [],
   "source": [
    "def member_genre_table(n_train1, n_train2):\n",
    "    \n",
    "    member_set = set(np.array(train_df[[\"msno_idx\", \"target\"]].iloc[n_train1:n_train2,:].groupby([\"msno_idx\"]).count().query(\"target > 200\").index))\n",
    "    \n",
    "    filter1 = train_df[\"msno_idx\"].iloc[n_train1:n_train2].apply(lambda x: x in member_set)\n",
    "    \n",
    "    train_df3 = train_df2.drop([\"song_idx\"], axis = 1).iloc[n_train1:n_train2,:].loc[filter1]\n",
    "    \n",
    "    \n",
    "    member_genre1 = train_df3.query(\"target == 1\").groupby(\"msno_idx\").sum()\n",
    "    member_genre01 = train_df3.groupby(\"msno_idx\").count()\n",
    "    \n",
    "    member_genre_prob = member_genre1/(member_genre01 + 1)\n",
    "    member_genre_prob = member_genre_prob.reset_index()\n",
    "    \n",
    "    member_genre_prob2 = np.zeros((n_member, n_genre)) \n",
    "    \n",
    "    member_genre_prob2[member_genre_prob[\"msno_idx\"],:] = member_genre_prob.drop([\"msno_idx\", \"target\"], axis = 1).to_numpy()\n",
    "    \n",
    "\n",
    "    #member_genre_prob.drop([\"target\"], axis = 1, inplace = True)\n",
    "    #member_genre_prob = member_genre_prob.reset_index()\n",
    "\n",
    "    train_df4 = train_df.iloc[n_train1:n_train2,:].loc[filter1]\n",
    "    member_source_1 = train_df4[[\"msno_idx\", \"sources_id\", \"target\"]].groupby([\"msno_idx\", \"sources_id\"]).sum()\n",
    "    member_source_01 = train_df4[[\"msno_idx\", \"sources_id\", \"target\"]].groupby([\"msno_idx\", \"sources_id\"]).count()\n",
    "    member_source_df = member_source_1/(member_source_01 + 1)\n",
    "    \n",
    "    \n",
    "    source_mean = train_df[[\"sources_id\", \"target\"]].iloc[n_train1:n_train2,:].groupby(\"sources_id\").mean()[\"target\"].to_numpy()\n",
    "    \n",
    "    member_source_t = member_source_df.pivot_table(index = \"msno_idx\", columns = [\"sources_id\"]).reset_index()\n",
    "    \n",
    "    member_source_t2 = np.zeros((n_member, 9))\n",
    "    member_source_t2[:,:] = source_mean[:]\n",
    "    \n",
    "    member_source_t2[member_source_t[\"msno_idx\"],:] = member_source_t[\"target\"]\n",
    "\n",
    "    return member_set, member_genre_prob2,  member_source_t2"
   ]
  },
  {
   "cell_type": "code",
   "execution_count": 278,
   "id": "06e640fe",
   "metadata": {},
   "outputs": [],
   "source": [
    "def song_tables(n_train1, n_train2):\n",
    "    #return train_df[[\"sources_id\", \"target\"]].iloc[0:n_train2,:].groupby(\"sources_id\").mean()[\"target\"].to_numpy()\n",
    "\n",
    "    song_set = set(np.array(train_df[[\"song_idx\", \"target\"]].iloc[n_train1:n_train2,:].groupby(\"song_idx\").count().query(\"target > 30\").index))\n",
    "    \n",
    "    filter1 = train_df[\"song_idx\"].iloc[n_train1:n_train2].apply(lambda x: x in song_set)\n",
    "    \n",
    "    train_df3 =  train_df[[\"song_idx\",\"sources_id\", \"target\"]].iloc[n_train1:n_train2,:].loc[filter1]\n",
    "    \n",
    "    \n",
    "    #song_mean_df = train_df[[\"song_idx\", \"target\"]].iloc[n_train1:n_train2,:].groupby(\"song_idx\").mean().reset_index()\n",
    "    song_mean_df = train_df3.groupby(\"song_idx\").mean().reset_index()\n",
    "    song_mean = np.zeros(n_song+1) + 0.5\n",
    "    song_mean[song_mean_df[\"song_idx\"]+1] = song_mean_df[\"target\"]\n",
    "\n",
    "    #song_source_df = train_df[[\"song_idx\",\"sources_id\", \"target\"]].iloc[n_train1:n_train2,:].groupby([\"song_idx\", \"sources_id\"]).mean().reset_index()\n",
    "    song_source_1 = train_df3.groupby([\"song_idx\", \"sources_id\"]).sum()#.reset_index()\n",
    "    song_source_01 = train_df3.groupby([\"song_idx\", \"sources_id\"]).count()\n",
    "    song_source_df = song_source_1/(song_source_01 + 1)\n",
    "    \n",
    "    song_source_t = song_source_df.pivot_table(index = \"song_idx\", columns = [\"sources_id\"]).reset_index()\n",
    "\n",
    "    source_mean = train_df[[\"sources_id\", \"target\"]].iloc[n_train1:n_train2,:].groupby(\"sources_id\").mean()[\"target\"].to_numpy()\n",
    "    song_source_mat = np.zeros((n_song+1, 9)) -1\n",
    "    song_source_mat[:,:] = source_mean[:]\n",
    "    \n",
    "    #song_source_mat2 = song_source_mat.copy()\n",
    "    song_source_mat[song_source_t[\"song_idx\"]+1] = song_source_t[\"target\"]\n",
    "    #song_source_mat[np.isnan(song_source_mat)] = song_source_mat2[np.isnan(song_source_mat)]\n",
    "    \n",
    "    return song_set, song_mean, source_mean, song_source_mat\n"
   ]
  },
  {
   "cell_type": "code",
   "execution_count": null,
   "id": "64269245",
   "metadata": {},
   "outputs": [],
   "source": []
  },
  {
   "cell_type": "code",
   "execution_count": null,
   "id": "69f6b4bb",
   "metadata": {},
   "outputs": [],
   "source": []
  },
  {
   "cell_type": "code",
   "execution_count": 159,
   "id": "052bf4b3",
   "metadata": {},
   "outputs": [
    {
     "data": {
      "text/plain": [
       "0.3333333333333333"
      ]
     },
     "execution_count": 159,
     "metadata": {},
     "output_type": "execute_result"
    }
   ],
   "source": []
  },
  {
   "cell_type": "code",
   "execution_count": 299,
   "id": "a18d83d7",
   "metadata": {},
   "outputs": [],
   "source": [
    "def predict_y(source_test, msno_test, song_test):\n",
    "    \n",
    "    \n",
    "    n_test = source_test.shape[0]\n",
    "    \n",
    "    yhat_test = np.zeros(n_test)\n",
    "    yhat_test[:] = np.nan\n",
    "    \n",
    "    count = 0\n",
    "    for i in range(n_test):\n",
    "        \n",
    "        member = msno_test[i]\n",
    "        source = source_test[i]\n",
    "        song = song_test[i]+1\n",
    "        \n",
    "        divider = np.sum(song_genre_mat[song])\n",
    "        \n",
    "        val = np.nan\n",
    "        if (member in member_set):\n",
    "            if divider > 0:\n",
    "                val = np.sum(member_genre_prob[member,:][song_genre_mat[song]])/divider\n",
    "            else:\n",
    "                val = member_source_mat[member, source]\n",
    "                \n",
    "        \n",
    "        if np.isnan(val):\n",
    "            if song in song_set:\n",
    "                val = song_source_mat[song, source]\n",
    "                if np.isnan(val):\n",
    "                    val = source_mean[source]\n",
    "                \n",
    "            else:\n",
    "                val = source_mean[source]\n",
    "                \n",
    "        yhat_test[i] = val\n",
    "                \n",
    "                \n",
    "                \n",
    "    return yhat_test          \n",
    "            \n",
    "        \n",
    "\n",
    "        #if divider > 0:\n",
    "        #    try:\n",
    "        #        val1 = member_source_mat[msno_idx_loc[msno_test[i]], source_test[i]]\n",
    "        #        val2 = np.sum(member_genre_mat[msno_idx_loc[msno_test[i]],:][song_genre_mat[song_test[i]+1]])/divider\n",
    "                #yhat_test[i] = val1 \n",
    "        #        yhat_test[i] = (val1 + val2)/2\n",
    "        #    except KeyError:\n",
    "        #        count += 1\n",
    "                #yhat_test[i] = song_mean[song_test[i]+1]\n",
    "        #        val3 = song_source_mat[song_test[i]+1, source_test[i]]\n",
    "        #        yhat_test[i] = val3\n",
    "\n",
    "\n",
    "        #else:\n",
    "\n",
    "        #    yhat_test[i] = source_mean[source_test[i]]\n",
    "            \n",
    "            \n",
    "    #return yhat_test"
   ]
  },
  {
   "cell_type": "markdown",
   "id": "6b282296",
   "metadata": {},
   "source": [
    "### Validation"
   ]
  },
  {
   "cell_type": "code",
   "execution_count": 300,
   "id": "5c1657af",
   "metadata": {},
   "outputs": [],
   "source": [
    "#member_genre1 = train_df2.drop([\"song_idx\"], axis = 1).iloc[0:int(n_train*0.9),:].query(\"target == 1\").groupby(\"msno_idx\").sum()\n",
    "#member_genre01 = train_df2.drop([\"song_idx\"], axis = 1).iloc[0:int(n_train*0.9),:].groupby(\"msno_idx\").sum()\n",
    "#member_genre_prob = member_genre1/(member_genre01 + 5)"
   ]
  },
  {
   "cell_type": "code",
   "execution_count": 301,
   "id": "b2ea5670",
   "metadata": {},
   "outputs": [],
   "source": [
    "#member_genre_prob.drop([\"target\"], axis = 1, inplace = True)\n",
    "#member_genre_prob = member_genre_prob.reset_index()"
   ]
  },
  {
   "cell_type": "code",
   "execution_count": 249,
   "id": "6da9344e",
   "metadata": {},
   "outputs": [],
   "source": [
    "member_set, member_genre_prob, member_source_mat = member_genre_table(int(n_train*0), int(n_train*0.9))"
   ]
  },
  {
   "cell_type": "code",
   "execution_count": 317,
   "id": "3231f4cd",
   "metadata": {},
   "outputs": [
    {
     "data": {
      "text/plain": [
       "(array([1464., 4358., 5372., 3918., 2368., 1253.,  608.,  186.,   49.,\n",
       "           6.]),\n",
       " array([0.        , 0.0962963 , 0.19259259, 0.28888889, 0.38518519,\n",
       "        0.48148148, 0.57777778, 0.67407407, 0.77037037, 0.86666667,\n",
       "        0.96296296]),\n",
       " <BarContainer object of 10 artists>)"
      ]
     },
     "execution_count": 317,
     "metadata": {},
     "output_type": "execute_result"
    },
    {
     "data": {
      "image/png": "[encoded data removed]",
      "text/plain": [
       "<Figure size 432x288 with 1 Axes>"
      ]
     },
     "metadata": {
      "needs_background": "light"
     },
     "output_type": "display_data"
    }
   ],
   "source": [
    "plt.hist(np.max(member_genre_prob[np.array(list(member_set)),], axis = 1))\n",
    "    \n"
   ]
  },
  {
   "cell_type": "code",
   "execution_count": 297,
   "id": "b18e69b9",
   "metadata": {},
   "outputs": [],
   "source": [
    "song_set, song_mean, source_mean, song_source_mat = song_tables(int(n_train*0), int(n_train*0.9))"
   ]
  },
  {
   "cell_type": "code",
   "execution_count": 264,
   "id": "e811ee5c",
   "metadata": {},
   "outputs": [
    {
     "data": {
      "text/plain": [
       "0.0020249790969899665"
      ]
     },
     "execution_count": 264,
     "metadata": {},
     "output_type": "execute_result"
    }
   ],
   "source": [
    "len(song_set)/n_song"
   ]
  },
  {
   "cell_type": "code",
   "execution_count": 298,
   "id": "1c58025a",
   "metadata": {},
   "outputs": [
    {
     "data": {
      "text/plain": [
       "array([[       nan, 0.82695811, 0.92307692, ..., 0.93333333,        nan,\n",
       "               nan],\n",
       "       [0.4274928 , 0.63197489, 0.42592049, ..., 0.33359847, 0.38046461,\n",
       "        0.62345374],\n",
       "       [0.4274928 , 0.63197489, 0.42592049, ..., 0.33359847, 0.38046461,\n",
       "        0.62345374],\n",
       "       ...,\n",
       "       [0.4274928 , 0.63197489, 0.42592049, ..., 0.33359847, 0.38046461,\n",
       "        0.62345374],\n",
       "       [       nan, 0.75862069, 0.66666667, ...,        nan,        nan,\n",
       "               nan],\n",
       "       [0.4274928 , 0.63197489, 0.42592049, ..., 0.33359847, 0.38046461,\n",
       "        0.62345374]])"
      ]
     },
     "execution_count": 298,
     "metadata": {},
     "output_type": "execute_result"
    }
   ],
   "source": [
    "member_source_mat"
   ]
  },
  {
   "cell_type": "code",
   "execution_count": 43,
   "id": "bd45bbb6",
   "metadata": {},
   "outputs": [],
   "source": [
    "#member_genre_prob = member_genre_table(int(n_train*0.9))"
   ]
  },
  {
   "cell_type": "code",
   "execution_count": 46,
   "id": "7502b78b",
   "metadata": {},
   "outputs": [],
   "source": [
    "#member_genre_mat = member_genre_prob.drop([\"msno_idx\"], axis = 1).to_numpy()"
   ]
  },
  {
   "cell_type": "code",
   "execution_count": 47,
   "id": "99eca765",
   "metadata": {},
   "outputs": [],
   "source": [
    "#member_source_mat = member_source_table(int(n_train*0.9))"
   ]
  },
  {
   "cell_type": "code",
   "execution_count": 48,
   "id": "793425ce",
   "metadata": {},
   "outputs": [],
   "source": [
    "#song_mean, source_mean, song_source_mat = song_tables(int(n_train*0.9))"
   ]
  },
  {
   "cell_type": "code",
   "execution_count": 180,
   "id": "e0f89558",
   "metadata": {},
   "outputs": [],
   "source": [
    "#msno_idx_array2 = member_genre_prob[\"msno_idx\"].to_numpy()\n",
    "\n",
    "#msno_idx_loc = {}\n",
    "#for i in range(msno_idx_array2.shape[0]):\n",
    "#    msno_idx_loc[msno_idx_array2[i]] = i\n",
    "    "
   ]
  },
  {
   "cell_type": "code",
   "execution_count": null,
   "id": "35a18534",
   "metadata": {},
   "outputs": [],
   "source": []
  },
  {
   "cell_type": "code",
   "execution_count": 252,
   "id": "8828498a",
   "metadata": {},
   "outputs": [],
   "source": [
    "msno_val = train_df[\"msno_idx\"].iloc[int(n_train*0.9):].to_numpy()\n",
    "song_val = train_df[\"song_idx\"].iloc[int(n_train*0.9):].to_numpy()\n",
    "y_val = train_df[\"target\"].iloc[int(n_train*0.9):].to_numpy()\n",
    "source_val =  train_df[\"sources_id\"].iloc[int(n_train*0.9):].to_numpy()"
   ]
  },
  {
   "cell_type": "code",
   "execution_count": 253,
   "id": "a05ed978",
   "metadata": {},
   "outputs": [],
   "source": [
    "#n_val = y_val.shape[0]\n",
    "#yhat_val = np.zeros(n_val)"
   ]
  },
  {
   "cell_type": "code",
   "execution_count": 302,
   "id": "01b8ee5d",
   "metadata": {},
   "outputs": [],
   "source": [
    "yhat_val =  predict_y(source_val, msno_val, song_val)"
   ]
  },
  {
   "cell_type": "code",
   "execution_count": 303,
   "id": "255bbb12",
   "metadata": {},
   "outputs": [
    {
     "data": {
      "text/plain": [
       "0.0"
      ]
     },
     "execution_count": 303,
     "metadata": {},
     "output_type": "execute_result"
    }
   ],
   "source": [
    "np.sum(np.isnan(yhat_val))/yhat_val.shape[0]"
   ]
  },
  {
   "cell_type": "code",
   "execution_count": 291,
   "id": "0c1d3576",
   "metadata": {},
   "outputs": [],
   "source": [
    "yhat_val[np.isnan(yhat_val)] = 0.5"
   ]
  },
  {
   "cell_type": "code",
   "execution_count": 304,
   "id": "bf931c33",
   "metadata": {},
   "outputs": [
    {
     "data": {
      "text/plain": [
       "(0.9964285714285714, 0.0)"
      ]
     },
     "execution_count": 304,
     "metadata": {},
     "output_type": "execute_result"
    }
   ],
   "source": [
    "np.max(yhat_val), np.min(yhat_val)"
   ]
  },
  {
   "cell_type": "code",
   "execution_count": 305,
   "id": "7fa6a47d",
   "metadata": {},
   "outputs": [],
   "source": [
    "#yhat_val[yhat_val > 1] = 1"
   ]
  },
  {
   "cell_type": "code",
   "execution_count": 306,
   "id": "625137f8",
   "metadata": {},
   "outputs": [
    {
     "data": {
      "text/plain": [
       "(array([266087., 144289., 117911.,  73043.,  65610.,  24388.,  32899.,\n",
       "         10068.,   2996.,    451.]),\n",
       " array([0.        , 0.09964286, 0.19928571, 0.29892857, 0.39857143,\n",
       "        0.49821429, 0.59785714, 0.6975    , 0.79714286, 0.89678571,\n",
       "        0.99642857]),\n",
       " <BarContainer object of 10 artists>)"
      ]
     },
     "execution_count": 306,
     "metadata": {},
     "output_type": "execute_result"
    },
    {
     "data": {
      "image/png": "[encoded data removed]",
      "text/plain": [
       "<Figure size 432x288 with 1 Axes>"
      ]
     },
     "metadata": {
      "needs_background": "light"
     },
     "output_type": "display_data"
    }
   ],
   "source": [
    "plt.hist(yhat_val)"
   ]
  },
  {
   "cell_type": "code",
   "execution_count": 307,
   "id": "fe8adc09",
   "metadata": {},
   "outputs": [],
   "source": [
    "fpr, tpr, thresholds = metrics.roc_curve(y_val, yhat_val, pos_label=1)"
   ]
  },
  {
   "cell_type": "code",
   "execution_count": 308,
   "id": "7a3efd06",
   "metadata": {},
   "outputs": [
    {
     "data": {
      "text/plain": [
       "0.5491879909422714"
      ]
     },
     "execution_count": 308,
     "metadata": {},
     "output_type": "execute_result"
    }
   ],
   "source": [
    "metrics.auc(fpr, tpr)"
   ]
  },
  {
   "cell_type": "code",
   "execution_count": 287,
   "id": "674e8fa6",
   "metadata": {},
   "outputs": [
    {
     "data": {
      "text/plain": [
       "0.6166836966919284"
      ]
     },
     "execution_count": 287,
     "metadata": {},
     "output_type": "execute_result"
    }
   ],
   "source": [
    "metrics.auc(fpr, tpr)"
   ]
  },
  {
   "cell_type": "code",
   "execution_count": 272,
   "id": "469bd8c4",
   "metadata": {},
   "outputs": [
    {
     "data": {
      "text/plain": [
       "0.5855723996395165"
      ]
     },
     "execution_count": 272,
     "metadata": {},
     "output_type": "execute_result"
    }
   ],
   "source": [
    "metrics.auc(fpr, tpr)"
   ]
  },
  {
   "cell_type": "code",
   "execution_count": 232,
   "id": "f76e634c",
   "metadata": {},
   "outputs": [
    {
     "data": {
      "text/plain": [
       "0.6186876273435842"
      ]
     },
     "execution_count": 232,
     "metadata": {},
     "output_type": "execute_result"
    }
   ],
   "source": [
    "metrics.auc(fpr, tpr)"
   ]
  },
  {
   "cell_type": "markdown",
   "id": "66947a10",
   "metadata": {},
   "source": [
    "0.6439531677514622"
   ]
  },
  {
   "cell_type": "markdown",
   "id": "59d27fad",
   "metadata": {},
   "source": [
    "0.5090993819703922"
   ]
  },
  {
   "cell_type": "markdown",
   "id": "55384454",
   "metadata": {},
   "source": [
    "### Test"
   ]
  },
  {
   "cell_type": "code",
   "execution_count": 274,
   "id": "f816a7e9",
   "metadata": {},
   "outputs": [],
   "source": [
    "song_mean_df = train_df[[\"song_idx\", \"target\"]].groupby(\"song_idx\").mean().reset_index()\n",
    "song_mean = np.zeros(n_song+1) + 0.5\n",
    "song_mean[song_mean_df[\"song_idx\"]+1] = song_mean_df[\"target\"]\n",
    "\n",
    "song_source_df = train_df[[\"song_idx\",\"sources_id\", \"target\"]].groupby([\"song_idx\", \"sources_id\"]).mean().reset_index()\n",
    "\n",
    "song_source_t = song_source_df.pivot_table(index = \"song_idx\", columns = [\"sources_id\"]).reset_index()\n",
    "\n",
    "source_mean = train_df[[\"sources_id\", \"target\"]].groupby(\"sources_id\").mean()[\"target\"].to_numpy()\n",
    "\n",
    "\n",
    "song_source_mat = np.zeros((n_song+1, 9)) -1\n",
    "\n",
    "\n",
    "song_source_mat[:,:] = source_mean[:]\n",
    "song_source_mat2 = song_source_mat.copy()\n",
    "song_source_mat[song_source_t[\"song_idx\"]+1] = song_source_t[\"target\"]\n",
    "song_source_mat[np.isnan(song_source_mat)] = song_source_mat2[np.isnan(song_source_mat)]"
   ]
  },
  {
   "cell_type": "code",
   "execution_count": 275,
   "id": "d8a23242",
   "metadata": {},
   "outputs": [
    {
     "data": {
      "text/plain": [
       "(2296321, 2296320)"
      ]
     },
     "execution_count": 275,
     "metadata": {},
     "output_type": "execute_result"
    }
   ],
   "source": []
  },
  {
   "cell_type": "code",
   "execution_count": 276,
   "id": "86f1b73f",
   "metadata": {},
   "outputs": [],
   "source": []
  },
  {
   "cell_type": "code",
   "execution_count": 277,
   "id": "708e640b",
   "metadata": {},
   "outputs": [],
   "source": []
  },
  {
   "cell_type": "code",
   "execution_count": 278,
   "id": "9a9c3404",
   "metadata": {},
   "outputs": [
    {
     "data": {
      "text/html": [
       "<div>\n",
       "<style scoped>\n",
       "    .dataframe tbody tr th:only-of-type {\n",
       "        vertical-align: middle;\n",
       "    }\n",
       "\n",
       "    .dataframe tbody tr th {\n",
       "        vertical-align: top;\n",
       "    }\n",
       "\n",
       "    .dataframe thead tr th {\n",
       "        text-align: left;\n",
       "    }\n",
       "</style>\n",
       "<table border=\"1\" class=\"dataframe\">\n",
       "  <thead>\n",
       "    <tr>\n",
       "      <th></th>\n",
       "      <th>song_idx</th>\n",
       "      <th colspan=\"9\" halign=\"left\">target</th>\n",
       "    </tr>\n",
       "    <tr>\n",
       "      <th>sources_id</th>\n",
       "      <th></th>\n",
       "      <th>0</th>\n",
       "      <th>1</th>\n",
       "      <th>2</th>\n",
       "      <th>3</th>\n",
       "      <th>4</th>\n",
       "      <th>5</th>\n",
       "      <th>6</th>\n",
       "      <th>7</th>\n",
       "      <th>8</th>\n",
       "    </tr>\n",
       "  </thead>\n",
       "  <tbody>\n",
       "    <tr>\n",
       "      <th>0</th>\n",
       "      <td>-1</td>\n",
       "      <td>0.000000</td>\n",
       "      <td>0.546875</td>\n",
       "      <td>0.315789</td>\n",
       "      <td>0.125000</td>\n",
       "      <td>NaN</td>\n",
       "      <td>0.20000</td>\n",
       "      <td>0.500000</td>\n",
       "      <td>NaN</td>\n",
       "      <td>NaN</td>\n",
       "    </tr>\n",
       "    <tr>\n",
       "      <th>1</th>\n",
       "      <td>0</td>\n",
       "      <td>NaN</td>\n",
       "      <td>0.625000</td>\n",
       "      <td>NaN</td>\n",
       "      <td>0.000000</td>\n",
       "      <td>NaN</td>\n",
       "      <td>NaN</td>\n",
       "      <td>0.000000</td>\n",
       "      <td>NaN</td>\n",
       "      <td>NaN</td>\n",
       "    </tr>\n",
       "    <tr>\n",
       "      <th>2</th>\n",
       "      <td>1</td>\n",
       "      <td>0.551402</td>\n",
       "      <td>0.803045</td>\n",
       "      <td>0.703125</td>\n",
       "      <td>0.503790</td>\n",
       "      <td>0.6</td>\n",
       "      <td>0.34375</td>\n",
       "      <td>0.090909</td>\n",
       "      <td>1.0</td>\n",
       "      <td>NaN</td>\n",
       "    </tr>\n",
       "    <tr>\n",
       "      <th>3</th>\n",
       "      <td>2</td>\n",
       "      <td>0.454545</td>\n",
       "      <td>0.625806</td>\n",
       "      <td>0.346154</td>\n",
       "      <td>0.339806</td>\n",
       "      <td>0.0</td>\n",
       "      <td>0.00000</td>\n",
       "      <td>0.166667</td>\n",
       "      <td>NaN</td>\n",
       "      <td>NaN</td>\n",
       "    </tr>\n",
       "    <tr>\n",
       "      <th>4</th>\n",
       "      <td>3</td>\n",
       "      <td>NaN</td>\n",
       "      <td>0.614634</td>\n",
       "      <td>0.282609</td>\n",
       "      <td>0.450000</td>\n",
       "      <td>0.0</td>\n",
       "      <td>0.00000</td>\n",
       "      <td>0.288889</td>\n",
       "      <td>NaN</td>\n",
       "      <td>NaN</td>\n",
       "    </tr>\n",
       "    <tr>\n",
       "      <th>...</th>\n",
       "      <td>...</td>\n",
       "      <td>...</td>\n",
       "      <td>...</td>\n",
       "      <td>...</td>\n",
       "      <td>...</td>\n",
       "      <td>...</td>\n",
       "      <td>...</td>\n",
       "      <td>...</td>\n",
       "      <td>...</td>\n",
       "      <td>...</td>\n",
       "    </tr>\n",
       "    <tr>\n",
       "      <th>359910</th>\n",
       "      <td>2296048</td>\n",
       "      <td>NaN</td>\n",
       "      <td>NaN</td>\n",
       "      <td>NaN</td>\n",
       "      <td>0.000000</td>\n",
       "      <td>NaN</td>\n",
       "      <td>NaN</td>\n",
       "      <td>NaN</td>\n",
       "      <td>NaN</td>\n",
       "      <td>NaN</td>\n",
       "    </tr>\n",
       "    <tr>\n",
       "      <th>359911</th>\n",
       "      <td>2296161</td>\n",
       "      <td>NaN</td>\n",
       "      <td>NaN</td>\n",
       "      <td>0.000000</td>\n",
       "      <td>NaN</td>\n",
       "      <td>NaN</td>\n",
       "      <td>NaN</td>\n",
       "      <td>NaN</td>\n",
       "      <td>NaN</td>\n",
       "      <td>NaN</td>\n",
       "    </tr>\n",
       "    <tr>\n",
       "      <th>359912</th>\n",
       "      <td>2296187</td>\n",
       "      <td>NaN</td>\n",
       "      <td>0.000000</td>\n",
       "      <td>NaN</td>\n",
       "      <td>NaN</td>\n",
       "      <td>NaN</td>\n",
       "      <td>NaN</td>\n",
       "      <td>NaN</td>\n",
       "      <td>NaN</td>\n",
       "      <td>NaN</td>\n",
       "    </tr>\n",
       "    <tr>\n",
       "      <th>359913</th>\n",
       "      <td>2296259</td>\n",
       "      <td>NaN</td>\n",
       "      <td>0.000000</td>\n",
       "      <td>NaN</td>\n",
       "      <td>NaN</td>\n",
       "      <td>NaN</td>\n",
       "      <td>NaN</td>\n",
       "      <td>NaN</td>\n",
       "      <td>NaN</td>\n",
       "      <td>NaN</td>\n",
       "    </tr>\n",
       "    <tr>\n",
       "      <th>359914</th>\n",
       "      <td>2296280</td>\n",
       "      <td>NaN</td>\n",
       "      <td>0.000000</td>\n",
       "      <td>NaN</td>\n",
       "      <td>NaN</td>\n",
       "      <td>NaN</td>\n",
       "      <td>NaN</td>\n",
       "      <td>NaN</td>\n",
       "      <td>NaN</td>\n",
       "      <td>NaN</td>\n",
       "    </tr>\n",
       "  </tbody>\n",
       "</table>\n",
       "<p>359915 rows × 10 columns</p>\n",
       "</div>"
      ],
      "text/plain": [
       "           song_idx    target                                              \\\n",
       "sources_id                  0         1         2         3    4        5   \n",
       "0                -1  0.000000  0.546875  0.315789  0.125000  NaN  0.20000   \n",
       "1                 0       NaN  0.625000       NaN  0.000000  NaN      NaN   \n",
       "2                 1  0.551402  0.803045  0.703125  0.503790  0.6  0.34375   \n",
       "3                 2  0.454545  0.625806  0.346154  0.339806  0.0  0.00000   \n",
       "4                 3       NaN  0.614634  0.282609  0.450000  0.0  0.00000   \n",
       "...             ...       ...       ...       ...       ...  ...      ...   \n",
       "359910      2296048       NaN       NaN       NaN  0.000000  NaN      NaN   \n",
       "359911      2296161       NaN       NaN  0.000000       NaN  NaN      NaN   \n",
       "359912      2296187       NaN  0.000000       NaN       NaN  NaN      NaN   \n",
       "359913      2296259       NaN  0.000000       NaN       NaN  NaN      NaN   \n",
       "359914      2296280       NaN  0.000000       NaN       NaN  NaN      NaN   \n",
       "\n",
       "                               \n",
       "sources_id         6    7   8  \n",
       "0           0.500000  NaN NaN  \n",
       "1           0.000000  NaN NaN  \n",
       "2           0.090909  1.0 NaN  \n",
       "3           0.166667  NaN NaN  \n",
       "4           0.288889  NaN NaN  \n",
       "...              ...  ...  ..  \n",
       "359910           NaN  NaN NaN  \n",
       "359911           NaN  NaN NaN  \n",
       "359912           NaN  NaN NaN  \n",
       "359913           NaN  NaN NaN  \n",
       "359914           NaN  NaN NaN  \n",
       "\n",
       "[359915 rows x 10 columns]"
      ]
     },
     "execution_count": 278,
     "metadata": {},
     "output_type": "execute_result"
    }
   ],
   "source": [
    "song_source_t"
   ]
  },
  {
   "cell_type": "code",
   "execution_count": 279,
   "id": "79350ff9",
   "metadata": {},
   "outputs": [],
   "source": []
  },
  {
   "cell_type": "code",
   "execution_count": 280,
   "id": "d9375ca6",
   "metadata": {},
   "outputs": [
    {
     "data": {
      "text/plain": [
       "array([0.42214601, 0.61965897, 0.42136194, 0.41576972, 0.51036259,\n",
       "       0.22266158, 0.3265808 , 0.37801132, 0.59090909])"
      ]
     },
     "execution_count": 280,
     "metadata": {},
     "output_type": "execute_result"
    }
   ],
   "source": [
    "source_mean"
   ]
  },
  {
   "cell_type": "code",
   "execution_count": 281,
   "id": "1759a054",
   "metadata": {},
   "outputs": [],
   "source": []
  },
  {
   "cell_type": "code",
   "execution_count": 282,
   "id": "357473b5",
   "metadata": {},
   "outputs": [],
   "source": []
  },
  {
   "cell_type": "code",
   "execution_count": 284,
   "id": "c159d6a9",
   "metadata": {},
   "outputs": [],
   "source": []
  },
  {
   "cell_type": "code",
   "execution_count": 285,
   "id": "c81fea5f",
   "metadata": {},
   "outputs": [],
   "source": []
  },
  {
   "cell_type": "code",
   "execution_count": 286,
   "id": "f733589c",
   "metadata": {},
   "outputs": [],
   "source": []
  },
  {
   "cell_type": "code",
   "execution_count": null,
   "id": "ddee5612",
   "metadata": {},
   "outputs": [],
   "source": []
  },
  {
   "cell_type": "code",
   "execution_count": null,
   "id": "d3fa1d66",
   "metadata": {},
   "outputs": [],
   "source": []
  },
  {
   "cell_type": "code",
   "execution_count": null,
   "id": "5444bb45",
   "metadata": {},
   "outputs": [],
   "source": []
  },
  {
   "cell_type": "code",
   "execution_count": 51,
   "id": "3ce75b6a",
   "metadata": {},
   "outputs": [],
   "source": [
    "member_genre1 = train_df2.drop([\"song_idx\"], axis = 1).query(\"target == 1\").groupby(\"msno_idx\").sum()\n",
    "member_genre01 = train_df2.drop([\"song_idx\"], axis = 1).groupby(\"msno_idx\").sum()\n",
    "member_genre_prob = member_genre1/(member_genre01 + 0.5)"
   ]
  },
  {
   "cell_type": "code",
   "execution_count": 52,
   "id": "ce89fbf5",
   "metadata": {},
   "outputs": [],
   "source": [
    "member_genre_prob.drop([\"target\"], axis = 1, inplace = True)\n",
    "member_genre_prob = member_genre_prob.reset_index()"
   ]
  },
  {
   "cell_type": "code",
   "execution_count": 53,
   "id": "1bf6ce33",
   "metadata": {},
   "outputs": [],
   "source": [
    "member_genre_mat = member_genre_prob.drop([\"msno_idx\"], axis = 1).to_numpy()"
   ]
  },
  {
   "cell_type": "code",
   "execution_count": 54,
   "id": "f6a5a997",
   "metadata": {},
   "outputs": [],
   "source": [
    "msno_idx_array2 = member_genre_prob[\"msno_idx\"].to_numpy()\n",
    "\n",
    "msno_idx_loc = {}\n",
    "for i in range(msno_idx_array2.shape[0]):\n",
    "    msno_idx_loc[msno_idx_array2[i]] = i"
   ]
  },
  {
   "cell_type": "code",
   "execution_count": null,
   "id": "39258f59",
   "metadata": {},
   "outputs": [],
   "source": []
  },
  {
   "cell_type": "code",
   "execution_count": 77,
   "id": "3329e73c",
   "metadata": {},
   "outputs": [
    {
     "data": {
      "text/plain": [
       "0.8939627358079237"
      ]
     },
     "execution_count": 77,
     "metadata": {},
     "output_type": "execute_result"
    }
   ],
   "source": [
    "member_genre_mat.shape[0]/n_member"
   ]
  },
  {
   "cell_type": "code",
   "execution_count": 288,
   "id": "c0e497c5",
   "metadata": {},
   "outputs": [],
   "source": [
    "msno_test = test_df[\"msno_idx\"].to_numpy()\n",
    "song_test = test_df[\"song_idx\"].to_numpy()"
   ]
  },
  {
   "cell_type": "code",
   "execution_count": 289,
   "id": "1dac9a6f",
   "metadata": {},
   "outputs": [],
   "source": [
    "source_test = test_df[\"sources_id\"].to_numpy()"
   ]
  },
  {
   "cell_type": "code",
   "execution_count": 306,
   "id": "c6f65f2a",
   "metadata": {},
   "outputs": [],
   "source": [
    "yhat_test = np.zeros(n_test)"
   ]
  },
  {
   "cell_type": "code",
   "execution_count": 307,
   "id": "fba150fc",
   "metadata": {},
   "outputs": [
    {
     "data": {
      "text/plain": [
       "((30755, 9), (30755, 191))"
      ]
     },
     "execution_count": 307,
     "metadata": {},
     "output_type": "execute_result"
    }
   ],
   "source": [
    "member_source_mat.shape, member_genre_mat.shape"
   ]
  },
  {
   "cell_type": "code",
   "execution_count": 308,
   "id": "911eff24",
   "metadata": {},
   "outputs": [],
   "source": [
    "count = 0\n",
    "for i in range(n_test):\n",
    "    divider = np.sum(song_genre_mat[song_test[i]+1])\n",
    "    \n",
    "    if divider > 0:\n",
    "        try:\n",
    "            val1 = member_source_mat[msno_idx_loc[msno_test[i]], source_test[i]]\n",
    "            #val2 = np.sum(member_genre_mat[msno_idx_loc[msno_test[i]],:][song_genre_mat[song_test[i]+1]])/divider\n",
    "            yhat_test[i] = val1 \n",
    "            #yhat_test[i] = (val1 + val2)/2\n",
    "        except KeyError:\n",
    "            count += 1\n",
    "            #yhat_test[i] = song_mean[song_test[i]+1]\n",
    "            val3 = song_source_mat[song_test[i]+1, source_test[i]]\n",
    "            \n",
    "            \n",
    "    else:\n",
    "        \n",
    "        yhat_test[i] = source_mean[source_test[i]]"
   ]
  },
  {
   "cell_type": "code",
   "execution_count": 309,
   "id": "09f05082",
   "metadata": {},
   "outputs": [
    {
     "data": {
      "text/plain": [
       "(array([306250., 154584., 250163., 333811., 406554., 336694., 287937.,\n",
       "        192755., 132836.,  64526.]),\n",
       " array([0.        , 0.09992759, 0.19985518, 0.29978277, 0.39971035,\n",
       "        0.49963794, 0.59956553, 0.69949312, 0.79942071, 0.8993483 ,\n",
       "        0.99927589]),\n",
       " <BarContainer object of 10 artists>)"
      ]
     },
     "execution_count": 309,
     "metadata": {},
     "output_type": "execute_result"
    },
    {
     "data": {
      "image/png": "[encoded data removed]",
      "text/plain": [
       "<Figure size 432x288 with 1 Axes>"
      ]
     },
     "metadata": {
      "needs_background": "light"
     },
     "output_type": "display_data"
    }
   ],
   "source": [
    "plt.hist(yhat_test)"
   ]
  },
  {
   "cell_type": "code",
   "execution_count": 315,
   "id": "2138583a",
   "metadata": {},
   "outputs": [
    {
     "data": {
      "text/plain": [
       "0.0"
      ]
     },
     "execution_count": 315,
     "metadata": {},
     "output_type": "execute_result"
    }
   ],
   "source": [
    "np.sum(np.isnan(yhat_test))/n_test"
   ]
  },
  {
   "cell_type": "code",
   "execution_count": 311,
   "id": "4d13243a",
   "metadata": {},
   "outputs": [],
   "source": [
    "filter1 = np.isnan(yhat_test)\n",
    "yhat_test[np.isnan(yhat_test)] = source_mean[source_test[filter1]]"
   ]
  },
  {
   "cell_type": "code",
   "execution_count": 312,
   "id": "2ada5e63",
   "metadata": {},
   "outputs": [
    {
     "data": {
      "text/plain": [
       "0.07067181896049343"
      ]
     },
     "execution_count": 312,
     "metadata": {},
     "output_type": "execute_result"
    }
   ],
   "source": [
    "count/n_test"
   ]
  },
  {
   "cell_type": "code",
   "execution_count": 313,
   "id": "fcd21773",
   "metadata": {},
   "outputs": [
    {
     "data": {
      "text/plain": [
       "(0.999275887038378, 0.0)"
      ]
     },
     "execution_count": 313,
     "metadata": {},
     "output_type": "execute_result"
    }
   ],
   "source": [
    "yhat_test.max(),yhat_test.min()"
   ]
  },
  {
   "cell_type": "code",
   "execution_count": 314,
   "id": "0e7485d2",
   "metadata": {},
   "outputs": [
    {
     "data": {
      "text/plain": [
       "(array([306250., 154584., 280143., 345198., 440905., 339937., 299656.,\n",
       "        192755., 132836.,  64526.]),\n",
       " array([0.        , 0.09992759, 0.19985518, 0.29978277, 0.39971035,\n",
       "        0.49963794, 0.59956553, 0.69949312, 0.79942071, 0.8993483 ,\n",
       "        0.99927589]),\n",
       " <BarContainer object of 10 artists>)"
      ]
     },
     "execution_count": 314,
     "metadata": {},
     "output_type": "execute_result"
    },
    {
     "data": {
      "image/png": "[encoded data removed]",
      "text/plain": [
       "<Figure size 432x288 with 1 Axes>"
      ]
     },
     "metadata": {
      "needs_background": "light"
     },
     "output_type": "display_data"
    }
   ],
   "source": [
    "plt.hist(yhat_test)"
   ]
  },
  {
   "cell_type": "code",
   "execution_count": null,
   "id": "f5d4dd9d",
   "metadata": {},
   "outputs": [],
   "source": []
  },
  {
   "cell_type": "code",
   "execution_count": 316,
   "id": "920722a1",
   "metadata": {},
   "outputs": [],
   "source": [
    "sample_df = pd.read_parquet(\"data/sample_submission.parquet\")"
   ]
  },
  {
   "cell_type": "code",
   "execution_count": 317,
   "id": "01ac5b01",
   "metadata": {},
   "outputs": [],
   "source": [
    "sample_df[\"target\"] = yhat_test"
   ]
  },
  {
   "cell_type": "code",
   "execution_count": 318,
   "id": "9673950c",
   "metadata": {},
   "outputs": [],
   "source": [
    "sample_df.to_csv(\"output/Content_Source_1.csv\", index = False)"
   ]
  },
  {
   "cell_type": "code",
   "execution_count": 152,
   "id": "8661c0ce",
   "metadata": {},
   "outputs": [
    {
     "data": {
      "text/plain": [
       "0.5035170841614234"
      ]
     },
     "execution_count": 152,
     "metadata": {},
     "output_type": "execute_result"
    }
   ],
   "source": [
    "train_df[\"target\"].mean()"
   ]
  },
  {
   "cell_type": "code",
   "execution_count": 156,
   "id": "9a9f98dc",
   "metadata": {},
   "outputs": [
    {
     "data": {
      "text/html": [
       "<div>\n",
       "<style scoped>\n",
       "    .dataframe tbody tr th:only-of-type {\n",
       "        vertical-align: middle;\n",
       "    }\n",
       "\n",
       "    .dataframe tbody tr th {\n",
       "        vertical-align: top;\n",
       "    }\n",
       "\n",
       "    .dataframe thead th {\n",
       "        text-align: right;\n",
       "    }\n",
       "</style>\n",
       "<table border=\"1\" class=\"dataframe\">\n",
       "  <thead>\n",
       "    <tr style=\"text-align: right;\">\n",
       "      <th></th>\n",
       "      <th>target</th>\n",
       "    </tr>\n",
       "    <tr>\n",
       "      <th>source_system_tab</th>\n",
       "      <th></th>\n",
       "    </tr>\n",
       "  </thead>\n",
       "  <tbody>\n",
       "    <tr>\n",
       "      <th>radio</th>\n",
       "      <td>0.222662</td>\n",
       "    </tr>\n",
       "    <tr>\n",
       "      <th>listen with</th>\n",
       "      <td>0.326581</td>\n",
       "    </tr>\n",
       "    <tr>\n",
       "      <th>notification</th>\n",
       "      <td>0.378011</td>\n",
       "    </tr>\n",
       "    <tr>\n",
       "      <th>discover</th>\n",
       "      <td>0.415770</td>\n",
       "    </tr>\n",
       "    <tr>\n",
       "      <th>search</th>\n",
       "      <td>0.421362</td>\n",
       "    </tr>\n",
       "    <tr>\n",
       "      <th>explore</th>\n",
       "      <td>0.422146</td>\n",
       "    </tr>\n",
       "    <tr>\n",
       "      <th>settings</th>\n",
       "      <td>0.590909</td>\n",
       "    </tr>\n",
       "    <tr>\n",
       "      <th>my library</th>\n",
       "      <td>0.619659</td>\n",
       "    </tr>\n",
       "  </tbody>\n",
       "</table>\n",
       "</div>"
      ],
      "text/plain": [
       "                     target\n",
       "source_system_tab          \n",
       "radio              0.222662\n",
       "listen with        0.326581\n",
       "notification       0.378011\n",
       "discover           0.415770\n",
       "search             0.421362\n",
       "explore            0.422146\n",
       "settings           0.590909\n",
       "my library         0.619659"
      ]
     },
     "execution_count": 156,
     "metadata": {},
     "output_type": "execute_result"
    }
   ],
   "source": [
    "train_df[[\"source_system_tab\", \"target\"]].groupby(\"source_system_tab\").mean().sort_values(\"target\")"
   ]
  },
  {
   "cell_type": "code",
   "execution_count": 154,
   "id": "ab024fb0",
   "metadata": {},
   "outputs": [
    {
     "data": {
      "text/plain": [
       "<AxesSubplot:xlabel='source_system_tab'>"
      ]
     },
     "execution_count": 154,
     "metadata": {},
     "output_type": "execute_result"
    },
    {
     "data": {
      "image/png": "[encoded data removed]",
      "text/plain": [
       "<Figure size 432x288 with 1 Axes>"
      ]
     },
     "metadata": {
      "needs_background": "light"
     },
     "output_type": "display_data"
    }
   ],
   "source": [
    "train_df[[\"source_system_tab\", \"target\"]].groupby(\"source_system_tab\").count().plot()"
   ]
  },
  {
   "cell_type": "code",
   "execution_count": 153,
   "id": "36cb2e0c",
   "metadata": {},
   "outputs": [
    {
     "data": {
      "text/plain": [
       "<AxesSubplot:xlabel='source_system_tab'>"
      ]
     },
     "execution_count": 153,
     "metadata": {},
     "output_type": "execute_result"
    },
    {
     "data": {
      "image/png": "[encoded data removed]",
      "text/plain": [
       "<Figure size 432x288 with 1 Axes>"
      ]
     },
     "metadata": {
      "needs_background": "light"
     },
     "output_type": "display_data"
    }
   ],
   "source": [
    "test_df[[\"source_system_tab\", \"id\"]].groupby(\"source_system_tab\").count().plot()"
   ]
  },
  {
   "cell_type": "code",
   "execution_count": 161,
   "id": "2ca49b5b",
   "metadata": {},
   "outputs": [],
   "source": []
  },
  {
   "cell_type": "code",
   "execution_count": 164,
   "id": "6ff2f549",
   "metadata": {},
   "outputs": [],
   "source": []
  },
  {
   "cell_type": "code",
   "execution_count": 166,
   "id": "5680f9a1",
   "metadata": {},
   "outputs": [],
   "source": []
  },
  {
   "cell_type": "code",
   "execution_count": 169,
   "id": "55eb36bf",
   "metadata": {},
   "outputs": [],
   "source": []
  },
  {
   "cell_type": "code",
   "execution_count": 170,
   "id": "b705c6c9",
   "metadata": {},
   "outputs": [
    {
     "data": {
      "text/html": [
       "<div>\n",
       "<style scoped>\n",
       "    .dataframe tbody tr th:only-of-type {\n",
       "        vertical-align: middle;\n",
       "    }\n",
       "\n",
       "    .dataframe tbody tr th {\n",
       "        vertical-align: top;\n",
       "    }\n",
       "\n",
       "    .dataframe thead tr th {\n",
       "        text-align: left;\n",
       "    }\n",
       "\n",
       "    .dataframe thead tr:last-of-type th {\n",
       "        text-align: right;\n",
       "    }\n",
       "</style>\n",
       "<table border=\"1\" class=\"dataframe\">\n",
       "  <thead>\n",
       "    <tr>\n",
       "      <th></th>\n",
       "      <th colspan=\"8\" halign=\"left\">target</th>\n",
       "    </tr>\n",
       "    <tr>\n",
       "      <th>source_system_tab</th>\n",
       "      <th>discover</th>\n",
       "      <th>explore</th>\n",
       "      <th>listen with</th>\n",
       "      <th>my library</th>\n",
       "      <th>notification</th>\n",
       "      <th>radio</th>\n",
       "      <th>search</th>\n",
       "      <th>settings</th>\n",
       "    </tr>\n",
       "    <tr>\n",
       "      <th>msno_idx</th>\n",
       "      <th></th>\n",
       "      <th></th>\n",
       "      <th></th>\n",
       "      <th></th>\n",
       "      <th></th>\n",
       "      <th></th>\n",
       "      <th></th>\n",
       "      <th></th>\n",
       "    </tr>\n",
       "  </thead>\n",
       "  <tbody>\n",
       "    <tr>\n",
       "      <th>0</th>\n",
       "      <td>0.095238</td>\n",
       "      <td>NaN</td>\n",
       "      <td>0.938547</td>\n",
       "      <td>0.830493</td>\n",
       "      <td>NaN</td>\n",
       "      <td>NaN</td>\n",
       "      <td>0.960000</td>\n",
       "      <td>NaN</td>\n",
       "    </tr>\n",
       "    <tr>\n",
       "      <th>1</th>\n",
       "      <td>0.000000</td>\n",
       "      <td>NaN</td>\n",
       "      <td>NaN</td>\n",
       "      <td>NaN</td>\n",
       "      <td>NaN</td>\n",
       "      <td>NaN</td>\n",
       "      <td>NaN</td>\n",
       "      <td>NaN</td>\n",
       "    </tr>\n",
       "    <tr>\n",
       "      <th>2</th>\n",
       "      <td>0.580645</td>\n",
       "      <td>0.235294</td>\n",
       "      <td>NaN</td>\n",
       "      <td>NaN</td>\n",
       "      <td>NaN</td>\n",
       "      <td>NaN</td>\n",
       "      <td>NaN</td>\n",
       "      <td>NaN</td>\n",
       "    </tr>\n",
       "    <tr>\n",
       "      <th>3</th>\n",
       "      <td>0.000000</td>\n",
       "      <td>NaN</td>\n",
       "      <td>NaN</td>\n",
       "      <td>NaN</td>\n",
       "      <td>NaN</td>\n",
       "      <td>NaN</td>\n",
       "      <td>NaN</td>\n",
       "      <td>NaN</td>\n",
       "    </tr>\n",
       "    <tr>\n",
       "      <th>4</th>\n",
       "      <td>0.000000</td>\n",
       "      <td>NaN</td>\n",
       "      <td>NaN</td>\n",
       "      <td>NaN</td>\n",
       "      <td>NaN</td>\n",
       "      <td>NaN</td>\n",
       "      <td>0.000000</td>\n",
       "      <td>NaN</td>\n",
       "    </tr>\n",
       "    <tr>\n",
       "      <th>...</th>\n",
       "      <td>...</td>\n",
       "      <td>...</td>\n",
       "      <td>...</td>\n",
       "      <td>...</td>\n",
       "      <td>...</td>\n",
       "      <td>...</td>\n",
       "      <td>...</td>\n",
       "      <td>...</td>\n",
       "    </tr>\n",
       "    <tr>\n",
       "      <th>34398</th>\n",
       "      <td>0.609062</td>\n",
       "      <td>NaN</td>\n",
       "      <td>NaN</td>\n",
       "      <td>NaN</td>\n",
       "      <td>NaN</td>\n",
       "      <td>NaN</td>\n",
       "      <td>NaN</td>\n",
       "      <td>NaN</td>\n",
       "    </tr>\n",
       "    <tr>\n",
       "      <th>34399</th>\n",
       "      <td>NaN</td>\n",
       "      <td>NaN</td>\n",
       "      <td>NaN</td>\n",
       "      <td>0.830189</td>\n",
       "      <td>NaN</td>\n",
       "      <td>NaN</td>\n",
       "      <td>NaN</td>\n",
       "      <td>NaN</td>\n",
       "    </tr>\n",
       "    <tr>\n",
       "      <th>34400</th>\n",
       "      <td>NaN</td>\n",
       "      <td>NaN</td>\n",
       "      <td>NaN</td>\n",
       "      <td>0.322581</td>\n",
       "      <td>NaN</td>\n",
       "      <td>NaN</td>\n",
       "      <td>NaN</td>\n",
       "      <td>NaN</td>\n",
       "    </tr>\n",
       "    <tr>\n",
       "      <th>34401</th>\n",
       "      <td>NaN</td>\n",
       "      <td>NaN</td>\n",
       "      <td>NaN</td>\n",
       "      <td>0.755418</td>\n",
       "      <td>NaN</td>\n",
       "      <td>NaN</td>\n",
       "      <td>0.857143</td>\n",
       "      <td>NaN</td>\n",
       "    </tr>\n",
       "    <tr>\n",
       "      <th>34402</th>\n",
       "      <td>NaN</td>\n",
       "      <td>NaN</td>\n",
       "      <td>NaN</td>\n",
       "      <td>0.260870</td>\n",
       "      <td>NaN</td>\n",
       "      <td>NaN</td>\n",
       "      <td>NaN</td>\n",
       "      <td>NaN</td>\n",
       "    </tr>\n",
       "  </tbody>\n",
       "</table>\n",
       "<p>30647 rows × 8 columns</p>\n",
       "</div>"
      ],
      "text/plain": [
       "                     target                                                \\\n",
       "source_system_tab  discover   explore listen with my library notification   \n",
       "msno_idx                                                                    \n",
       "0                  0.095238       NaN    0.938547   0.830493          NaN   \n",
       "1                  0.000000       NaN         NaN        NaN          NaN   \n",
       "2                  0.580645  0.235294         NaN        NaN          NaN   \n",
       "3                  0.000000       NaN         NaN        NaN          NaN   \n",
       "4                  0.000000       NaN         NaN        NaN          NaN   \n",
       "...                     ...       ...         ...        ...          ...   \n",
       "34398              0.609062       NaN         NaN        NaN          NaN   \n",
       "34399                   NaN       NaN         NaN   0.830189          NaN   \n",
       "34400                   NaN       NaN         NaN   0.322581          NaN   \n",
       "34401                   NaN       NaN         NaN   0.755418          NaN   \n",
       "34402                   NaN       NaN         NaN   0.260870          NaN   \n",
       "\n",
       "                                            \n",
       "source_system_tab radio    search settings  \n",
       "msno_idx                                    \n",
       "0                   NaN  0.960000      NaN  \n",
       "1                   NaN       NaN      NaN  \n",
       "2                   NaN       NaN      NaN  \n",
       "3                   NaN       NaN      NaN  \n",
       "4                   NaN  0.000000      NaN  \n",
       "...                 ...       ...      ...  \n",
       "34398               NaN       NaN      NaN  \n",
       "34399               NaN       NaN      NaN  \n",
       "34400               NaN       NaN      NaN  \n",
       "34401               NaN  0.857143      NaN  \n",
       "34402               NaN       NaN      NaN  \n",
       "\n",
       "[30647 rows x 8 columns]"
      ]
     },
     "execution_count": 170,
     "metadata": {},
     "output_type": "execute_result"
    }
   ],
   "source": [
    "member_source_t"
   ]
  },
  {
   "cell_type": "code",
   "execution_count": 190,
   "id": "81aaf705",
   "metadata": {},
   "outputs": [],
   "source": []
  },
  {
   "cell_type": "code",
   "execution_count": 191,
   "id": "189334f6",
   "metadata": {},
   "outputs": [],
   "source": []
  },
  {
   "cell_type": "code",
   "execution_count": 192,
   "id": "d96302a4",
   "metadata": {},
   "outputs": [],
   "source": []
  },
  {
   "cell_type": "code",
   "execution_count": 193,
   "id": "b34e6f46",
   "metadata": {},
   "outputs": [],
   "source": []
  },
  {
   "cell_type": "code",
   "execution_count": 198,
   "id": "27cf14b8",
   "metadata": {},
   "outputs": [],
   "source": []
  },
  {
   "cell_type": "code",
   "execution_count": 199,
   "id": "4705f48d",
   "metadata": {},
   "outputs": [
    {
     "data": {
      "text/html": [
       "<div>\n",
       "<style scoped>\n",
       "    .dataframe tbody tr th:only-of-type {\n",
       "        vertical-align: middle;\n",
       "    }\n",
       "\n",
       "    .dataframe tbody tr th {\n",
       "        vertical-align: top;\n",
       "    }\n",
       "\n",
       "    .dataframe thead tr th {\n",
       "        text-align: left;\n",
       "    }\n",
       "\n",
       "    .dataframe thead tr:last-of-type th {\n",
       "        text-align: right;\n",
       "    }\n",
       "</style>\n",
       "<table border=\"1\" class=\"dataframe\">\n",
       "  <thead>\n",
       "    <tr>\n",
       "      <th></th>\n",
       "      <th colspan=\"9\" halign=\"left\">target</th>\n",
       "    </tr>\n",
       "    <tr>\n",
       "      <th>sources_id</th>\n",
       "      <th>0</th>\n",
       "      <th>1</th>\n",
       "      <th>2</th>\n",
       "      <th>3</th>\n",
       "      <th>4</th>\n",
       "      <th>5</th>\n",
       "      <th>6</th>\n",
       "      <th>7</th>\n",
       "      <th>8</th>\n",
       "    </tr>\n",
       "    <tr>\n",
       "      <th>msno_idx</th>\n",
       "      <th></th>\n",
       "      <th></th>\n",
       "      <th></th>\n",
       "      <th></th>\n",
       "      <th></th>\n",
       "      <th></th>\n",
       "      <th></th>\n",
       "      <th></th>\n",
       "      <th></th>\n",
       "    </tr>\n",
       "  </thead>\n",
       "  <tbody>\n",
       "    <tr>\n",
       "      <th>0</th>\n",
       "      <td>NaN</td>\n",
       "      <td>0.830493</td>\n",
       "      <td>0.960000</td>\n",
       "      <td>0.095238</td>\n",
       "      <td>NaN</td>\n",
       "      <td>NaN</td>\n",
       "      <td>0.938547</td>\n",
       "      <td>NaN</td>\n",
       "      <td>NaN</td>\n",
       "    </tr>\n",
       "    <tr>\n",
       "      <th>1</th>\n",
       "      <td>NaN</td>\n",
       "      <td>NaN</td>\n",
       "      <td>NaN</td>\n",
       "      <td>0.000000</td>\n",
       "      <td>NaN</td>\n",
       "      <td>NaN</td>\n",
       "      <td>NaN</td>\n",
       "      <td>NaN</td>\n",
       "      <td>NaN</td>\n",
       "    </tr>\n",
       "    <tr>\n",
       "      <th>2</th>\n",
       "      <td>0.235294</td>\n",
       "      <td>NaN</td>\n",
       "      <td>NaN</td>\n",
       "      <td>0.580645</td>\n",
       "      <td>NaN</td>\n",
       "      <td>NaN</td>\n",
       "      <td>NaN</td>\n",
       "      <td>NaN</td>\n",
       "      <td>NaN</td>\n",
       "    </tr>\n",
       "    <tr>\n",
       "      <th>3</th>\n",
       "      <td>NaN</td>\n",
       "      <td>NaN</td>\n",
       "      <td>NaN</td>\n",
       "      <td>0.000000</td>\n",
       "      <td>NaN</td>\n",
       "      <td>NaN</td>\n",
       "      <td>NaN</td>\n",
       "      <td>NaN</td>\n",
       "      <td>NaN</td>\n",
       "    </tr>\n",
       "    <tr>\n",
       "      <th>4</th>\n",
       "      <td>NaN</td>\n",
       "      <td>NaN</td>\n",
       "      <td>0.000000</td>\n",
       "      <td>0.000000</td>\n",
       "      <td>NaN</td>\n",
       "      <td>NaN</td>\n",
       "      <td>NaN</td>\n",
       "      <td>NaN</td>\n",
       "      <td>NaN</td>\n",
       "    </tr>\n",
       "    <tr>\n",
       "      <th>...</th>\n",
       "      <td>...</td>\n",
       "      <td>...</td>\n",
       "      <td>...</td>\n",
       "      <td>...</td>\n",
       "      <td>...</td>\n",
       "      <td>...</td>\n",
       "      <td>...</td>\n",
       "      <td>...</td>\n",
       "      <td>...</td>\n",
       "    </tr>\n",
       "    <tr>\n",
       "      <th>34398</th>\n",
       "      <td>NaN</td>\n",
       "      <td>NaN</td>\n",
       "      <td>NaN</td>\n",
       "      <td>0.609062</td>\n",
       "      <td>NaN</td>\n",
       "      <td>NaN</td>\n",
       "      <td>NaN</td>\n",
       "      <td>NaN</td>\n",
       "      <td>NaN</td>\n",
       "    </tr>\n",
       "    <tr>\n",
       "      <th>34399</th>\n",
       "      <td>NaN</td>\n",
       "      <td>0.830189</td>\n",
       "      <td>NaN</td>\n",
       "      <td>NaN</td>\n",
       "      <td>0.0</td>\n",
       "      <td>NaN</td>\n",
       "      <td>NaN</td>\n",
       "      <td>NaN</td>\n",
       "      <td>NaN</td>\n",
       "    </tr>\n",
       "    <tr>\n",
       "      <th>34400</th>\n",
       "      <td>NaN</td>\n",
       "      <td>0.322581</td>\n",
       "      <td>NaN</td>\n",
       "      <td>NaN</td>\n",
       "      <td>NaN</td>\n",
       "      <td>NaN</td>\n",
       "      <td>NaN</td>\n",
       "      <td>NaN</td>\n",
       "      <td>NaN</td>\n",
       "    </tr>\n",
       "    <tr>\n",
       "      <th>34401</th>\n",
       "      <td>NaN</td>\n",
       "      <td>0.755418</td>\n",
       "      <td>0.857143</td>\n",
       "      <td>NaN</td>\n",
       "      <td>NaN</td>\n",
       "      <td>NaN</td>\n",
       "      <td>NaN</td>\n",
       "      <td>NaN</td>\n",
       "      <td>NaN</td>\n",
       "    </tr>\n",
       "    <tr>\n",
       "      <th>34402</th>\n",
       "      <td>NaN</td>\n",
       "      <td>0.260870</td>\n",
       "      <td>NaN</td>\n",
       "      <td>NaN</td>\n",
       "      <td>NaN</td>\n",
       "      <td>NaN</td>\n",
       "      <td>NaN</td>\n",
       "      <td>NaN</td>\n",
       "      <td>NaN</td>\n",
       "    </tr>\n",
       "  </tbody>\n",
       "</table>\n",
       "<p>30755 rows × 9 columns</p>\n",
       "</div>"
      ],
      "text/plain": [
       "              target                                                         \n",
       "sources_id         0         1         2         3    4   5         6   7   8\n",
       "msno_idx                                                                     \n",
       "0                NaN  0.830493  0.960000  0.095238  NaN NaN  0.938547 NaN NaN\n",
       "1                NaN       NaN       NaN  0.000000  NaN NaN       NaN NaN NaN\n",
       "2           0.235294       NaN       NaN  0.580645  NaN NaN       NaN NaN NaN\n",
       "3                NaN       NaN       NaN  0.000000  NaN NaN       NaN NaN NaN\n",
       "4                NaN       NaN  0.000000  0.000000  NaN NaN       NaN NaN NaN\n",
       "...              ...       ...       ...       ...  ...  ..       ...  ..  ..\n",
       "34398            NaN       NaN       NaN  0.609062  NaN NaN       NaN NaN NaN\n",
       "34399            NaN  0.830189       NaN       NaN  0.0 NaN       NaN NaN NaN\n",
       "34400            NaN  0.322581       NaN       NaN  NaN NaN       NaN NaN NaN\n",
       "34401            NaN  0.755418  0.857143       NaN  NaN NaN       NaN NaN NaN\n",
       "34402            NaN  0.260870       NaN       NaN  NaN NaN       NaN NaN NaN\n",
       "\n",
       "[30755 rows x 9 columns]"
      ]
     },
     "execution_count": 199,
     "metadata": {},
     "output_type": "execute_result"
    }
   ],
   "source": [
    "member_source_t"
   ]
  },
  {
   "cell_type": "code",
   "execution_count": null,
   "id": "1b82f4b1",
   "metadata": {},
   "outputs": [],
   "source": []
  },
  {
   "cell_type": "code",
   "execution_count": null,
   "id": "3821d413",
   "metadata": {},
   "outputs": [],
   "source": []
  },
  {
   "cell_type": "code",
   "execution_count": null,
   "id": "a0ccee56",
   "metadata": {},
   "outputs": [],
   "source": []
  }
 ],
 "metadata": {
  "kernelspec": {
   "display_name": "Python 3 (ipykernel)",
   "language": "python",
   "name": "python3"
  },
  "language_info": {
   "codemirror_mode": {
    "name": "ipython",
    "version": 3
   },
   "file_extension": ".py",
   "mimetype": "text/x-python",
   "name": "python",
   "nbconvert_exporter": "python",
   "pygments_lexer": "ipython3",
   "version": "3.9.7"
  }
 },
 "nbformat": 4,
 "nbformat_minor": 5
}
