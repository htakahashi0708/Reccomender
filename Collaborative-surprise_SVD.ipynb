{
 "cells": [
  {
   "cell_type": "markdown",
   "id": "07d7d388",
   "metadata": {},
   "source": [
    "https://www.kaggle.com/competitions/kkbox-music-recommendation-challenge/data"
   ]
  },
  {
   "cell_type": "code",
   "execution_count": 1,
   "id": "3d7eb8c1",
   "metadata": {},
   "outputs": [],
   "source": [
    "import numpy as np\n",
    "import pandas as pd\n",
    "import matplotlib.pyplot as plt\n",
    "import seaborn as sns\n",
    "import math\n",
    "import os"
   ]
  },
  {
   "cell_type": "code",
   "execution_count": 2,
   "id": "a40330c6",
   "metadata": {},
   "outputs": [],
   "source": [
    "from surprise import SVD"
   ]
  },
  {
   "cell_type": "code",
   "execution_count": 3,
   "id": "17d314ec",
   "metadata": {},
   "outputs": [],
   "source": [
    "from scipy.sparse import csr_matrix, csc_matrix"
   ]
  },
  {
   "cell_type": "code",
   "execution_count": 4,
   "id": "aa9e6464",
   "metadata": {},
   "outputs": [],
   "source": [
    "from sklearn import metrics"
   ]
  },
  {
   "cell_type": "code",
   "execution_count": 5,
   "id": "aeabf685",
   "metadata": {},
   "outputs": [],
   "source": [
    "train_df = pd.read_parquet(\"data_p1/train_p1.parquet\")"
   ]
  },
  {
   "cell_type": "code",
   "execution_count": 6,
   "id": "8528b061",
   "metadata": {},
   "outputs": [
    {
     "data": {
      "text/plain": [
       "7377418"
      ]
     },
     "execution_count": 6,
     "metadata": {},
     "output_type": "execute_result"
    }
   ],
   "source": [
    "n_train = train_df.shape[0]\n",
    "n_train"
   ]
  },
  {
   "cell_type": "code",
   "execution_count": 7,
   "id": "27177c9b",
   "metadata": {},
   "outputs": [],
   "source": [
    "test_df = pd.read_parquet(\"data_p1/test_p1.parquet\")"
   ]
  },
  {
   "cell_type": "code",
   "execution_count": 8,
   "id": "6b2259f3",
   "metadata": {},
   "outputs": [
    {
     "data": {
      "text/plain": [
       "2556790"
      ]
     },
     "execution_count": 8,
     "metadata": {},
     "output_type": "execute_result"
    }
   ],
   "source": [
    "n_test = test_df.shape[0]\n",
    "n_test"
   ]
  },
  {
   "cell_type": "code",
   "execution_count": 9,
   "id": "7a231456",
   "metadata": {},
   "outputs": [],
   "source": [
    "member_df = pd.read_parquet(\"data_p1/members_p1.parquet\")"
   ]
  },
  {
   "cell_type": "code",
   "execution_count": 10,
   "id": "eed1189a",
   "metadata": {},
   "outputs": [],
   "source": [
    "n_member = member_df.shape[0]"
   ]
  },
  {
   "cell_type": "code",
   "execution_count": 11,
   "id": "c4201c9b",
   "metadata": {},
   "outputs": [
    {
     "data": {
      "text/plain": [
       "city                       int64\n",
       "bd                         int64\n",
       "gender                    object\n",
       "registered_via             int64\n",
       "registration_init_time     int64\n",
       "expiration_date            int64\n",
       "userID                     int32\n",
       "in_traindata                bool\n",
       "dtype: object"
      ]
     },
     "execution_count": 11,
     "metadata": {},
     "output_type": "execute_result"
    }
   ],
   "source": [
    "member_df.dtypes"
   ]
  },
  {
   "cell_type": "code",
   "execution_count": 12,
   "id": "58bb0aff",
   "metadata": {},
   "outputs": [],
   "source": [
    "song_df = pd.read_parquet(\"data_p1/songs_p1.parquet\")"
   ]
  },
  {
   "cell_type": "code",
   "execution_count": 13,
   "id": "d9f9e5ee",
   "metadata": {},
   "outputs": [
    {
     "data": {
      "text/plain": [
       "419781"
      ]
     },
     "execution_count": 13,
     "metadata": {},
     "output_type": "execute_result"
    }
   ],
   "source": [
    "n_song = song_df.shape[0]\n",
    "n_song"
   ]
  },
  {
   "cell_type": "code",
   "execution_count": 14,
   "id": "4d61740e",
   "metadata": {},
   "outputs": [
    {
     "data": {
      "text/html": [
       "<div>\n",
       "<style scoped>\n",
       "    .dataframe tbody tr th:only-of-type {\n",
       "        vertical-align: middle;\n",
       "    }\n",
       "\n",
       "    .dataframe tbody tr th {\n",
       "        vertical-align: top;\n",
       "    }\n",
       "\n",
       "    .dataframe thead th {\n",
       "        text-align: right;\n",
       "    }\n",
       "</style>\n",
       "<table border=\"1\" class=\"dataframe\">\n",
       "  <thead>\n",
       "    <tr style=\"text-align: right;\">\n",
       "      <th></th>\n",
       "      <th>source_system_tab</th>\n",
       "      <th>source_screen_name</th>\n",
       "      <th>source_type</th>\n",
       "      <th>rating</th>\n",
       "      <th>userID</th>\n",
       "      <th>song_idx</th>\n",
       "      <th>itemID</th>\n",
       "      <th>time</th>\n",
       "      <th>time_first</th>\n",
       "      <th>time_old</th>\n",
       "    </tr>\n",
       "  </thead>\n",
       "  <tbody>\n",
       "    <tr>\n",
       "      <th>0</th>\n",
       "      <td>explore</td>\n",
       "      <td>Explore</td>\n",
       "      <td>online-playlist</td>\n",
       "      <td>1</td>\n",
       "      <td>21893</td>\n",
       "      <td>1391177</td>\n",
       "      <td>335731</td>\n",
       "      <td>0</td>\n",
       "      <td>0</td>\n",
       "      <td>0</td>\n",
       "    </tr>\n",
       "    <tr>\n",
       "      <th>1</th>\n",
       "      <td>my library</td>\n",
       "      <td>Local playlist more</td>\n",
       "      <td>local-playlist</td>\n",
       "      <td>1</td>\n",
       "      <td>26052</td>\n",
       "      <td>1584026</td>\n",
       "      <td>357849</td>\n",
       "      <td>1</td>\n",
       "      <td>1</td>\n",
       "      <td>0</td>\n",
       "    </tr>\n",
       "    <tr>\n",
       "      <th>2</th>\n",
       "      <td>my library</td>\n",
       "      <td>Local playlist more</td>\n",
       "      <td>local-playlist</td>\n",
       "      <td>1</td>\n",
       "      <td>26052</td>\n",
       "      <td>456722</td>\n",
       "      <td>210391</td>\n",
       "      <td>2</td>\n",
       "      <td>2</td>\n",
       "      <td>0</td>\n",
       "    </tr>\n",
       "    <tr>\n",
       "      <th>3</th>\n",
       "      <td>my library</td>\n",
       "      <td>Local playlist more</td>\n",
       "      <td>local-playlist</td>\n",
       "      <td>1</td>\n",
       "      <td>26052</td>\n",
       "      <td>1072225</td>\n",
       "      <td>308876</td>\n",
       "      <td>3</td>\n",
       "      <td>3</td>\n",
       "      <td>0</td>\n",
       "    </tr>\n",
       "    <tr>\n",
       "      <th>4</th>\n",
       "      <td>explore</td>\n",
       "      <td>Explore</td>\n",
       "      <td>online-playlist</td>\n",
       "      <td>1</td>\n",
       "      <td>21893</td>\n",
       "      <td>518476</td>\n",
       "      <td>222980</td>\n",
       "      <td>4</td>\n",
       "      <td>4</td>\n",
       "      <td>0</td>\n",
       "    </tr>\n",
       "  </tbody>\n",
       "</table>\n",
       "</div>"
      ],
      "text/plain": [
       "  source_system_tab   source_screen_name      source_type  rating  userID  \\\n",
       "0           explore              Explore  online-playlist       1   21893   \n",
       "1        my library  Local playlist more   local-playlist       1   26052   \n",
       "2        my library  Local playlist more   local-playlist       1   26052   \n",
       "3        my library  Local playlist more   local-playlist       1   26052   \n",
       "4           explore              Explore  online-playlist       1   21893   \n",
       "\n",
       "   song_idx  itemID  time  time_first  time_old  \n",
       "0   1391177  335731     0           0         0  \n",
       "1   1584026  357849     1           1         0  \n",
       "2    456722  210391     2           2         0  \n",
       "3   1072225  308876     3           3         0  \n",
       "4    518476  222980     4           4         0  "
      ]
     },
     "execution_count": 14,
     "metadata": {},
     "output_type": "execute_result"
    }
   ],
   "source": [
    "train_df.head()"
   ]
  },
  {
   "cell_type": "code",
   "execution_count": 15,
   "id": "fc89a48b",
   "metadata": {},
   "outputs": [],
   "source": [
    "filter1 = train_df[\"source_system_tab\"].isna()\n",
    "train_df.loc[filter1,\"source_system_tab\"] = \"None\"\n",
    "\n",
    "filter1 = test_df[\"source_system_tab\"].isna()\n",
    "test_df.loc[filter1,\"source_system_tab\"] = \"None\""
   ]
  },
  {
   "cell_type": "code",
   "execution_count": 16,
   "id": "76398389",
   "metadata": {},
   "outputs": [
    {
     "data": {
      "text/plain": [
       "array([<AxesSubplot:title={'center':'count'}, xlabel='source_system_tab'>,\n",
       "       <AxesSubplot:title={'center':'mean'}, xlabel='source_system_tab'>],\n",
       "      dtype=object)"
      ]
     },
     "execution_count": 16,
     "metadata": {},
     "output_type": "execute_result"
    },
    {
     "data": {
      "image/png": "[encoded data removed]",
      "text/plain": [
       "<Figure size 576x576 with 2 Axes>"
      ]
     },
     "metadata": {
      "needs_background": "light"
     },
     "output_type": "display_data"
    }
   ],
   "source": [
    "train_df[[\"source_system_tab\", \"rating\"]].groupby(\"source_system_tab\").agg([\"count\", \"mean\"])[\"rating\"].plot.bar(subplots = True, figsize = (8, 8))"
   ]
  },
  {
   "cell_type": "code",
   "execution_count": 17,
   "id": "e6fe7977",
   "metadata": {},
   "outputs": [
    {
     "data": {
      "text/plain": [
       "array([<AxesSubplot:title={'center':'count'}, xlabel='source_system_tab'>],\n",
       "      dtype=object)"
      ]
     },
     "execution_count": 17,
     "metadata": {},
     "output_type": "execute_result"
    },
    {
     "data": {
      "image/png": "[encoded data removed]",
      "text/plain": [
       "<Figure size 576x288 with 1 Axes>"
      ]
     },
     "metadata": {
      "needs_background": "light"
     },
     "output_type": "display_data"
    }
   ],
   "source": [
    "test_df[[\"source_system_tab\", \"itemID\"]].groupby(\"source_system_tab\").agg([\"count\"])[\"itemID\"].plot.bar(subplots = True, figsize = (8, 4))"
   ]
  },
  {
   "cell_type": "code",
   "execution_count": 18,
   "id": "a2482822",
   "metadata": {},
   "outputs": [
    {
     "data": {
      "text/plain": [
       "0"
      ]
     },
     "execution_count": 18,
     "metadata": {},
     "output_type": "execute_result"
    }
   ],
   "source": [
    "train_df[\"source_system_tab\"].isna().sum()"
   ]
  },
  {
   "cell_type": "code",
   "execution_count": 19,
   "id": "3e60dcab",
   "metadata": {},
   "outputs": [
    {
     "data": {
      "text/plain": [
       "array(['explore', 'my library', 'search', 'discover', 'None', 'radio',\n",
       "       'listen with', 'notification', 'settings'], dtype=object)"
      ]
     },
     "execution_count": 19,
     "metadata": {},
     "output_type": "execute_result"
    }
   ],
   "source": [
    "train_df[\"source_system_tab\"].unique()"
   ]
  },
  {
   "cell_type": "code",
   "execution_count": 20,
   "id": "b424b9f9",
   "metadata": {},
   "outputs": [],
   "source": [
    "g0_set = set([\"my library\", \"settings\"])\n",
    "g1_set = set([\"discover\", \"explore\", \"search\"])\n",
    "g2_set = set([\"listen with\", \"notification\"])\n",
    "g3_set = set([\"radio\"])\n"
   ]
  },
  {
   "cell_type": "code",
   "execution_count": 21,
   "id": "8adcd754",
   "metadata": {},
   "outputs": [],
   "source": [
    "def source_id(source):\n",
    "    \n",
    "    if source in g0_set:\n",
    "        return 0\n",
    "    \n",
    "    if source in g1_set:\n",
    "        return 1\n",
    "    \n",
    "    if source in g2_set:\n",
    "        return 2\n",
    "    \n",
    "    if source in g3_set:\n",
    "        return 3\n",
    "    \n",
    "    return 4\n",
    "    "
   ]
  },
  {
   "cell_type": "code",
   "execution_count": 22,
   "id": "e65f50f4",
   "metadata": {},
   "outputs": [],
   "source": [
    "train_df[\"source_id\"] = train_df[\"source_system_tab\"].apply(lambda x: source_id(x))"
   ]
  },
  {
   "cell_type": "code",
   "execution_count": 23,
   "id": "34b52e20",
   "metadata": {},
   "outputs": [],
   "source": [
    "test_df[\"source_id\"] = test_df[\"source_system_tab\"].apply(lambda x: source_id(x))"
   ]
  },
  {
   "cell_type": "code",
   "execution_count": 24,
   "id": "578a49bd",
   "metadata": {},
   "outputs": [
    {
     "data": {
      "text/html": [
       "<div>\n",
       "<style scoped>\n",
       "    .dataframe tbody tr th:only-of-type {\n",
       "        vertical-align: middle;\n",
       "    }\n",
       "\n",
       "    .dataframe tbody tr th {\n",
       "        vertical-align: top;\n",
       "    }\n",
       "\n",
       "    .dataframe thead th {\n",
       "        text-align: right;\n",
       "    }\n",
       "</style>\n",
       "<table border=\"1\" class=\"dataframe\">\n",
       "  <thead>\n",
       "    <tr style=\"text-align: right;\">\n",
       "      <th></th>\n",
       "      <th>source_id</th>\n",
       "    </tr>\n",
       "    <tr>\n",
       "      <th>source_system_tab</th>\n",
       "      <th></th>\n",
       "    </tr>\n",
       "  </thead>\n",
       "  <tbody>\n",
       "    <tr>\n",
       "      <th>None</th>\n",
       "      <td>4</td>\n",
       "    </tr>\n",
       "    <tr>\n",
       "      <th>discover</th>\n",
       "      <td>1</td>\n",
       "    </tr>\n",
       "    <tr>\n",
       "      <th>explore</th>\n",
       "      <td>1</td>\n",
       "    </tr>\n",
       "    <tr>\n",
       "      <th>listen with</th>\n",
       "      <td>2</td>\n",
       "    </tr>\n",
       "    <tr>\n",
       "      <th>my library</th>\n",
       "      <td>0</td>\n",
       "    </tr>\n",
       "    <tr>\n",
       "      <th>notification</th>\n",
       "      <td>2</td>\n",
       "    </tr>\n",
       "    <tr>\n",
       "      <th>radio</th>\n",
       "      <td>3</td>\n",
       "    </tr>\n",
       "    <tr>\n",
       "      <th>search</th>\n",
       "      <td>1</td>\n",
       "    </tr>\n",
       "    <tr>\n",
       "      <th>settings</th>\n",
       "      <td>0</td>\n",
       "    </tr>\n",
       "  </tbody>\n",
       "</table>\n",
       "</div>"
      ],
      "text/plain": [
       "                   source_id\n",
       "source_system_tab           \n",
       "None                       4\n",
       "discover                   1\n",
       "explore                    1\n",
       "listen with                2\n",
       "my library                 0\n",
       "notification               2\n",
       "radio                      3\n",
       "search                     1\n",
       "settings                   0"
      ]
     },
     "execution_count": 24,
     "metadata": {},
     "output_type": "execute_result"
    }
   ],
   "source": [
    "train_df[[\"source_system_tab\", \"source_id\"]].groupby(\"source_system_tab\").max()"
   ]
  },
  {
   "cell_type": "code",
   "execution_count": 25,
   "id": "e44cd2c5",
   "metadata": {},
   "outputs": [],
   "source": [
    "def stat_data(n_val, tag, cutoff):\n",
    "\n",
    "    n_train = train_df.shape[0]\n",
    "    \n",
    "    n_train2 = n_train - n_val\n",
    "    \n",
    "    sum_df = train_df[[tag, \"rating\"]].iloc[:n_train2,:].groupby(tag).sum()\n",
    "    member_count = train_df[[tag, \"rating\"]].iloc[:n_train2,:].groupby(tag).count()\n",
    "    \n",
    "    member_p = sum_df/(0.5+member_count)\n",
    "    \n",
    "    member_p = member_p.reset_index()\n",
    "    \n",
    "    member_count = member_count.reset_index()\n",
    "    \n",
    "\n",
    "    sum_df = train_df[[tag, \"source_id\", \"rating\"]].iloc[:n_train2,:].groupby([tag, \"source_id\"]).sum()\n",
    "    member_source_count = train_df[[tag,\"source_id\" ,\"rating\"]].iloc[:n_train2,:].groupby([tag, \"source_id\"]).count()\n",
    "    \n",
    "    member_source_p = sum_df/(0.5+member_source_count)\n",
    "    \n",
    "    \n",
    "    member_source_p =  member_source_p.reset_index()\n",
    "    \n",
    "    member_source_count = member_source_count.reset_index()\n",
    "    \n",
    "    #return member_count_df, count_df,  member_p, member_source_p\n",
    "\n",
    "    \n",
    "    member_p_dic = {}\n",
    "    m_array =  member_p[tag].to_numpy()\n",
    "    p_array =  member_p[\"rating\"].to_numpy()\n",
    "    c_array = member_count[\"rating\"].to_numpy()\n",
    "    for i in range(m_array.shape[0]):\n",
    "        if c_array[i] > cutoff:\n",
    "            member_p_dic[m_array[i]] = p_array[i]\n",
    "\n",
    "\n",
    "    member_source_p_dic = {}\n",
    "    m_array =  member_source_p[tag].to_numpy()\n",
    "    p_array =  member_source_p[\"rating\"].to_numpy()\n",
    "    c_array = member_source_count[\"rating\"].to_numpy()\n",
    "    s_array = member_source_p[\"source_id\"].to_numpy()\n",
    "    for i in range(m_array.shape[0]):\n",
    "        if c_array[i] > cutoff:\n",
    "            member_source_p_dic[(m_array[i], s_array[i])] = p_array[i]\n",
    "\n",
    "            \n",
    "            \n",
    "    filter1 = member_source_count[\"rating\"] > cutoff\n",
    "    \n",
    "    \n",
    "    return member_p_dic, member_source_p_dic, set(member_source_count.loc[filter1][tag].unique())\n"
   ]
  },
  {
   "cell_type": "code",
   "execution_count": 26,
   "id": "aae05ef3",
   "metadata": {},
   "outputs": [],
   "source": [
    "def source_stat(n_val):\n",
    "    \n",
    "    n_train = train_df.shape[0]\n",
    "    \n",
    "    n_train2 = n_train - n_val\n",
    "    \n",
    "    \n",
    "    mean_df = train_df[[\"source_id\", \"rating\"]].iloc[:n_train2,:].groupby(\"source_id\").mean()\n",
    "    \n",
    "    mean_df = mean_df.reset_index()\n",
    "    \n",
    "    m_array = mean_df[\"source_id\"].to_numpy()\n",
    "    val_array = mean_df[\"rating\"].to_numpy()\n",
    "    \n",
    "    p_dic = {}\n",
    "    for i in range(m_array.shape[0]):\n",
    "        p_dic[m_array[i]] = val_array[i]\n",
    "        \n",
    "    return p_dic\n",
    "    "
   ]
  },
  {
   "cell_type": "code",
   "execution_count": null,
   "id": "50cc7303",
   "metadata": {},
   "outputs": [],
   "source": []
  },
  {
   "cell_type": "code",
   "execution_count": 27,
   "id": "1b5f5919",
   "metadata": {},
   "outputs": [
    {
     "data": {
      "text/html": [
       "<div>\n",
       "<style scoped>\n",
       "    .dataframe tbody tr th:only-of-type {\n",
       "        vertical-align: middle;\n",
       "    }\n",
       "\n",
       "    .dataframe tbody tr th {\n",
       "        vertical-align: top;\n",
       "    }\n",
       "\n",
       "    .dataframe thead th {\n",
       "        text-align: right;\n",
       "    }\n",
       "</style>\n",
       "<table border=\"1\" class=\"dataframe\">\n",
       "  <thead>\n",
       "    <tr style=\"text-align: right;\">\n",
       "      <th></th>\n",
       "      <th>source_system_tab</th>\n",
       "      <th>source_screen_name</th>\n",
       "      <th>source_type</th>\n",
       "      <th>rating</th>\n",
       "      <th>userID</th>\n",
       "      <th>song_idx</th>\n",
       "      <th>itemID</th>\n",
       "      <th>time</th>\n",
       "      <th>time_first</th>\n",
       "      <th>time_old</th>\n",
       "      <th>source_id</th>\n",
       "    </tr>\n",
       "  </thead>\n",
       "  <tbody>\n",
       "    <tr>\n",
       "      <th>0</th>\n",
       "      <td>explore</td>\n",
       "      <td>Explore</td>\n",
       "      <td>online-playlist</td>\n",
       "      <td>1</td>\n",
       "      <td>21893</td>\n",
       "      <td>1391177</td>\n",
       "      <td>335731</td>\n",
       "      <td>0</td>\n",
       "      <td>0</td>\n",
       "      <td>0</td>\n",
       "      <td>1</td>\n",
       "    </tr>\n",
       "    <tr>\n",
       "      <th>1</th>\n",
       "      <td>my library</td>\n",
       "      <td>Local playlist more</td>\n",
       "      <td>local-playlist</td>\n",
       "      <td>1</td>\n",
       "      <td>26052</td>\n",
       "      <td>1584026</td>\n",
       "      <td>357849</td>\n",
       "      <td>1</td>\n",
       "      <td>1</td>\n",
       "      <td>0</td>\n",
       "      <td>0</td>\n",
       "    </tr>\n",
       "    <tr>\n",
       "      <th>2</th>\n",
       "      <td>my library</td>\n",
       "      <td>Local playlist more</td>\n",
       "      <td>local-playlist</td>\n",
       "      <td>1</td>\n",
       "      <td>26052</td>\n",
       "      <td>456722</td>\n",
       "      <td>210391</td>\n",
       "      <td>2</td>\n",
       "      <td>2</td>\n",
       "      <td>0</td>\n",
       "      <td>0</td>\n",
       "    </tr>\n",
       "    <tr>\n",
       "      <th>3</th>\n",
       "      <td>my library</td>\n",
       "      <td>Local playlist more</td>\n",
       "      <td>local-playlist</td>\n",
       "      <td>1</td>\n",
       "      <td>26052</td>\n",
       "      <td>1072225</td>\n",
       "      <td>308876</td>\n",
       "      <td>3</td>\n",
       "      <td>3</td>\n",
       "      <td>0</td>\n",
       "      <td>0</td>\n",
       "    </tr>\n",
       "    <tr>\n",
       "      <th>4</th>\n",
       "      <td>explore</td>\n",
       "      <td>Explore</td>\n",
       "      <td>online-playlist</td>\n",
       "      <td>1</td>\n",
       "      <td>21893</td>\n",
       "      <td>518476</td>\n",
       "      <td>222980</td>\n",
       "      <td>4</td>\n",
       "      <td>4</td>\n",
       "      <td>0</td>\n",
       "      <td>1</td>\n",
       "    </tr>\n",
       "  </tbody>\n",
       "</table>\n",
       "</div>"
      ],
      "text/plain": [
       "  source_system_tab   source_screen_name      source_type  rating  userID  \\\n",
       "0           explore              Explore  online-playlist       1   21893   \n",
       "1        my library  Local playlist more   local-playlist       1   26052   \n",
       "2        my library  Local playlist more   local-playlist       1   26052   \n",
       "3        my library  Local playlist more   local-playlist       1   26052   \n",
       "4           explore              Explore  online-playlist       1   21893   \n",
       "\n",
       "   song_idx  itemID  time  time_first  time_old  source_id  \n",
       "0   1391177  335731     0           0         0          1  \n",
       "1   1584026  357849     1           1         0          0  \n",
       "2    456722  210391     2           2         0          0  \n",
       "3   1072225  308876     3           3         0          0  \n",
       "4    518476  222980     4           4         0          1  "
      ]
     },
     "execution_count": 27,
     "metadata": {},
     "output_type": "execute_result"
    }
   ],
   "source": [
    "train_df.head()"
   ]
  },
  {
   "cell_type": "code",
   "execution_count": null,
   "id": "ddcbc2ad",
   "metadata": {},
   "outputs": [],
   "source": []
  },
  {
   "cell_type": "code",
   "execution_count": 28,
   "id": "a51796de",
   "metadata": {},
   "outputs": [],
   "source": [
    "def filter_df(n_start, n_val, min_member, min_song):\n",
    "    \n",
    "    n_train = train_df.shape[0]\n",
    "    \n",
    "    n_train2 = n_train - n_val\n",
    "    \n",
    "    train_df2 = train_df.iloc[n_start:n_train2,:]\n",
    "    \n",
    "    query1 =  \"rating >\" + str(min_member)\n",
    "    query2 =  \"rating >\" + str(min_song)\n",
    "    \n",
    "    \n",
    "    \n",
    "    member_list = train_df2[[\"userID\", \"rating\"]].groupby(\"userID\").count().query(query1).reset_index()[\"userID\"].to_numpy()\n",
    "    song_list = train_df2[[\"itemID\", \"rating\"]].query(\"itemID >= 0\").groupby(\"itemID\").count().query(query2).reset_index()[\"itemID\"].to_numpy()\n",
    "    \n",
    "    member_set = set(member_list)\n",
    "    song_set = set(song_list)\n",
    "\n",
    "    \n",
    "    filter1 = (train_df2[\"userID\"].apply(lambda x: x in member_set)) & (train_df2[\"itemID\"].apply(lambda x: x in song_set)) \n",
    "\n",
    "    \n",
    "    train_df3 = train_df2[[\"userID\", \"itemID\", \"source_id\", \"rating\"]].loc[filter1]\n",
    "    \n",
    "    print(len(member_set),\"members, \",  len(song_set), \"songs\")\n",
    "    \n",
    "    return train_df3\n",
    "    \n",
    "    \n",
    "    "
   ]
  },
  {
   "cell_type": "markdown",
   "id": "d01a1385",
   "metadata": {},
   "source": [
    "### Set validation size"
   ]
  },
  {
   "cell_type": "code",
   "execution_count": 29,
   "id": "802231a7",
   "metadata": {},
   "outputs": [],
   "source": [
    "n_val = int(n_train*0.2)\n",
    "n_val = 0\n"
   ]
  },
  {
   "cell_type": "code",
   "execution_count": 30,
   "id": "bb3d2105",
   "metadata": {},
   "outputs": [],
   "source": [
    "#n_start = int(n_train*0.2)\n",
    "n_start = 0"
   ]
  },
  {
   "cell_type": "code",
   "execution_count": 31,
   "id": "99056361",
   "metadata": {},
   "outputs": [],
   "source": [
    "#member_count, member_source_count, member_p, member_source_p = member_stat(n_val)"
   ]
  },
  {
   "cell_type": "code",
   "execution_count": 32,
   "id": "b1112135",
   "metadata": {},
   "outputs": [],
   "source": [
    "member_p_dic, member_source_p_dic, member_set =  stat_data(n_val, \"userID\", 20)"
   ]
  },
  {
   "cell_type": "code",
   "execution_count": 33,
   "id": "1981a031",
   "metadata": {},
   "outputs": [],
   "source": [
    "song_p_dic, song_source_p_dic, song_set =  stat_data(n_val, \"itemID\", 20)"
   ]
  },
  {
   "cell_type": "code",
   "execution_count": 34,
   "id": "f2a5a383",
   "metadata": {},
   "outputs": [],
   "source": [
    "source_p_dic = source_stat(n_val)"
   ]
  },
  {
   "cell_type": "code",
   "execution_count": 35,
   "id": "599da979",
   "metadata": {},
   "outputs": [
    {
     "name": "stdout",
     "output_type": "stream",
     "text": [
      "27764 members,  89620 songs\n"
     ]
    }
   ],
   "source": [
    "tmp_df = filter_df(n_start, n_val, 20, 20)\n",
    "#tmp_df = filter_df(n_val, 100, 400)\n",
    "#tmp_df = filter_df(n_val, 20, 200)"
   ]
  },
  {
   "cell_type": "code",
   "execution_count": 36,
   "id": "4a54b308",
   "metadata": {},
   "outputs": [],
   "source": [
    "import os\n",
    "\n",
    "from surprise import Dataset, NormalPredictor, Reader\n",
    "from surprise.model_selection import cross_validate\n",
    "from surprise import accuracy, Dataset, SVD, SVDpp"
   ]
  },
  {
   "cell_type": "code",
   "execution_count": 37,
   "id": "c1b95649",
   "metadata": {},
   "outputs": [],
   "source": [
    "reader = Reader(rating_scale=(0, 1))"
   ]
  },
  {
   "cell_type": "code",
   "execution_count": 38,
   "id": "d9737087",
   "metadata": {},
   "outputs": [],
   "source": [
    "data_sp = []\n",
    "for source in range(5):\n",
    "    filter1 = tmp_df[\"source_id\"] == source\n",
    "    data_sp.append(Dataset.load_from_df(tmp_df[[\"userID\", \"itemID\", \"rating\"]].loc[filter1,:], reader).build_full_trainset())"
   ]
  },
  {
   "cell_type": "code",
   "execution_count": 39,
   "id": "5bf29ada",
   "metadata": {},
   "outputs": [
    {
     "name": "stdout",
     "output_type": "stream",
     "text": [
      "train svd for source 0\n",
      "train svd for source 1\n",
      "train svd for source 2\n",
      "train svd for source 3\n",
      "train svd for source 4\n"
     ]
    }
   ],
   "source": [
    "model_sp = []\n",
    "for i in range(5):\n",
    "    print(\"train svd for source\", i)\n",
    "    \n",
    "    algo = SVD(n_factors = 25, n_epochs = 40)\n",
    "    algo.fit(data_sp[i])\n",
    "    model_sp.append(algo)"
   ]
  },
  {
   "cell_type": "code",
   "execution_count": 40,
   "id": "82cc50b7",
   "metadata": {},
   "outputs": [],
   "source": [
    "user_set = set(tmp_df[\"userID\"].to_numpy())\n",
    "item_set = set(tmp_df[\"itemID\"].to_numpy())"
   ]
  },
  {
   "cell_type": "code",
   "execution_count": null,
   "id": "5994a505",
   "metadata": {},
   "outputs": [],
   "source": []
  },
  {
   "cell_type": "code",
   "execution_count": null,
   "id": "1b06ebdf",
   "metadata": {},
   "outputs": [],
   "source": []
  },
  {
   "cell_type": "code",
   "execution_count": null,
   "id": "82e746f3",
   "metadata": {},
   "outputs": [],
   "source": []
  },
  {
   "cell_type": "code",
   "execution_count": 43,
   "id": "2a772a89",
   "metadata": {},
   "outputs": [],
   "source": [
    "def idx_dic(val, dic):\n",
    "    try:\n",
    "        return dic[val]\n",
    "    except KeyError:\n",
    "        return -1\n",
    "    \n",
    "v_idx_dic = np.vectorize(idx_dic)"
   ]
  },
  {
   "cell_type": "markdown",
   "id": "d66b8984",
   "metadata": {},
   "source": [
    "## Validate"
   ]
  },
  {
   "cell_type": "code",
   "execution_count": 97,
   "id": "5a93f46d",
   "metadata": {},
   "outputs": [],
   "source": [
    "song_val = train_df[\"itemID\"].iloc[-n_val:].to_numpy()\n",
    "member_val =  train_df[\"userID\"].iloc[-n_val:].to_numpy()\n",
    "y_val = train_df[\"rating\"].iloc[-n_val:].to_numpy()\n",
    "source_val =  train_df[\"source_id\"].iloc[-n_val:].to_numpy()\n",
    "\n",
    "#song_val_idx = v_idx_dic(song_val, s_idx_dic)\n",
    "#member_val_idx =  v_idx_dic(member_val, m_idx_dic)"
   ]
  },
  {
   "cell_type": "code",
   "execution_count": 98,
   "id": "13fae9b9",
   "metadata": {},
   "outputs": [],
   "source": [
    "yhat_val = np.zeros(n_val)"
   ]
  },
  {
   "cell_type": "code",
   "execution_count": 99,
   "id": "b9d16693",
   "metadata": {},
   "outputs": [],
   "source": [
    "for i in range(n_val):\n",
    "    yhat_val[i] = source_p_dic[source_val[i]]"
   ]
  },
  {
   "cell_type": "code",
   "execution_count": 100,
   "id": "f1f53b00",
   "metadata": {},
   "outputs": [
    {
     "data": {
      "text/plain": [
       "0.5820893244413426"
      ]
     },
     "execution_count": 100,
     "metadata": {},
     "output_type": "execute_result"
    }
   ],
   "source": [
    "fpr, tpr, thresholds = metrics.roc_curve(y_val, yhat_val, pos_label=1)\n",
    "metrics.auc(fpr, tpr)"
   ]
  },
  {
   "cell_type": "code",
   "execution_count": 101,
   "id": "b6ab4776",
   "metadata": {},
   "outputs": [],
   "source": [
    "#for i in range(n_val):\n",
    "#    try:\n",
    "#        yhat_val[i] = member_p_dic[member_val[i]]\n",
    "#    except KeyError:\n",
    "#        pass\n",
    "\n",
    "#fpr, tpr, thresholds = metrics.roc_curve(y_val, yhat_val, pos_label=1)\n",
    "#metrics.auc(fpr, tpr)"
   ]
  },
  {
   "cell_type": "markdown",
   "id": "5af3400f",
   "metadata": {},
   "source": [
    "0.6087654705570389 (user_mean)"
   ]
  },
  {
   "cell_type": "code",
   "execution_count": 102,
   "id": "a0f7d3e6",
   "metadata": {},
   "outputs": [],
   "source": [
    "for i in range(n_val):\n",
    "    try:\n",
    "        yhat_val[i] = song_source_p_dic[(song_val[i], source_val[i])]\n",
    "    except KeyError:\n",
    "        pass"
   ]
  },
  {
   "cell_type": "code",
   "execution_count": 103,
   "id": "30147cf6",
   "metadata": {},
   "outputs": [
    {
     "data": {
      "text/plain": [
       "0.6170482654672829"
      ]
     },
     "execution_count": 103,
     "metadata": {},
     "output_type": "execute_result"
    }
   ],
   "source": [
    "fpr, tpr, thresholds = metrics.roc_curve(y_val, yhat_val, pos_label=1)\n",
    "metrics.auc(fpr, tpr)"
   ]
  },
  {
   "cell_type": "code",
   "execution_count": 104,
   "id": "ebfb11c5",
   "metadata": {},
   "outputs": [],
   "source": [
    "for i in range(n_val):\n",
    "    try:\n",
    "        yhat_val[i] = member_source_p_dic[(member_val[i], source_val[i])]\n",
    "    except KeyError:\n",
    "        pass"
   ]
  },
  {
   "cell_type": "code",
   "execution_count": 105,
   "id": "b125c426",
   "metadata": {},
   "outputs": [
    {
     "data": {
      "text/plain": [
       "0.6451557798439718"
      ]
     },
     "execution_count": 105,
     "metadata": {},
     "output_type": "execute_result"
    }
   ],
   "source": [
    "fpr, tpr, thresholds = metrics.roc_curve(y_val, yhat_val, pos_label=1)\n",
    "metrics.auc(fpr, tpr)"
   ]
  },
  {
   "cell_type": "code",
   "execution_count": 106,
   "id": "914d0f51",
   "metadata": {},
   "outputs": [
    {
     "data": {
      "text/plain": [
       "1475483"
      ]
     },
     "execution_count": 106,
     "metadata": {},
     "output_type": "execute_result"
    }
   ],
   "source": [
    "n_val"
   ]
  },
  {
   "cell_type": "code",
   "execution_count": 107,
   "id": "c57000e4",
   "metadata": {},
   "outputs": [],
   "source": [
    "count = 0\n",
    "for i in range(n_val):\n",
    "    user = member_val[i]\n",
    "    item = song_val[i]\n",
    "    source = source_val[i]\n",
    "    \n",
    "    if (item in item_set) and (user in user_set):\n",
    "        count += 1\n",
    "        yhat_val[i] = model_sp[source].predict(user, item, verbose=False).est\n"
   ]
  },
  {
   "cell_type": "code",
   "execution_count": 109,
   "id": "eb274877",
   "metadata": {},
   "outputs": [
    {
     "data": {
      "text/plain": [
       "0.6876744767645577"
      ]
     },
     "execution_count": 109,
     "metadata": {},
     "output_type": "execute_result"
    }
   ],
   "source": [
    "count/n_val"
   ]
  },
  {
   "cell_type": "code",
   "execution_count": 108,
   "id": "f659980a",
   "metadata": {},
   "outputs": [
    {
     "data": {
      "text/plain": [
       "0.6641073245202727"
      ]
     },
     "execution_count": 108,
     "metadata": {},
     "output_type": "execute_result"
    }
   ],
   "source": [
    "fpr, tpr, thresholds = metrics.roc_curve(y_val, yhat_val, pos_label=1)\n",
    "metrics.auc(fpr, tpr)"
   ]
  },
  {
   "cell_type": "code",
   "execution_count": null,
   "id": "eadb57c4",
   "metadata": {},
   "outputs": [],
   "source": []
  },
  {
   "cell_type": "markdown",
   "id": "1c6ed7e5",
   "metadata": {},
   "source": [
    "SVD (val 0.2) n_epochs = 20\n",
    "* 0.661722705849648: n_factor = 100\n",
    "* 0.6631268974024442: n_factor = 40\n",
    "* 0.6634261792303882: n_factor = 30\n",
    "* 0.6635273380985012: n_factor = 25\n",
    "* 0.6635223695003534: n_factor = 15\n",
    "\n",
    "\n",
    "n_factor = 25:\n",
    "\n",
    "* 0.6876744767645577: n_epochs = 40"
   ]
  },
  {
   "cell_type": "code",
   "execution_count": null,
   "id": "4d774a92",
   "metadata": {},
   "outputs": [],
   "source": []
  },
  {
   "cell_type": "markdown",
   "id": "915caaa4",
   "metadata": {},
   "source": [
    "## Test"
   ]
  },
  {
   "cell_type": "code",
   "execution_count": 41,
   "id": "65f9c220",
   "metadata": {},
   "outputs": [],
   "source": [
    "song_test = test_df[\"itemID\"].to_numpy()\n",
    "member_test =  test_df[\"userID\"].to_numpy()\n",
    "source_test =  test_df[\"source_id\"].to_numpy()\n",
    "\n",
    "#song_test_idx = v_idx_dic(song_test, s_idx_dic)\n",
    "#member_test_idx =  v_idx_dic(member_test, m_idx_dic)"
   ]
  },
  {
   "cell_type": "markdown",
   "id": "cb8a22d5",
   "metadata": {},
   "source": [
    "kaggle private score: 0.62125 (song_source_stat.csv)"
   ]
  },
  {
   "cell_type": "code",
   "execution_count": 42,
   "id": "6d592558",
   "metadata": {},
   "outputs": [],
   "source": [
    "yhat_test = np.zeros(n_test)\n",
    "yhat_test[:] = np.nan"
   ]
  },
  {
   "cell_type": "code",
   "execution_count": null,
   "id": "84e0b9b3",
   "metadata": {},
   "outputs": [],
   "source": []
  },
  {
   "cell_type": "code",
   "execution_count": 43,
   "id": "2176af8d",
   "metadata": {},
   "outputs": [],
   "source": [
    "for i in range(n_test):\n",
    "    yhat_test[i] = source_p_dic[source_test[i]]"
   ]
  },
  {
   "cell_type": "code",
   "execution_count": 44,
   "id": "f814a097",
   "metadata": {},
   "outputs": [],
   "source": [
    "count1 = 0\n",
    "for i in range(n_test):\n",
    "    try:\n",
    "        yhat_test[i] = song_source_p_dic[(song_test[i], source_test[i])]\n",
    "        count1 += 1\n",
    "    except KeyError:\n",
    "        pass"
   ]
  },
  {
   "cell_type": "code",
   "execution_count": 45,
   "id": "423fffbb",
   "metadata": {},
   "outputs": [
    {
     "data": {
      "text/plain": [
       "0.6412845794922539"
      ]
     },
     "execution_count": 45,
     "metadata": {},
     "output_type": "execute_result"
    }
   ],
   "source": [
    "count1/n_test"
   ]
  },
  {
   "cell_type": "code",
   "execution_count": 46,
   "id": "42a80723",
   "metadata": {},
   "outputs": [],
   "source": [
    "#sample_df = pd.read_parquet(\"data/sample_submission.parquet\")\n",
    "#sample_df[\"target\"] = yhat_test\n",
    "#sample_df.to_csv(\"output/song_source_stat.csv\", index = False)"
   ]
  },
  {
   "cell_type": "markdown",
   "id": "f4ab416e",
   "metadata": {},
   "source": [
    "kaggle private score: 0.65077 (simple_stat.csv)"
   ]
  },
  {
   "cell_type": "code",
   "execution_count": 47,
   "id": "5f8688a5",
   "metadata": {},
   "outputs": [],
   "source": [
    "count2 = 0\n",
    "for i in range(n_test):\n",
    "    try:\n",
    "        yhat_test[i] = member_source_p_dic[(member_test[i], source_test[i])]\n",
    "        count2 += 1\n",
    "    except KeyError:\n",
    "        pass"
   ]
  },
  {
   "cell_type": "code",
   "execution_count": 48,
   "id": "b51657f8",
   "metadata": {},
   "outputs": [
    {
     "data": {
      "text/plain": [
       "0.8499825953637178"
      ]
     },
     "execution_count": 48,
     "metadata": {},
     "output_type": "execute_result"
    }
   ],
   "source": [
    "count2/n_test"
   ]
  },
  {
   "cell_type": "code",
   "execution_count": 49,
   "id": "8d9f6bcd",
   "metadata": {},
   "outputs": [
    {
     "data": {
      "text/plain": [
       "0"
      ]
     },
     "execution_count": 49,
     "metadata": {},
     "output_type": "execute_result"
    }
   ],
   "source": [
    "np.isnan(yhat_test).sum()\n"
   ]
  },
  {
   "cell_type": "code",
   "execution_count": 50,
   "id": "8fccb282",
   "metadata": {},
   "outputs": [],
   "source": [
    "#sample_df = pd.read_parquet(\"data/sample_submission.parquet\")\n",
    "#sample_df[\"target\"] = yhat_test\n",
    "#sample_df.to_csv(\"output/user_source_stat.csv\", index = False)"
   ]
  },
  {
   "cell_type": "code",
   "execution_count": 51,
   "id": "5ff0e094",
   "metadata": {},
   "outputs": [
    {
     "data": {
      "image/png": "[encoded data removed]",
      "text/plain": [
       "<Figure size 432x288 with 1 Axes>"
      ]
     },
     "metadata": {
      "needs_background": "light"
     },
     "output_type": "display_data"
    }
   ],
   "source": [
    "plt.hist(yhat_test)\n",
    "plt.show()"
   ]
  },
  {
   "cell_type": "markdown",
   "id": "defc4b19",
   "metadata": {},
   "source": [
    "**Surprise SVD**"
   ]
  },
  {
   "cell_type": "code",
   "execution_count": 52,
   "id": "77812751",
   "metadata": {},
   "outputs": [],
   "source": [
    "count = 0\n",
    "for i in range(n_test):\n",
    "    user = member_test[i]\n",
    "    item = song_test[i]\n",
    "    source = source_test[i]\n",
    "    \n",
    "    if (item in item_set) and (user in user_set):\n",
    "        count += 1\n",
    "        yhat_test[i] = model_sp[source].predict(user, item, verbose=False).est\n"
   ]
  },
  {
   "cell_type": "code",
   "execution_count": 53,
   "id": "c37c1bd1",
   "metadata": {},
   "outputs": [
    {
     "data": {
      "text/plain": [
       "0.7474082736556386"
      ]
     },
     "execution_count": 53,
     "metadata": {},
     "output_type": "execute_result"
    }
   ],
   "source": [
    "count/n_test"
   ]
  },
  {
   "cell_type": "code",
   "execution_count": 54,
   "id": "b7469e84",
   "metadata": {},
   "outputs": [
    {
     "data": {
      "text/plain": [
       "(0, 1.0, 0.0)"
      ]
     },
     "execution_count": 54,
     "metadata": {},
     "output_type": "execute_result"
    }
   ],
   "source": [
    "np.isnan(yhat_test).sum(), np.max(yhat_test), np.min(yhat_test)"
   ]
  },
  {
   "cell_type": "code",
   "execution_count": 55,
   "id": "df728cca",
   "metadata": {},
   "outputs": [],
   "source": [
    "yhat_test[yhat_test > 1] = 1\n",
    "yhat_test[yhat_test < 0] = 0"
   ]
  },
  {
   "cell_type": "code",
   "execution_count": 56,
   "id": "8c0b457b",
   "metadata": {},
   "outputs": [],
   "source": [
    "sample_df = pd.read_parquet(\"data/sample_submission.parquet\")\n",
    "sample_df[\"target\"] = yhat_test\n",
    "sample_df.to_csv(\"output/surprise_svd_25_40_3.csv\", index = False)"
   ]
  },
  {
   "cell_type": "code",
   "execution_count": 57,
   "id": "a6564100",
   "metadata": {},
   "outputs": [
    {
     "data": {
      "image/png": "[encoded data removed]",
      "text/plain": [
       "<Figure size 432x288 with 1 Axes>"
      ]
     },
     "metadata": {
      "needs_background": "light"
     },
     "output_type": "display_data"
    }
   ],
   "source": [
    "plt.hist(yhat_test)\n",
    "plt.show()"
   ]
  },
  {
   "cell_type": "code",
   "execution_count": null,
   "id": "680c71ac",
   "metadata": {},
   "outputs": [],
   "source": []
  },
  {
   "cell_type": "code",
   "execution_count": null,
   "id": "fcdb1a0f",
   "metadata": {},
   "outputs": [],
   "source": []
  },
  {
   "cell_type": "code",
   "execution_count": null,
   "id": "6c56a801",
   "metadata": {},
   "outputs": [],
   "source": []
  },
  {
   "cell_type": "code",
   "execution_count": null,
   "id": "169e4871",
   "metadata": {},
   "outputs": [],
   "source": []
  },
  {
   "cell_type": "code",
   "execution_count": null,
   "id": "24184e43",
   "metadata": {},
   "outputs": [],
   "source": []
  },
  {
   "cell_type": "code",
   "execution_count": null,
   "id": "9d31cb99",
   "metadata": {},
   "outputs": [],
   "source": []
  },
  {
   "cell_type": "code",
   "execution_count": null,
   "id": "228176b4",
   "metadata": {},
   "outputs": [],
   "source": []
  },
  {
   "cell_type": "code",
   "execution_count": null,
   "id": "81f5c896",
   "metadata": {},
   "outputs": [],
   "source": []
  },
  {
   "cell_type": "code",
   "execution_count": null,
   "id": "ab490cb9",
   "metadata": {},
   "outputs": [],
   "source": []
  },
  {
   "cell_type": "markdown",
   "id": "f1c254b8",
   "metadata": {},
   "source": [
    "kaggle private score: 0.65557 (collab_3.csv)"
   ]
  },
  {
   "cell_type": "code",
   "execution_count": 67,
   "id": "d7c88dc5",
   "metadata": {},
   "outputs": [
    {
     "name": "stdout",
     "output_type": "stream",
     "text": [
      "1052713\n"
     ]
    }
   ],
   "source": [
    "yhat_test = pred_y_collaborative(sim_mat, score_mat, rated_mat, song_test, member_test, source_test, \\\n",
    "                        m_idx_dic, s_idx_dic, member_source_p_dic, yhat_test, 20)"
   ]
  },
  {
   "cell_type": "code",
   "execution_count": 68,
   "id": "5826282f",
   "metadata": {},
   "outputs": [
    {
     "data": {
      "text/plain": [
       "0.4117322893159"
      ]
     },
     "execution_count": 68,
     "metadata": {},
     "output_type": "execute_result"
    }
   ],
   "source": [
    "1052713/n_test"
   ]
  },
  {
   "cell_type": "code",
   "execution_count": 69,
   "id": "68a71621",
   "metadata": {},
   "outputs": [],
   "source": [
    "yhat_test[yhat_test > 1] = 1\n",
    "yhat_test[yhat_test < 0] = 0"
   ]
  },
  {
   "cell_type": "code",
   "execution_count": 70,
   "id": "43c02e8b",
   "metadata": {},
   "outputs": [],
   "source": [
    "sample_df = pd.read_parquet(\"data/sample_submission.parquet\")\n",
    "sample_df[\"target\"] = yhat_test\n",
    "sample_df.to_csv(\"output/surprise_1.csv\", index = False)"
   ]
  },
  {
   "cell_type": "code",
   "execution_count": 71,
   "id": "71644507",
   "metadata": {},
   "outputs": [
    {
     "data": {
      "image/png": "[encoded data removed]",
      "text/plain": [
       "<Figure size 432x288 with 1 Axes>"
      ]
     },
     "metadata": {
      "needs_background": "light"
     },
     "output_type": "display_data"
    }
   ],
   "source": [
    "plt.hist(yhat_test)\n",
    "plt.show()"
   ]
  },
  {
   "cell_type": "code",
   "execution_count": null,
   "id": "6219c1e7",
   "metadata": {},
   "outputs": [],
   "source": []
  },
  {
   "cell_type": "code",
   "execution_count": null,
   "id": "b17b2ecc",
   "metadata": {},
   "outputs": [],
   "source": []
  },
  {
   "cell_type": "markdown",
   "id": "743968f1",
   "metadata": {},
   "source": [
    "**Running Update**"
   ]
  },
  {
   "cell_type": "code",
   "execution_count": 51,
   "id": "46413fa6",
   "metadata": {},
   "outputs": [
    {
     "name": "stdout",
     "output_type": "stream",
     "text": [
      "927406\n"
     ]
    }
   ],
   "source": [
    "yhat_test = pred_y_collaborative(sim_mat, score_mat, rated_mat, song_test, member_test, source_test, \\\n",
    "                        m_idx_dic, s_idx_dic, member_source_p_dic, yhat_test, 20, True)"
   ]
  },
  {
   "cell_type": "code",
   "execution_count": 52,
   "id": "17afa4ff",
   "metadata": {},
   "outputs": [
    {
     "data": {
      "text/plain": [
       "(0.0, 1.0)"
      ]
     },
     "execution_count": 52,
     "metadata": {},
     "output_type": "execute_result"
    }
   ],
   "source": [
    "np.min(yhat_test), np.max(yhat_test)"
   ]
  },
  {
   "cell_type": "code",
   "execution_count": 53,
   "id": "4186e09c",
   "metadata": {},
   "outputs": [],
   "source": [
    "yhat_test[yhat_test > 1] = 1\n",
    "yhat_test[yhat_test < 0] = 0"
   ]
  },
  {
   "cell_type": "code",
   "execution_count": 54,
   "id": "7126925e",
   "metadata": {},
   "outputs": [],
   "source": [
    "sample_df = pd.read_parquet(\"data/sample_submission.parquet\")\n",
    "sample_df[\"target\"] = yhat_test\n",
    "sample_df.to_csv(\"output/collab_RunningUpdate.csv\", index = False)"
   ]
  },
  {
   "cell_type": "code",
   "execution_count": 77,
   "id": "5bebf40e",
   "metadata": {},
   "outputs": [
    {
     "data": {
      "image/png": "[encoded data removed]",
      "text/plain": [
       "<Figure size 432x288 with 1 Axes>"
      ]
     },
     "metadata": {
      "needs_background": "light"
     },
     "output_type": "display_data"
    }
   ],
   "source": [
    "plt.hist(yhat_test)\n",
    "plt.show()"
   ]
  },
  {
   "cell_type": "code",
   "execution_count": null,
   "id": "fe446acf",
   "metadata": {},
   "outputs": [],
   "source": []
  },
  {
   "cell_type": "code",
   "execution_count": null,
   "id": "f61b361f",
   "metadata": {},
   "outputs": [],
   "source": []
  },
  {
   "cell_type": "code",
   "execution_count": null,
   "id": "a4315abf",
   "metadata": {},
   "outputs": [],
   "source": []
  },
  {
   "cell_type": "code",
   "execution_count": null,
   "id": "2c5dc129",
   "metadata": {},
   "outputs": [],
   "source": []
  },
  {
   "cell_type": "code",
   "execution_count": null,
   "id": "06f93362",
   "metadata": {},
   "outputs": [],
   "source": []
  },
  {
   "cell_type": "code",
   "execution_count": null,
   "id": "38cd18a1",
   "metadata": {},
   "outputs": [],
   "source": []
  },
  {
   "cell_type": "code",
   "execution_count": null,
   "id": "ad2a94d2",
   "metadata": {},
   "outputs": [],
   "source": []
  },
  {
   "cell_type": "code",
   "execution_count": null,
   "id": "307e3327",
   "metadata": {},
   "outputs": [],
   "source": []
  },
  {
   "cell_type": "code",
   "execution_count": 59,
   "id": "610d3383",
   "metadata": {},
   "outputs": [
    {
     "data": {
      "text/plain": [
       "(0.999637943519189, 0.0)"
      ]
     },
     "execution_count": 59,
     "metadata": {},
     "output_type": "execute_result"
    }
   ],
   "source": [
    "np.max(yhat_test), np.min(yhat_test)"
   ]
  },
  {
   "cell_type": "code",
   "execution_count": 48,
   "id": "e3b3f561",
   "metadata": {},
   "outputs": [],
   "source": [
    "## SVD"
   ]
  },
  {
   "cell_type": "code",
   "execution_count": 49,
   "id": "fc0977ed",
   "metadata": {},
   "outputs": [],
   "source": [
    "yhat_test = pred_y_svd(Rec_mat, song_test, member_test, source_test, \\\n",
    "                        m_idx_dic, s_idx_dic, member_source_p_dic, yhat_test)"
   ]
  },
  {
   "cell_type": "code",
   "execution_count": 50,
   "id": "c71efacb",
   "metadata": {},
   "outputs": [
    {
     "data": {
      "text/plain": [
       "(1.6514006541097297, -0.5781423609600644)"
      ]
     },
     "execution_count": 50,
     "metadata": {},
     "output_type": "execute_result"
    }
   ],
   "source": [
    "np.max(yhat_test), np.min(yhat_test)"
   ]
  },
  {
   "cell_type": "code",
   "execution_count": 51,
   "id": "e5789790",
   "metadata": {},
   "outputs": [],
   "source": [
    "yhat_test[yhat_test > 1] = 1\n",
    "yhat_test[yhat_test < 0] = 0"
   ]
  },
  {
   "cell_type": "code",
   "execution_count": 53,
   "id": "182b4e9b",
   "metadata": {},
   "outputs": [],
   "source": [
    "sample_df = pd.read_parquet(\"data/sample_submission.parquet\")\n",
    "sample_df[\"target\"] = yhat_test\n",
    "sample_df.to_csv(\"output/svd_1.csv\", index = False)"
   ]
  },
  {
   "cell_type": "code",
   "execution_count": 52,
   "id": "77cd2a58",
   "metadata": {},
   "outputs": [
    {
     "data": {
      "image/png": "[encoded data removed]",
      "text/plain": [
       "<Figure size 432x288 with 1 Axes>"
      ]
     },
     "metadata": {
      "needs_background": "light"
     },
     "output_type": "display_data"
    }
   ],
   "source": [
    "plt.hist(yhat_test)\n",
    "plt.show()"
   ]
  },
  {
   "cell_type": "code",
   "execution_count": null,
   "id": "030729e6",
   "metadata": {},
   "outputs": [],
   "source": []
  },
  {
   "cell_type": "code",
   "execution_count": null,
   "id": "9d7cfbc4",
   "metadata": {},
   "outputs": [],
   "source": []
  },
  {
   "cell_type": "code",
   "execution_count": null,
   "id": "ae70cfb5",
   "metadata": {},
   "outputs": [],
   "source": []
  },
  {
   "cell_type": "code",
   "execution_count": null,
   "id": "00931435",
   "metadata": {},
   "outputs": [],
   "source": []
  },
  {
   "cell_type": "code",
   "execution_count": null,
   "id": "865d3268",
   "metadata": {},
   "outputs": [],
   "source": []
  },
  {
   "cell_type": "code",
   "execution_count": null,
   "id": "46d76163",
   "metadata": {},
   "outputs": [],
   "source": []
  },
  {
   "cell_type": "code",
   "execution_count": null,
   "id": "1ed38432",
   "metadata": {},
   "outputs": [],
   "source": []
  },
  {
   "cell_type": "code",
   "execution_count": 45,
   "id": "d2d3e4d0",
   "metadata": {},
   "outputs": [],
   "source": [
    "yhat_test =  pred_y_collaborative(sim_mat, score_mat, rated_mat, song_test_idx, member_test_idx, source_test, yhat_test, 20)"
   ]
  },
  {
   "cell_type": "code",
   "execution_count": 46,
   "id": "203d9b3d",
   "metadata": {},
   "outputs": [
    {
     "data": {
      "text/plain": [
       "0"
      ]
     },
     "execution_count": 46,
     "metadata": {},
     "output_type": "execute_result"
    }
   ],
   "source": [
    "np.isnan(yhat_test).sum()"
   ]
  },
  {
   "cell_type": "code",
   "execution_count": 47,
   "id": "6e81a1f9",
   "metadata": {},
   "outputs": [],
   "source": [
    "yhat_test[yhat_test > 1] = 1\n",
    "yhat_test[yhat_test < 0] = 0"
   ]
  },
  {
   "cell_type": "code",
   "execution_count": 48,
   "id": "31efb68e",
   "metadata": {},
   "outputs": [],
   "source": [
    "sample_df = pd.read_parquet(\"data/sample_submission.parquet\")\n",
    "sample_df[\"target\"] = yhat_test\n",
    "sample_df.to_csv(\"output/collab_sim.csv\", index = False)"
   ]
  },
  {
   "cell_type": "code",
   "execution_count": 49,
   "id": "06753c76",
   "metadata": {},
   "outputs": [],
   "source": []
  },
  {
   "cell_type": "code",
   "execution_count": 50,
   "id": "6d537e98",
   "metadata": {},
   "outputs": [
    {
     "data": {
      "text/plain": [
       "(array([ 49258.,  38898., 306215., 124906., 810238., 235741., 635458.,\n",
       "         89274., 123503., 143299.]),\n",
       " array([0. , 0.1, 0.2, 0.3, 0.4, 0.5, 0.6, 0.7, 0.8, 0.9, 1. ]),\n",
       " <BarContainer object of 10 artists>)"
      ]
     },
     "execution_count": 50,
     "metadata": {},
     "output_type": "execute_result"
    },
    {
     "data": {
      "image/png": "[encoded data removed]",
      "text/plain": [
       "<Figure size 432x288 with 1 Axes>"
      ]
     },
     "metadata": {
      "needs_background": "light"
     },
     "output_type": "display_data"
    }
   ],
   "source": [
    "plt.hist(yhat_test)"
   ]
  },
  {
   "cell_type": "code",
   "execution_count": null,
   "id": "bc29fab0",
   "metadata": {},
   "outputs": [],
   "source": []
  },
  {
   "cell_type": "code",
   "execution_count": null,
   "id": "d2842d77",
   "metadata": {},
   "outputs": [],
   "source": []
  },
  {
   "cell_type": "code",
   "execution_count": null,
   "id": "11a90dd9",
   "metadata": {},
   "outputs": [],
   "source": []
  },
  {
   "cell_type": "code",
   "execution_count": null,
   "id": "72dd8da1",
   "metadata": {},
   "outputs": [],
   "source": []
  },
  {
   "cell_type": "code",
   "execution_count": null,
   "id": "3955c9c1",
   "metadata": {},
   "outputs": [],
   "source": []
  },
  {
   "cell_type": "code",
   "execution_count": 283,
   "id": "f1ca1dc7",
   "metadata": {},
   "outputs": [
    {
     "name": "stdout",
     "output_type": "stream",
     "text": [
      "1729 7685 1\n"
     ]
    }
   ],
   "source": [
    "i = 9\n",
    "song = song_val_idx[i]\n",
    "member = member_val_idx[i]\n",
    "source = source_val[i]\n",
    "\n",
    "print(song, member, source)\n",
    "\n",
    "if (song >= 0) and (member >= 0):\n",
    "\n",
    "    #sim in source\n",
    "    rated_by_member = rated_mat[member,:, source] == 1\n",
    "\n",
    "    top_N = np.argsort(sim_mat[song,:, source]*rated_by_member)[-10:]\n",
    "    y_N = score_mat[member, top_N, source]\n",
    "    \n",
    "    yhat\n"
   ]
  },
  {
   "cell_type": "code",
   "execution_count": 284,
   "id": "8fb31660",
   "metadata": {},
   "outputs": [
    {
     "data": {
      "text/plain": [
       "array([0.04957835, 0.05072257, 0.0513436 , 0.05397083, 0.05474776,\n",
       "       0.05958869, 0.06377444, 0.06512461, 0.07342931, 0.09181191])"
      ]
     },
     "execution_count": 284,
     "metadata": {},
     "output_type": "execute_result"
    }
   ],
   "source": [
    "sim_mat[song, top_N, source]"
   ]
  },
  {
   "cell_type": "code",
   "execution_count": 285,
   "id": "c8b97ec0",
   "metadata": {},
   "outputs": [
    {
     "data": {
      "text/plain": [
       "array([ 290,  617,   58,  451,  465,   63,  651,  266, 1352,  897],\n",
       "      dtype=int64)"
      ]
     },
     "execution_count": 285,
     "metadata": {},
     "output_type": "execute_result"
    }
   ],
   "source": [
    "top_N"
   ]
  },
  {
   "cell_type": "code",
   "execution_count": 286,
   "id": "8213e1e5",
   "metadata": {},
   "outputs": [
    {
     "data": {
      "text/plain": [
       "array([-1., -1.,  1., -1.,  1.,  1., -1., -1.,  1., -1.])"
      ]
     },
     "execution_count": 286,
     "metadata": {},
     "output_type": "execute_result"
    }
   ],
   "source": [
    "(score_mat[member, top_N, source])\n"
   ]
  },
  {
   "cell_type": "code",
   "execution_count": null,
   "id": "9863b99e",
   "metadata": {},
   "outputs": [],
   "source": []
  },
  {
   "cell_type": "code",
   "execution_count": 221,
   "id": "9cc26c99",
   "metadata": {},
   "outputs": [],
   "source": [
    "y_N = score_mat[member, top_N, source]"
   ]
  },
  {
   "cell_type": "code",
   "execution_count": 222,
   "id": "bd087c47",
   "metadata": {},
   "outputs": [
    {
     "data": {
      "text/plain": [
       "array([-1.,  0.,  0.,  0.,  0.,  0.,  0.,  0.,  0.,  0.,  0.,  0.,  0.,\n",
       "        0.,  0.,  0.,  0.,  0.,  0.,  0.])"
      ]
     },
     "execution_count": 222,
     "metadata": {},
     "output_type": "execute_result"
    }
   ],
   "source": [
    "y_N"
   ]
  },
  {
   "cell_type": "code",
   "execution_count": null,
   "id": "16364e9d",
   "metadata": {},
   "outputs": [],
   "source": []
  },
  {
   "cell_type": "code",
   "execution_count": null,
   "id": "514ece57",
   "metadata": {},
   "outputs": [],
   "source": []
  },
  {
   "cell_type": "code",
   "execution_count": null,
   "id": "5d93ffad",
   "metadata": {},
   "outputs": [],
   "source": []
  },
  {
   "cell_type": "code",
   "execution_count": null,
   "id": "671711d0",
   "metadata": {},
   "outputs": [],
   "source": []
  },
  {
   "cell_type": "code",
   "execution_count": null,
   "id": "eb4e1650",
   "metadata": {},
   "outputs": [],
   "source": []
  },
  {
   "cell_type": "code",
   "execution_count": 14,
   "id": "6a6ac681",
   "metadata": {},
   "outputs": [],
   "source": []
  },
  {
   "cell_type": "code",
   "execution_count": 21,
   "id": "eb583da7",
   "metadata": {},
   "outputs": [],
   "source": [
    "member_set = set(member_list)"
   ]
  },
  {
   "cell_type": "code",
   "execution_count": 19,
   "id": "e5e1bc29",
   "metadata": {},
   "outputs": [
    {
     "data": {
      "text/plain": [
       "0.0004668338907469342"
      ]
     },
     "execution_count": 19,
     "metadata": {},
     "output_type": "execute_result"
    }
   ],
   "source": [
    "song_set = set(song_list)\n",
    "n_song2 = len(song_set)\n",
    "n_song2/n_song"
   ]
  },
  {
   "cell_type": "code",
   "execution_count": null,
   "id": "08b891d9",
   "metadata": {},
   "outputs": [],
   "source": []
  },
  {
   "cell_type": "code",
   "execution_count": 22,
   "id": "2e27cc2c",
   "metadata": {},
   "outputs": [],
   "source": [
    "filter1 = train_df[\"song_idx\"].apply(lambda x: x in song_set) & train_df[\"msno_idx\"].apply(lambda x: x in member_set)"
   ]
  },
  {
   "cell_type": "code",
   "execution_count": null,
   "id": "b5a756a8",
   "metadata": {},
   "outputs": [],
   "source": []
  },
  {
   "cell_type": "code",
   "execution_count": 23,
   "id": "0986721d",
   "metadata": {},
   "outputs": [],
   "source": [
    "collab_df = train_df[[\"song_idx\", \"msno_idx\", \"target\"]].loc[filter1].pivot_table(index = \"msno_idx\", columns = [\"song_idx\"])\n"
   ]
  },
  {
   "cell_type": "code",
   "execution_count": 24,
   "id": "69e47bc7",
   "metadata": {},
   "outputs": [],
   "source": [
    "member_list = np.array(collab_df.index)"
   ]
  },
  {
   "cell_type": "code",
   "execution_count": 25,
   "id": "b838a60a",
   "metadata": {},
   "outputs": [
    {
     "data": {
      "text/plain": [
       "10270"
      ]
     },
     "execution_count": 25,
     "metadata": {},
     "output_type": "execute_result"
    }
   ],
   "source": [
    "member_set = set(member_list)\n",
    "len(member_set)"
   ]
  },
  {
   "cell_type": "code",
   "execution_count": 26,
   "id": "072481d5",
   "metadata": {},
   "outputs": [],
   "source": [
    "song_list = np.array(collab_df[\"target\"].columns)"
   ]
  },
  {
   "cell_type": "code",
   "execution_count": 27,
   "id": "0f00a682",
   "metadata": {},
   "outputs": [
    {
     "data": {
      "text/plain": [
       "1072"
      ]
     },
     "execution_count": 27,
     "metadata": {},
     "output_type": "execute_result"
    }
   ],
   "source": [
    "song_set = set(song_list)\n",
    "n_song2 = len(song_set)\n",
    "n_song2"
   ]
  },
  {
   "cell_type": "code",
   "execution_count": 28,
   "id": "c35bf94c",
   "metadata": {},
   "outputs": [],
   "source": [
    "member_idx_dic = {}\n",
    "for i in range(member_list.shape[0]):\n",
    "    member_idx_dic[member_list[i]] = i\n",
    "    \n",
    "    \n",
    "song_idx_dic = {}\n",
    "for i in range(song_list.shape[0]):\n",
    "    song_idx_dic[song_list[i]] = i"
   ]
  },
  {
   "cell_type": "code",
   "execution_count": 29,
   "id": "9fbfd0ce",
   "metadata": {},
   "outputs": [],
   "source": [
    "collab_mat = (collab_df > 0.5).to_numpy()"
   ]
  },
  {
   "cell_type": "code",
   "execution_count": 30,
   "id": "36f71f67",
   "metadata": {},
   "outputs": [],
   "source": [
    "vote_mat = np.isnan(collab_df).to_numpy()"
   ]
  },
  {
   "cell_type": "code",
   "execution_count": 31,
   "id": "efd2b59f",
   "metadata": {},
   "outputs": [],
   "source": [
    "vote_mat = ~vote_mat"
   ]
  },
  {
   "cell_type": "code",
   "execution_count": 32,
   "id": "00a7c9f7",
   "metadata": {},
   "outputs": [
    {
     "data": {
      "text/plain": [
       "(10270, 1072)"
      ]
     },
     "execution_count": 32,
     "metadata": {},
     "output_type": "execute_result"
    }
   ],
   "source": [
    "vote_mat.shape"
   ]
  },
  {
   "cell_type": "code",
   "execution_count": 33,
   "id": "a519c794",
   "metadata": {},
   "outputs": [
    {
     "data": {
      "text/plain": [
       "(10270, 1072)"
      ]
     },
     "execution_count": 33,
     "metadata": {},
     "output_type": "execute_result"
    }
   ],
   "source": [
    "collab_mat.shape"
   ]
  },
  {
   "cell_type": "code",
   "execution_count": 34,
   "id": "50203353",
   "metadata": {},
   "outputs": [
    {
     "data": {
      "text/plain": [
       "array([[False, False, False, ..., False, False, False],\n",
       "       [False,  True, False, ..., False, False, False],\n",
       "       [False, False, False, ..., False, False, False],\n",
       "       ...,\n",
       "       [False, False, False, ..., False, False, False],\n",
       "       [False, False, False, ..., False, False, False],\n",
       "       [False, False, False, ..., False, False, False]])"
      ]
     },
     "execution_count": 34,
     "metadata": {},
     "output_type": "execute_result"
    }
   ],
   "source": [
    "collab_mat"
   ]
  },
  {
   "cell_type": "code",
   "execution_count": 35,
   "id": "f5bbccd5",
   "metadata": {},
   "outputs": [],
   "source": [
    "collab_mat_csr = csr_matrix(collab_mat.T.astype(int))"
   ]
  },
  {
   "cell_type": "code",
   "execution_count": 36,
   "id": "92a64b21",
   "metadata": {},
   "outputs": [
    {
     "data": {
      "text/plain": [
       "(10270, 1072)"
      ]
     },
     "execution_count": 36,
     "metadata": {},
     "output_type": "execute_result"
    }
   ],
   "source": [
    "collab_mat.shape"
   ]
  },
  {
   "cell_type": "code",
   "execution_count": 37,
   "id": "40231d68",
   "metadata": {},
   "outputs": [],
   "source": [
    "collab_matT = collab_mat.T "
   ]
  },
  {
   "cell_type": "code",
   "execution_count": 38,
   "id": "c60f8d42",
   "metadata": {},
   "outputs": [],
   "source": [
    "dot_mat = collab_mat_csr.dot(collab_mat_csr.T)"
   ]
  },
  {
   "cell_type": "code",
   "execution_count": 39,
   "id": "6cda7e5e",
   "metadata": {},
   "outputs": [],
   "source": [
    "dot_mat = dot_mat.toarray()"
   ]
  },
  {
   "cell_type": "code",
   "execution_count": 40,
   "id": "e327f4c8",
   "metadata": {},
   "outputs": [],
   "source": [
    "abs_array = np.sum(collab_mat, axis = 0)"
   ]
  },
  {
   "cell_type": "code",
   "execution_count": 41,
   "id": "3c0cc07c",
   "metadata": {},
   "outputs": [
    {
     "data": {
      "text/plain": [
       "array([[1348],\n",
       "       [ 952],\n",
       "       [ 627],\n",
       "       ...,\n",
       "       [ 703],\n",
       "       [ 483],\n",
       "       [ 315]])"
      ]
     },
     "execution_count": 41,
     "metadata": {},
     "output_type": "execute_result"
    }
   ],
   "source": [
    "abs_array.reshape(-1,1)"
   ]
  },
  {
   "cell_type": "code",
   "execution_count": 42,
   "id": "10e005b7",
   "metadata": {},
   "outputs": [],
   "source": [
    "abs_mat = np.matmul(abs_array.reshape(-1,1), abs_array.reshape(1,-1))"
   ]
  },
  {
   "cell_type": "code",
   "execution_count": 43,
   "id": "9cff62dd",
   "metadata": {},
   "outputs": [
    {
     "data": {
      "text/plain": [
       "array([[1817104, 1283296,  845196, ...,  947644,  651084,  424620],\n",
       "       [1283296,  906304,  596904, ...,  669256,  459816,  299880],\n",
       "       [ 845196,  596904,  393129, ...,  440781,  302841,  197505],\n",
       "       ...,\n",
       "       [ 947644,  669256,  440781, ...,  494209,  339549,  221445],\n",
       "       [ 651084,  459816,  302841, ...,  339549,  233289,  152145],\n",
       "       [ 424620,  299880,  197505, ...,  221445,  152145,   99225]])"
      ]
     },
     "execution_count": 43,
     "metadata": {},
     "output_type": "execute_result"
    }
   ],
   "source": [
    "abs_mat"
   ]
  },
  {
   "cell_type": "code",
   "execution_count": null,
   "id": "f3d5ee7c",
   "metadata": {},
   "outputs": [],
   "source": []
  },
  {
   "cell_type": "code",
   "execution_count": 44,
   "id": "cfb3c768",
   "metadata": {},
   "outputs": [],
   "source": [
    "sim_mat = np.zeros((n_song2, n_song2))"
   ]
  },
  {
   "cell_type": "code",
   "execution_count": 45,
   "id": "67ca56b8",
   "metadata": {},
   "outputs": [],
   "source": [
    "sim_mat = np.zeros((n_song2, n_song2))"
   ]
  },
  {
   "cell_type": "code",
   "execution_count": 46,
   "id": "88137562",
   "metadata": {},
   "outputs": [],
   "source": [
    "for i in range(n_song2):\n",
    "    for j in range(n_song2):\n",
    "        sim_mat[i,j] = dot_mat[i,j]/abs_mat[i,j]"
   ]
  },
  {
   "cell_type": "code",
   "execution_count": 50,
   "id": "0db5d89a",
   "metadata": {},
   "outputs": [
    {
     "data": {
      "text/plain": [
       "array([[7.41839763e-04, 9.35092138e-05, 1.24231539e-04, ...,\n",
       "        1.16077346e-04, 1.16728410e-04, 1.08332156e-04],\n",
       "       [9.35092138e-05, 1.05042017e-03, 1.59154571e-04, ...,\n",
       "        1.15053134e-04, 1.13088714e-04, 1.50060024e-04],\n",
       "       [1.24231539e-04, 1.59154571e-04, 1.59489633e-03, ...,\n",
       "        3.85679056e-04, 5.44840362e-04, 9.31621984e-04],\n",
       "       ...,\n",
       "       [1.16077346e-04, 1.15053134e-04, 3.85679056e-04, ...,\n",
       "        1.42247511e-03, 3.38684549e-04, 4.29000429e-04],\n",
       "       [1.16728410e-04, 1.13088714e-04, 5.44840362e-04, ...,\n",
       "        3.38684549e-04, 2.07039337e-03, 6.63840415e-04],\n",
       "       [1.08332156e-04, 1.50060024e-04, 9.31621984e-04, ...,\n",
       "        4.29000429e-04, 6.63840415e-04, 3.17460317e-03]])"
      ]
     },
     "execution_count": 50,
     "metadata": {},
     "output_type": "execute_result"
    }
   ],
   "source": [
    "sim_mat\n"
   ]
  },
  {
   "cell_type": "code",
   "execution_count": null,
   "id": "f51ca74b",
   "metadata": {},
   "outputs": [],
   "source": []
  },
  {
   "cell_type": "code",
   "execution_count": null,
   "id": "c97b530e",
   "metadata": {},
   "outputs": [],
   "source": []
  },
  {
   "cell_type": "code",
   "execution_count": 33,
   "id": "72a9c935",
   "metadata": {},
   "outputs": [
    {
     "name": "stdout",
     "output_type": "stream",
     "text": [
      "0\n",
      "300\n",
      "600\n",
      "900\n"
     ]
    }
   ],
   "source": [
    "for i in range(n_song2):\n",
    "    \n",
    "    or_array = np.sum(collab_matT[i,:] + collab_matT[:], axis = 1)\n",
    "    filter1 = or_array > 0\n",
    "    sim_mat[i,filter1] = dot_mat[i,filter1]/or_array[filter1]\n",
    "    \n",
    "    if i % 300 == 0:\n",
    "        print(i)\n",
    "        "
   ]
  },
  {
   "cell_type": "code",
   "execution_count": 38,
   "id": "d088c4b9",
   "metadata": {},
   "outputs": [
    {
     "data": {
      "text/plain": [
       "1072"
      ]
     },
     "execution_count": 38,
     "metadata": {},
     "output_type": "execute_result"
    }
   ],
   "source": [
    "n_song2"
   ]
  },
  {
   "cell_type": "code",
   "execution_count": 51,
   "id": "556c5628",
   "metadata": {},
   "outputs": [],
   "source": [
    "#from scipy.spatial.distance import pdist, squareform"
   ]
  },
  {
   "cell_type": "code",
   "execution_count": null,
   "id": "dcc0e81f",
   "metadata": {},
   "outputs": [],
   "source": [
    "#jaccard_distances = pdist(collab_mat.T, metric='jaccard')"
   ]
  },
  {
   "cell_type": "code",
   "execution_count": null,
   "id": "34a1d498",
   "metadata": {},
   "outputs": [],
   "source": [
    "#jaccard_distances = squareform(jaccard_distances)\n",
    "#jaccard_similarity = 1-jaccard_distances"
   ]
  },
  {
   "cell_type": "code",
   "execution_count": 37,
   "id": "04646c3f",
   "metadata": {},
   "outputs": [],
   "source": [
    "for i in range(n_song2):\n",
    "    sim_mat[i,i] = 0"
   ]
  },
  {
   "cell_type": "code",
   "execution_count": 45,
   "id": "92df8e56",
   "metadata": {},
   "outputs": [
    {
     "data": {
      "text/plain": [
       "array([ 17, 987, 717, 675, 644, 456, 303, 488,  70, 187, 590,  22, 248,\n",
       "       130, 166,  66, 583, 929,  38, 448], dtype=int64)"
      ]
     },
     "execution_count": 45,
     "metadata": {},
     "output_type": "execute_result"
    }
   ],
   "source": [
    "np.argsort(sim_mat[17,:])[0:20]\n"
   ]
  },
  {
   "cell_type": "code",
   "execution_count": 47,
   "id": "f72dda06",
   "metadata": {},
   "outputs": [
    {
     "data": {
      "text/plain": [
       "(1072, 1072)"
      ]
     },
     "execution_count": 47,
     "metadata": {},
     "output_type": "execute_result"
    }
   ],
   "source": [
    "sim_mat.shape"
   ]
  },
  {
   "cell_type": "code",
   "execution_count": 56,
   "id": "dc7718aa",
   "metadata": {},
   "outputs": [
    {
     "data": {
      "text/plain": [
       "[<matplotlib.lines.Line2D at 0x1f79b51f670>]"
      ]
     },
     "execution_count": 56,
     "metadata": {},
     "output_type": "execute_result"
    },
    {
     "data": {
      "image/png": "[encoded data removed]",
      "text/plain": [
       "<Figure size 432x288 with 1 Axes>"
      ]
     },
     "metadata": {
      "needs_background": "light"
     },
     "output_type": "display_data"
    }
   ],
   "source": [
    "plt.plot(sim_mat[15,vote_mat[101,:]])"
   ]
  },
  {
   "cell_type": "code",
   "execution_count": 138,
   "id": "70349a64",
   "metadata": {},
   "outputs": [
    {
     "data": {
      "text/plain": [
       "array([0, 2, 1, 4, 3], dtype=int64)"
      ]
     },
     "execution_count": 138,
     "metadata": {},
     "output_type": "execute_result"
    }
   ],
   "source": [
    "np.argsort(np.array([1,3,2,5,4]))\n"
   ]
  },
  {
   "cell_type": "code",
   "execution_count": 128,
   "id": "b30ed685",
   "metadata": {},
   "outputs": [
    {
     "data": {
      "text/plain": [
       "array([  4,  88, 126, 154, 250, 215, 281,  87,  13, 183, 127, 118, 132,\n",
       "       251, 122, 200, 248,  79, 103, 275], dtype=int64)"
      ]
     },
     "execution_count": 128,
     "metadata": {},
     "output_type": "execute_result"
    }
   ],
   "source": [
    "np.argsort(sim_mat[15,vote_mat[101,:]])[0:20]"
   ]
  },
  {
   "cell_type": "code",
   "execution_count": 57,
   "id": "e24865d0",
   "metadata": {},
   "outputs": [
    {
     "data": {
      "text/plain": [
       "[<matplotlib.lines.Line2D at 0x1f79b57fa00>]"
      ]
     },
     "execution_count": 57,
     "metadata": {},
     "output_type": "execute_result"
    },
    {
     "data": {
      "image/png": "[encoded data removed]",
      "text/plain": [
       "<Figure size 432x288 with 1 Axes>"
      ]
     },
     "metadata": {
      "needs_background": "light"
     },
     "output_type": "display_data"
    }
   ],
   "source": [
    "plt.plot(sim_mat[15,:])"
   ]
  },
  {
   "cell_type": "code",
   "execution_count": 140,
   "id": "913f5347",
   "metadata": {},
   "outputs": [],
   "source": [
    "top_N = np.argsort(sim_mat[1, vote_mat[10,:]])[-20:]"
   ]
  },
  {
   "cell_type": "code",
   "execution_count": 141,
   "id": "cd9fd38c",
   "metadata": {},
   "outputs": [
    {
     "data": {
      "text/plain": [
       "array([0.11123318, 0.11144661, 0.11196229, 0.11207779, 0.11320337,\n",
       "       0.11337868, 0.11403509, 0.1150085 , 0.11529412, 0.11769834,\n",
       "       0.1177274 , 0.1178653 , 0.11927711, 0.12350098, 0.12809917,\n",
       "       0.12845941, 0.12912259, 0.13141946, 0.14613181, 0.22459222])"
      ]
     },
     "execution_count": 141,
     "metadata": {},
     "output_type": "execute_result"
    }
   ],
   "source": [
    "sim_mat[1, vote_mat[10,:]][top_N]"
   ]
  },
  {
   "cell_type": "code",
   "execution_count": 239,
   "id": "17742e7c",
   "metadata": {},
   "outputs": [],
   "source": [
    "def predict_y(member, song):\n",
    "    \n",
    "    member_idx = member_idx_dic[member]\n",
    "    song_idx = song_idx_dic[song]\n",
    "    \n",
    "\n",
    "    top_N = np.argsort(sim_mat[song_idx, vote_mat[member_idx,:]])[-30:]\n",
    "    \n",
    "    divider = np.sum(vote_mat[member_idx,:])\n",
    "    \n",
    "    if divider == 0:\n",
    "        return np.nan\n",
    "    \n",
    "    sim_val = sim_mat[song_idx, vote_mat[member_idx,:]][top_N]\n",
    "    record_val = collab_mat[member_idx,vote_mat[member_idx,:]][top_N]\n",
    "    \n",
    "    val = np.dot(sim_val, record_val)\n",
    "    val2 = np.sum(sim_val)\n",
    "    \n",
    "    return val/val2\n",
    "    \n",
    "\n",
    "    "
   ]
  },
  {
   "cell_type": "code",
   "execution_count": 223,
   "id": "e27edd4c",
   "metadata": {},
   "outputs": [
    {
     "data": {
      "text/plain": [
       "((10270, 1072), (1072, 1072))"
      ]
     },
     "execution_count": 223,
     "metadata": {},
     "output_type": "execute_result"
    }
   ],
   "source": [
    "collab_mat.shape, sim_mat.shape"
   ]
  },
  {
   "cell_type": "code",
   "execution_count": 224,
   "id": "6e034253",
   "metadata": {},
   "outputs": [],
   "source": [
    "msno_test = test_df[\"msno_idx\"].to_numpy()\n",
    "song_test = test_df[\"song_idx\"].to_numpy()"
   ]
  },
  {
   "cell_type": "code",
   "execution_count": 232,
   "id": "338ae898",
   "metadata": {},
   "outputs": [
    {
     "data": {
      "text/plain": [
       "2556790"
      ]
     },
     "execution_count": 232,
     "metadata": {},
     "output_type": "execute_result"
    }
   ],
   "source": [
    "n_test"
   ]
  },
  {
   "cell_type": "code",
   "execution_count": 240,
   "id": "66623cb5",
   "metadata": {},
   "outputs": [],
   "source": [
    "yhat_test = np.zeros(n_test)\n",
    "yhat_test[:] = np.nan"
   ]
  },
  {
   "cell_type": "code",
   "execution_count": 241,
   "id": "d1c6df61",
   "metadata": {},
   "outputs": [],
   "source": [
    "count = 0\n",
    "for i in range(n_test):\n",
    "    if (msno_test[i] in member_set) and (song_test[i] in song_set):\n",
    "        count += 1\n",
    "        yhat_test[i] = predict_y(msno_test[i], song_test[i])\n",
    "        \n",
    "        "
   ]
  },
  {
   "cell_type": "code",
   "execution_count": 242,
   "id": "72a5b75f",
   "metadata": {},
   "outputs": [
    {
     "data": {
      "text/plain": [
       "0.15479722620942665"
      ]
     },
     "execution_count": 242,
     "metadata": {},
     "output_type": "execute_result"
    }
   ],
   "source": [
    "count/n_test"
   ]
  },
  {
   "cell_type": "code",
   "execution_count": 243,
   "id": "fdffff63",
   "metadata": {},
   "outputs": [
    {
     "data": {
      "text/plain": [
       "0.6447327626269546"
      ]
     },
     "execution_count": 243,
     "metadata": {},
     "output_type": "execute_result"
    }
   ],
   "source": [
    "np.nanmean(yhat_test)"
   ]
  },
  {
   "cell_type": "code",
   "execution_count": 244,
   "id": "d18d171a",
   "metadata": {},
   "outputs": [
    {
     "data": {
      "text/plain": [
       "(array([ 1814.,  6814., 16492., 29820., 45239., 57188., 66003., 67577.,\n",
       "        59796., 45041.]),\n",
       " array([0. , 0.1, 0.2, 0.3, 0.4, 0.5, 0.6, 0.7, 0.8, 0.9, 1. ]),\n",
       " <BarContainer object of 10 artists>)"
      ]
     },
     "execution_count": 244,
     "metadata": {},
     "output_type": "execute_result"
    },
    {
     "data": {
      "image/png": "[encoded data removed]",
      "text/plain": [
       "<Figure size 432x288 with 1 Axes>"
      ]
     },
     "metadata": {
      "needs_background": "light"
     },
     "output_type": "display_data"
    }
   ],
   "source": [
    "plt.hist(yhat_test)"
   ]
  },
  {
   "cell_type": "code",
   "execution_count": 163,
   "id": "48098c7c",
   "metadata": {},
   "outputs": [],
   "source": []
  },
  {
   "cell_type": "code",
   "execution_count": null,
   "id": "0d550e38",
   "metadata": {},
   "outputs": [],
   "source": []
  },
  {
   "cell_type": "code",
   "execution_count": 245,
   "id": "336d35b2",
   "metadata": {},
   "outputs": [],
   "source": [
    "content_df = pd.read_csv(\"output/svd_25.csv\")"
   ]
  },
  {
   "cell_type": "code",
   "execution_count": 246,
   "id": "674ccf3c",
   "metadata": {},
   "outputs": [],
   "source": [
    "content_yhat = content_df[\"target\"].to_numpy(copy = True)"
   ]
  },
  {
   "cell_type": "code",
   "execution_count": 247,
   "id": "c4f43fc9",
   "metadata": {},
   "outputs": [],
   "source": [
    "filter1 = np.isnan(yhat_test)"
   ]
  },
  {
   "cell_type": "code",
   "execution_count": 248,
   "id": "752fb12b",
   "metadata": {},
   "outputs": [],
   "source": [
    "yhat_test[filter1] = content_yhat[filter1]"
   ]
  },
  {
   "cell_type": "code",
   "execution_count": 255,
   "id": "fdb5d003",
   "metadata": {},
   "outputs": [
    {
     "data": {
      "text/plain": [
       "(0, (2556790,))"
      ]
     },
     "execution_count": 255,
     "metadata": {},
     "output_type": "execute_result"
    }
   ],
   "source": [
    "np.sum(np.isnan(yhat_test)), yhat_test.shape"
   ]
  },
  {
   "cell_type": "code",
   "execution_count": 259,
   "id": "5986e144",
   "metadata": {},
   "outputs": [],
   "source": [
    "yhat_test[yhat_test > 1] = 1\n",
    "yhat_test[yhat_test < 0] = 0"
   ]
  },
  {
   "cell_type": "code",
   "execution_count": 260,
   "id": "a59f7137",
   "metadata": {},
   "outputs": [
    {
     "data": {
      "text/plain": [
       "(2556790, 2)"
      ]
     },
     "execution_count": 260,
     "metadata": {},
     "output_type": "execute_result"
    }
   ],
   "source": [
    "sample_df = pd.read_parquet(\"data/sample_submission.parquet\")\n",
    "sample_df.shape"
   ]
  },
  {
   "cell_type": "code",
   "execution_count": 261,
   "id": "603882a5",
   "metadata": {},
   "outputs": [],
   "source": [
    "sample_df[\"target\"] = yhat_test"
   ]
  },
  {
   "cell_type": "code",
   "execution_count": 262,
   "id": "0a457c36",
   "metadata": {},
   "outputs": [],
   "source": [
    "sample_df.to_csv(\"output/collab.csv\", index = False)"
   ]
  },
  {
   "cell_type": "code",
   "execution_count": 263,
   "id": "fa5a9061",
   "metadata": {},
   "outputs": [
    {
     "data": {
      "text/plain": [
       "(array([155201., 113967., 273372., 302445., 594100., 419712., 389927.,\n",
       "        155890.,  93196.,  58980.]),\n",
       " array([0. , 0.1, 0.2, 0.3, 0.4, 0.5, 0.6, 0.7, 0.8, 0.9, 1. ]),\n",
       " <BarContainer object of 10 artists>)"
      ]
     },
     "execution_count": 263,
     "metadata": {},
     "output_type": "execute_result"
    },
    {
     "data": {
      "image/png": "[encoded data removed]",
      "text/plain": [
       "<Figure size 432x288 with 1 Axes>"
      ]
     },
     "metadata": {
      "needs_background": "light"
     },
     "output_type": "display_data"
    }
   ],
   "source": [
    "plt.hist(yhat_test)"
   ]
  },
  {
   "cell_type": "code",
   "execution_count": 11,
   "id": "0abb1c22",
   "metadata": {},
   "outputs": [
    {
     "data": {
      "text/plain": [
       "array(['465', '444', '726', ..., '786|958|2022', '1259|2107', '1138|2022'],\n",
       "      dtype=object)"
      ]
     },
     "execution_count": 11,
     "metadata": {},
     "output_type": "execute_result"
    }
   ],
   "source": [
    "song_df[\"genre_ids\"].unique()"
   ]
  },
  {
   "cell_type": "code",
   "execution_count": 12,
   "id": "4159b888",
   "metadata": {},
   "outputs": [],
   "source": [
    "genre_unique =  song_df[\"genre_ids\"].unique()"
   ]
  },
  {
   "cell_type": "code",
   "execution_count": 13,
   "id": "17de78a7",
   "metadata": {},
   "outputs": [],
   "source": [
    "genre_dic = {}\n",
    "genre_set = set()\n",
    "for i in range(genre_unique.shape[0]):\n",
    "    \n",
    "    if genre_unique[i] is not None:\n",
    "        val = genre_unique[i].split(\"|\")\n",
    "        genre_set = genre_set.union(val)\n",
    "        genre_dic[genre_unique[i]] = val\n",
    "        \n",
    "        \n",
    "    "
   ]
  },
  {
   "cell_type": "code",
   "execution_count": 14,
   "id": "d91e909f",
   "metadata": {},
   "outputs": [
    {
     "data": {
      "text/plain": [
       "191"
      ]
     },
     "execution_count": 14,
     "metadata": {},
     "output_type": "execute_result"
    }
   ],
   "source": [
    "len(genre_set)"
   ]
  },
  {
   "cell_type": "code",
   "execution_count": 15,
   "id": "1516016d",
   "metadata": {},
   "outputs": [
    {
     "data": {
      "text/plain": [
       "(2296320, 7)"
      ]
     },
     "execution_count": 15,
     "metadata": {},
     "output_type": "execute_result"
    }
   ],
   "source": [
    "song_df.shape"
   ]
  },
  {
   "cell_type": "code",
   "execution_count": null,
   "id": "5c919b03",
   "metadata": {},
   "outputs": [],
   "source": []
  },
  {
   "cell_type": "code",
   "execution_count": 16,
   "id": "6b989fd1",
   "metadata": {},
   "outputs": [],
   "source": [
    "count = 0\n",
    "genre_idx = {}\n",
    "for val in genre_set:\n",
    "    genre_idx[val] = count\n",
    "    count += 1"
   ]
  },
  {
   "cell_type": "code",
   "execution_count": null,
   "id": "8c141365",
   "metadata": {},
   "outputs": [],
   "source": []
  },
  {
   "cell_type": "code",
   "execution_count": 17,
   "id": "2d7faca9",
   "metadata": {},
   "outputs": [
    {
     "data": {
      "text/plain": [
       "191"
      ]
     },
     "execution_count": 17,
     "metadata": {},
     "output_type": "execute_result"
    }
   ],
   "source": [
    "n_genre = len(genre_set)\n",
    "n_genre"
   ]
  },
  {
   "cell_type": "code",
   "execution_count": 18,
   "id": "4168f519",
   "metadata": {},
   "outputs": [],
   "source": [
    "song_genre_mat =  np.zeros((n_song+1, n_genre), dtype =  bool)"
   ]
  },
  {
   "cell_type": "code",
   "execution_count": 19,
   "id": "7ee93121",
   "metadata": {},
   "outputs": [],
   "source": [
    "genre_ids_array = song_df[\"genre_ids\"].to_numpy(copy = True)"
   ]
  },
  {
   "cell_type": "code",
   "execution_count": 20,
   "id": "047ceeee",
   "metadata": {},
   "outputs": [],
   "source": [
    "for i in range(n_song):\n",
    "    val =  genre_ids_array[i]\n",
    "    if val is not None:\n",
    "        genre_list = genre_dic[val]\n",
    "\n",
    "        for j in range(len(genre_list)):\n",
    "            idx = genre_idx[genre_list[j]]\n",
    "\n",
    "            song_genre_mat[i+1, idx] = True"
   ]
  },
  {
   "cell_type": "code",
   "execution_count": null,
   "id": "3838d371",
   "metadata": {},
   "outputs": [],
   "source": []
  },
  {
   "cell_type": "code",
   "execution_count": 21,
   "id": "e68582ca",
   "metadata": {},
   "outputs": [],
   "source": [
    "song_genre_df = pd.DataFrame(song_genre_mat)"
   ]
  },
  {
   "cell_type": "code",
   "execution_count": 22,
   "id": "b74517b2",
   "metadata": {},
   "outputs": [],
   "source": [
    "col_names = []\n",
    "for i in range(n_genre):\n",
    "    col_names.append(\"genre_\" +  str(i))"
   ]
  },
  {
   "cell_type": "code",
   "execution_count": null,
   "id": "1ddbefc1",
   "metadata": {},
   "outputs": [],
   "source": []
  },
  {
   "cell_type": "code",
   "execution_count": 23,
   "id": "4225d8d3",
   "metadata": {},
   "outputs": [],
   "source": [
    "song_genre_df.columns = col_names"
   ]
  },
  {
   "cell_type": "code",
   "execution_count": null,
   "id": "c6002303",
   "metadata": {},
   "outputs": [],
   "source": []
  },
  {
   "cell_type": "code",
   "execution_count": 24,
   "id": "e0d46ad5",
   "metadata": {},
   "outputs": [],
   "source": [
    "song_genre_df[\"song_idx\"] = np.arange(-1, n_song)"
   ]
  },
  {
   "cell_type": "code",
   "execution_count": 25,
   "id": "c5f6461f",
   "metadata": {},
   "outputs": [
    {
     "data": {
      "text/html": [
       "<div>\n",
       "<style scoped>\n",
       "    .dataframe tbody tr th:only-of-type {\n",
       "        vertical-align: middle;\n",
       "    }\n",
       "\n",
       "    .dataframe tbody tr th {\n",
       "        vertical-align: top;\n",
       "    }\n",
       "\n",
       "    .dataframe thead th {\n",
       "        text-align: right;\n",
       "    }\n",
       "</style>\n",
       "<table border=\"1\" class=\"dataframe\">\n",
       "  <thead>\n",
       "    <tr style=\"text-align: right;\">\n",
       "      <th></th>\n",
       "      <th>genre_0</th>\n",
       "      <th>genre_1</th>\n",
       "      <th>genre_2</th>\n",
       "      <th>genre_3</th>\n",
       "      <th>genre_4</th>\n",
       "      <th>genre_5</th>\n",
       "      <th>genre_6</th>\n",
       "      <th>genre_7</th>\n",
       "      <th>genre_8</th>\n",
       "      <th>genre_9</th>\n",
       "      <th>...</th>\n",
       "      <th>genre_182</th>\n",
       "      <th>genre_183</th>\n",
       "      <th>genre_184</th>\n",
       "      <th>genre_185</th>\n",
       "      <th>genre_186</th>\n",
       "      <th>genre_187</th>\n",
       "      <th>genre_188</th>\n",
       "      <th>genre_189</th>\n",
       "      <th>genre_190</th>\n",
       "      <th>song_idx</th>\n",
       "    </tr>\n",
       "  </thead>\n",
       "  <tbody>\n",
       "    <tr>\n",
       "      <th>0</th>\n",
       "      <td>False</td>\n",
       "      <td>False</td>\n",
       "      <td>False</td>\n",
       "      <td>False</td>\n",
       "      <td>False</td>\n",
       "      <td>False</td>\n",
       "      <td>False</td>\n",
       "      <td>False</td>\n",
       "      <td>False</td>\n",
       "      <td>False</td>\n",
       "      <td>...</td>\n",
       "      <td>False</td>\n",
       "      <td>False</td>\n",
       "      <td>False</td>\n",
       "      <td>False</td>\n",
       "      <td>False</td>\n",
       "      <td>False</td>\n",
       "      <td>False</td>\n",
       "      <td>False</td>\n",
       "      <td>False</td>\n",
       "      <td>-1</td>\n",
       "    </tr>\n",
       "    <tr>\n",
       "      <th>1</th>\n",
       "      <td>False</td>\n",
       "      <td>False</td>\n",
       "      <td>False</td>\n",
       "      <td>False</td>\n",
       "      <td>False</td>\n",
       "      <td>False</td>\n",
       "      <td>False</td>\n",
       "      <td>False</td>\n",
       "      <td>False</td>\n",
       "      <td>False</td>\n",
       "      <td>...</td>\n",
       "      <td>False</td>\n",
       "      <td>False</td>\n",
       "      <td>False</td>\n",
       "      <td>False</td>\n",
       "      <td>False</td>\n",
       "      <td>False</td>\n",
       "      <td>False</td>\n",
       "      <td>False</td>\n",
       "      <td>False</td>\n",
       "      <td>0</td>\n",
       "    </tr>\n",
       "    <tr>\n",
       "      <th>2</th>\n",
       "      <td>False</td>\n",
       "      <td>False</td>\n",
       "      <td>False</td>\n",
       "      <td>False</td>\n",
       "      <td>False</td>\n",
       "      <td>False</td>\n",
       "      <td>False</td>\n",
       "      <td>False</td>\n",
       "      <td>False</td>\n",
       "      <td>False</td>\n",
       "      <td>...</td>\n",
       "      <td>False</td>\n",
       "      <td>False</td>\n",
       "      <td>False</td>\n",
       "      <td>False</td>\n",
       "      <td>False</td>\n",
       "      <td>False</td>\n",
       "      <td>False</td>\n",
       "      <td>False</td>\n",
       "      <td>False</td>\n",
       "      <td>1</td>\n",
       "    </tr>\n",
       "    <tr>\n",
       "      <th>3</th>\n",
       "      <td>False</td>\n",
       "      <td>False</td>\n",
       "      <td>False</td>\n",
       "      <td>False</td>\n",
       "      <td>False</td>\n",
       "      <td>False</td>\n",
       "      <td>False</td>\n",
       "      <td>False</td>\n",
       "      <td>False</td>\n",
       "      <td>False</td>\n",
       "      <td>...</td>\n",
       "      <td>False</td>\n",
       "      <td>False</td>\n",
       "      <td>False</td>\n",
       "      <td>False</td>\n",
       "      <td>False</td>\n",
       "      <td>False</td>\n",
       "      <td>False</td>\n",
       "      <td>False</td>\n",
       "      <td>False</td>\n",
       "      <td>2</td>\n",
       "    </tr>\n",
       "    <tr>\n",
       "      <th>4</th>\n",
       "      <td>False</td>\n",
       "      <td>False</td>\n",
       "      <td>False</td>\n",
       "      <td>False</td>\n",
       "      <td>False</td>\n",
       "      <td>False</td>\n",
       "      <td>False</td>\n",
       "      <td>False</td>\n",
       "      <td>False</td>\n",
       "      <td>False</td>\n",
       "      <td>...</td>\n",
       "      <td>False</td>\n",
       "      <td>False</td>\n",
       "      <td>False</td>\n",
       "      <td>False</td>\n",
       "      <td>False</td>\n",
       "      <td>False</td>\n",
       "      <td>False</td>\n",
       "      <td>False</td>\n",
       "      <td>False</td>\n",
       "      <td>3</td>\n",
       "    </tr>\n",
       "    <tr>\n",
       "      <th>...</th>\n",
       "      <td>...</td>\n",
       "      <td>...</td>\n",
       "      <td>...</td>\n",
       "      <td>...</td>\n",
       "      <td>...</td>\n",
       "      <td>...</td>\n",
       "      <td>...</td>\n",
       "      <td>...</td>\n",
       "      <td>...</td>\n",
       "      <td>...</td>\n",
       "      <td>...</td>\n",
       "      <td>...</td>\n",
       "      <td>...</td>\n",
       "      <td>...</td>\n",
       "      <td>...</td>\n",
       "      <td>...</td>\n",
       "      <td>...</td>\n",
       "      <td>...</td>\n",
       "      <td>...</td>\n",
       "      <td>...</td>\n",
       "      <td>...</td>\n",
       "    </tr>\n",
       "    <tr>\n",
       "      <th>2296316</th>\n",
       "      <td>False</td>\n",
       "      <td>False</td>\n",
       "      <td>False</td>\n",
       "      <td>False</td>\n",
       "      <td>False</td>\n",
       "      <td>False</td>\n",
       "      <td>False</td>\n",
       "      <td>False</td>\n",
       "      <td>False</td>\n",
       "      <td>False</td>\n",
       "      <td>...</td>\n",
       "      <td>False</td>\n",
       "      <td>False</td>\n",
       "      <td>False</td>\n",
       "      <td>False</td>\n",
       "      <td>False</td>\n",
       "      <td>False</td>\n",
       "      <td>False</td>\n",
       "      <td>False</td>\n",
       "      <td>False</td>\n",
       "      <td>2296315</td>\n",
       "    </tr>\n",
       "    <tr>\n",
       "      <th>2296317</th>\n",
       "      <td>False</td>\n",
       "      <td>False</td>\n",
       "      <td>False</td>\n",
       "      <td>False</td>\n",
       "      <td>False</td>\n",
       "      <td>False</td>\n",
       "      <td>False</td>\n",
       "      <td>False</td>\n",
       "      <td>False</td>\n",
       "      <td>False</td>\n",
       "      <td>...</td>\n",
       "      <td>False</td>\n",
       "      <td>False</td>\n",
       "      <td>False</td>\n",
       "      <td>False</td>\n",
       "      <td>False</td>\n",
       "      <td>False</td>\n",
       "      <td>False</td>\n",
       "      <td>False</td>\n",
       "      <td>False</td>\n",
       "      <td>2296316</td>\n",
       "    </tr>\n",
       "    <tr>\n",
       "      <th>2296318</th>\n",
       "      <td>False</td>\n",
       "      <td>False</td>\n",
       "      <td>False</td>\n",
       "      <td>False</td>\n",
       "      <td>False</td>\n",
       "      <td>False</td>\n",
       "      <td>False</td>\n",
       "      <td>False</td>\n",
       "      <td>False</td>\n",
       "      <td>False</td>\n",
       "      <td>...</td>\n",
       "      <td>False</td>\n",
       "      <td>False</td>\n",
       "      <td>False</td>\n",
       "      <td>False</td>\n",
       "      <td>False</td>\n",
       "      <td>False</td>\n",
       "      <td>False</td>\n",
       "      <td>False</td>\n",
       "      <td>False</td>\n",
       "      <td>2296317</td>\n",
       "    </tr>\n",
       "    <tr>\n",
       "      <th>2296319</th>\n",
       "      <td>False</td>\n",
       "      <td>False</td>\n",
       "      <td>False</td>\n",
       "      <td>False</td>\n",
       "      <td>False</td>\n",
       "      <td>False</td>\n",
       "      <td>False</td>\n",
       "      <td>False</td>\n",
       "      <td>False</td>\n",
       "      <td>False</td>\n",
       "      <td>...</td>\n",
       "      <td>False</td>\n",
       "      <td>False</td>\n",
       "      <td>False</td>\n",
       "      <td>False</td>\n",
       "      <td>False</td>\n",
       "      <td>False</td>\n",
       "      <td>False</td>\n",
       "      <td>False</td>\n",
       "      <td>False</td>\n",
       "      <td>2296318</td>\n",
       "    </tr>\n",
       "    <tr>\n",
       "      <th>2296320</th>\n",
       "      <td>False</td>\n",
       "      <td>False</td>\n",
       "      <td>False</td>\n",
       "      <td>False</td>\n",
       "      <td>False</td>\n",
       "      <td>False</td>\n",
       "      <td>False</td>\n",
       "      <td>False</td>\n",
       "      <td>False</td>\n",
       "      <td>False</td>\n",
       "      <td>...</td>\n",
       "      <td>False</td>\n",
       "      <td>False</td>\n",
       "      <td>False</td>\n",
       "      <td>False</td>\n",
       "      <td>False</td>\n",
       "      <td>False</td>\n",
       "      <td>False</td>\n",
       "      <td>False</td>\n",
       "      <td>False</td>\n",
       "      <td>2296319</td>\n",
       "    </tr>\n",
       "  </tbody>\n",
       "</table>\n",
       "<p>2296321 rows × 192 columns</p>\n",
       "</div>"
      ],
      "text/plain": [
       "         genre_0  genre_1  genre_2  genre_3  genre_4  genre_5  genre_6  \\\n",
       "0          False    False    False    False    False    False    False   \n",
       "1          False    False    False    False    False    False    False   \n",
       "2          False    False    False    False    False    False    False   \n",
       "3          False    False    False    False    False    False    False   \n",
       "4          False    False    False    False    False    False    False   \n",
       "...          ...      ...      ...      ...      ...      ...      ...   \n",
       "2296316    False    False    False    False    False    False    False   \n",
       "2296317    False    False    False    False    False    False    False   \n",
       "2296318    False    False    False    False    False    False    False   \n",
       "2296319    False    False    False    False    False    False    False   \n",
       "2296320    False    False    False    False    False    False    False   \n",
       "\n",
       "         genre_7  genre_8  genre_9  ...  genre_182  genre_183  genre_184  \\\n",
       "0          False    False    False  ...      False      False      False   \n",
       "1          False    False    False  ...      False      False      False   \n",
       "2          False    False    False  ...      False      False      False   \n",
       "3          False    False    False  ...      False      False      False   \n",
       "4          False    False    False  ...      False      False      False   \n",
       "...          ...      ...      ...  ...        ...        ...        ...   \n",
       "2296316    False    False    False  ...      False      False      False   \n",
       "2296317    False    False    False  ...      False      False      False   \n",
       "2296318    False    False    False  ...      False      False      False   \n",
       "2296319    False    False    False  ...      False      False      False   \n",
       "2296320    False    False    False  ...      False      False      False   \n",
       "\n",
       "         genre_185  genre_186  genre_187  genre_188  genre_189  genre_190  \\\n",
       "0            False      False      False      False      False      False   \n",
       "1            False      False      False      False      False      False   \n",
       "2            False      False      False      False      False      False   \n",
       "3            False      False      False      False      False      False   \n",
       "4            False      False      False      False      False      False   \n",
       "...            ...        ...        ...        ...        ...        ...   \n",
       "2296316      False      False      False      False      False      False   \n",
       "2296317      False      False      False      False      False      False   \n",
       "2296318      False      False      False      False      False      False   \n",
       "2296319      False      False      False      False      False      False   \n",
       "2296320      False      False      False      False      False      False   \n",
       "\n",
       "         song_idx  \n",
       "0              -1  \n",
       "1               0  \n",
       "2               1  \n",
       "3               2  \n",
       "4               3  \n",
       "...           ...  \n",
       "2296316   2296315  \n",
       "2296317   2296316  \n",
       "2296318   2296317  \n",
       "2296319   2296318  \n",
       "2296320   2296319  \n",
       "\n",
       "[2296321 rows x 192 columns]"
      ]
     },
     "execution_count": 25,
     "metadata": {},
     "output_type": "execute_result"
    }
   ],
   "source": [
    "song_genre_df"
   ]
  },
  {
   "cell_type": "code",
   "execution_count": null,
   "id": "1cdcff93",
   "metadata": {},
   "outputs": [],
   "source": []
  },
  {
   "cell_type": "code",
   "execution_count": null,
   "id": "11c26ebd",
   "metadata": {},
   "outputs": [],
   "source": []
  },
  {
   "cell_type": "code",
   "execution_count": 26,
   "id": "72448f68",
   "metadata": {},
   "outputs": [],
   "source": [
    "train_df2 = train_df[[\"target\", \"msno_idx\", \"song_idx\"]]"
   ]
  },
  {
   "cell_type": "code",
   "execution_count": 27,
   "id": "837a1314",
   "metadata": {},
   "outputs": [],
   "source": [
    "train_df2 = train_df2.merge(song_genre_df, on =  \"song_idx\", how = \"left\")"
   ]
  },
  {
   "cell_type": "code",
   "execution_count": null,
   "id": "2e1e4c83",
   "metadata": {},
   "outputs": [],
   "source": []
  },
  {
   "cell_type": "code",
   "execution_count": 30,
   "id": "10f819f1",
   "metadata": {},
   "outputs": [],
   "source": [
    "def cal_prob(count_0, count_1, D = 10):\n",
    "    \n",
    "    val = count1/(count_0+count1 + D)\n",
    "    \n",
    "    return val"
   ]
  },
  {
   "cell_type": "markdown",
   "id": "b547e608",
   "metadata": {},
   "source": [
    "## Source System"
   ]
  },
  {
   "cell_type": "code",
   "execution_count": null,
   "id": "bcb2f54d",
   "metadata": {},
   "outputs": [],
   "source": [
    "filter1 = train_df[\"source_system_tab\"].isna()\n",
    "train_df.loc[filter1, \"source_system_tab\"] =  \"Z\"\n",
    "\n",
    "filter1 = test_df[\"source_system_tab\"].isna()\n",
    "test_df.loc[filter1, \"source_system_tab\"] =  \"Z\""
   ]
  },
  {
   "cell_type": "code",
   "execution_count": null,
   "id": "4322f612",
   "metadata": {},
   "outputs": [],
   "source": [
    "sources = train_df[\"source_system_tab\"].unique()\n",
    "sources_dic = {}\n",
    "for i in range(sources.shape[0]):\n",
    "    sources_dic[sources[i]] = i"
   ]
  },
  {
   "cell_type": "code",
   "execution_count": null,
   "id": "eb700d86",
   "metadata": {},
   "outputs": [],
   "source": [
    "train_df[\"sources_id\"] =  train_df[\"source_system_tab\"].apply(lambda x: sources_dic[x])\n",
    "test_df[\"sources_id\"] =  test_df[\"source_system_tab\"].apply(lambda x: sources_dic[x])"
   ]
  },
  {
   "cell_type": "code",
   "execution_count": null,
   "id": "4fda6a81",
   "metadata": {},
   "outputs": [],
   "source": [
    "member_source_df1 = train_df[[\"msno_idx\", \"sources_id\", \"target\"]].groupby([\"msno_idx\", \"sources_id\"]).sum()\n",
    "member_source_df10 =  train_df[[\"msno_idx\", \"sources_id\", \"target\"]].groupby([\"msno_idx\", \"sources_id\"]).count()\n",
    "member_source_df = member_source_df1/(member_source_df10 + 0.5)\n",
    "member_source_df = member_source_df.reset_index()\n",
    "member_source_t = member_source_df.pivot_table(index = \"msno_idx\", columns = [\"sources_id\"])"
   ]
  },
  {
   "cell_type": "code",
   "execution_count": 201,
   "id": "69f6b4bb",
   "metadata": {},
   "outputs": [],
   "source": [
    "member_source_mat = member_source_t.to_numpy()"
   ]
  },
  {
   "cell_type": "code",
   "execution_count": null,
   "id": "052bf4b3",
   "metadata": {},
   "outputs": [],
   "source": []
  },
  {
   "cell_type": "markdown",
   "id": "6b282296",
   "metadata": {},
   "source": [
    "### Validation"
   ]
  },
  {
   "cell_type": "code",
   "execution_count": null,
   "id": "5c1657af",
   "metadata": {},
   "outputs": [],
   "source": [
    "member_genre1 = train_df2.drop([\"song_idx\"], axis = 1).iloc[0:int(n_train*0.9),:].query(\"target == 1\").groupby(\"msno_idx\").sum()\n",
    "member_genre01 = train_df2.drop([\"song_idx\"], axis = 1).iloc[0:int(n_train*0.9),:].groupby(\"msno_idx\").sum()\n",
    "member_genre_prob = member_genre1/(member_genre01 + 5)"
   ]
  },
  {
   "cell_type": "code",
   "execution_count": null,
   "id": "b2ea5670",
   "metadata": {},
   "outputs": [],
   "source": [
    "member_genre_prob.drop([\"target\"], axis = 1, inplace = True)\n",
    "member_genre_prob = member_genre_prob.reset_index()"
   ]
  },
  {
   "cell_type": "code",
   "execution_count": 32,
   "id": "7502b78b",
   "metadata": {},
   "outputs": [],
   "source": [
    "member_genre_mat = member_genre_prob.drop([\"msno_idx\"], axis = 1).to_numpy()"
   ]
  },
  {
   "cell_type": "code",
   "execution_count": null,
   "id": "e0f89558",
   "metadata": {},
   "outputs": [],
   "source": [
    "msno_idx_array2 = member_genre_prob[\"msno_idx\"].to_numpy()\n",
    "\n",
    "msno_idx_loc = {}\n",
    "for i in range(msno_idx_array2.shape[0]):\n",
    "    msno_idx_loc[msno_idx_array2[i]] = i\n",
    "    "
   ]
  },
  {
   "cell_type": "code",
   "execution_count": null,
   "id": "35a18534",
   "metadata": {},
   "outputs": [],
   "source": []
  },
  {
   "cell_type": "code",
   "execution_count": 127,
   "id": "8828498a",
   "metadata": {},
   "outputs": [],
   "source": [
    "msno_val = train_df[\"msno_idx\"].iloc[int(n_train*0.9):].to_numpy()\n",
    "song_val = train_df[\"song_idx\"].iloc[int(n_train*0.9):].to_numpy()\n",
    "y_val = train_df[\"target\"].iloc[int(n_train*0.9):].to_numpy()"
   ]
  },
  {
   "cell_type": "code",
   "execution_count": 134,
   "id": "a05ed978",
   "metadata": {},
   "outputs": [],
   "source": [
    "n_val = y_val.shape[0]\n",
    "yhat_val = np.zeros(n_val)"
   ]
  },
  {
   "cell_type": "code",
   "execution_count": 194,
   "id": "81ea2c26",
   "metadata": {},
   "outputs": [],
   "source": [
    "for i in range(n_val):\n",
    "    try:\n",
    "        yhat_val[i] = np.sum(member_genre_mat[msno_idx_loc[msno_val[i]],:][song_genre_mat[song_val[i]+1]])\n",
    "    except KeyError:\n",
    "        yhat_val[i] = 0.5"
   ]
  },
  {
   "cell_type": "code",
   "execution_count": 195,
   "id": "ba8ed9cd",
   "metadata": {},
   "outputs": [],
   "source": [
    "yhat_val[np.isnan(yhat_val)] = 0.5"
   ]
  },
  {
   "cell_type": "code",
   "execution_count": 197,
   "id": "7fa6a47d",
   "metadata": {},
   "outputs": [
    {
     "data": {
      "text/plain": [
       "4205"
      ]
     },
     "execution_count": 197,
     "metadata": {},
     "output_type": "execute_result"
    }
   ],
   "source": [
    "yhat_val[yhat_val > 1] = 1"
   ]
  },
  {
   "cell_type": "code",
   "execution_count": 198,
   "id": "625137f8",
   "metadata": {},
   "outputs": [],
   "source": [
    "plt.hist(yhat_val)"
   ]
  },
  {
   "cell_type": "code",
   "execution_count": 199,
   "id": "fe8adc09",
   "metadata": {},
   "outputs": [],
   "source": [
    "fpr, tpr, thresholds = metrics.roc_curve(y_val, yhat_val, pos_label=1)"
   ]
  },
  {
   "cell_type": "code",
   "execution_count": 200,
   "id": "f76e634c",
   "metadata": {},
   "outputs": [
    {
     "data": {
      "text/plain": [
       "(array([ 78099.,  48337.,  75950.,  97598., 111122., 157400.,  80942.,\n",
       "         49646.,  25906.,  12742.]),\n",
       " array([0. , 0.1, 0.2, 0.3, 0.4, 0.5, 0.6, 0.7, 0.8, 0.9, 1. ]),\n",
       " <BarContainer object of 10 artists>)"
      ]
     },
     "execution_count": 200,
     "metadata": {},
     "output_type": "execute_result"
    },
    {
     "data": {
      "image/png": "[encoded data removed]",
      "text/plain": [
       "<Figure size 432x288 with 1 Axes>"
      ]
     },
     "metadata": {
      "needs_background": "light"
     },
     "output_type": "display_data"
    }
   ],
   "source": [
    "metrics.auc(fpr, tpr)"
   ]
  },
  {
   "cell_type": "code",
   "execution_count": 201,
   "id": "5214a46d",
   "metadata": {},
   "outputs": [],
   "source": []
  },
  {
   "cell_type": "markdown",
   "id": "55384454",
   "metadata": {},
   "source": [
    "### Test"
   ]
  },
  {
   "cell_type": "code",
   "execution_count": 274,
   "id": "f816a7e9",
   "metadata": {},
   "outputs": [],
   "source": [
    "song_mean_df = train_df[[\"song_idx\", \"target\"]].groupby(\"song_idx\").mean().reset_index()\n",
    "song_mean = np.zeros(n_song+1) + 0.5\n",
    "song_mean[song_mean_df[\"song_idx\"]+1] = song_mean_df[\"target\"]"
   ]
  },
  {
   "cell_type": "code",
   "execution_count": 275,
   "id": "d8a23242",
   "metadata": {},
   "outputs": [
    {
     "data": {
      "text/plain": [
       "(2296321, 2296320)"
      ]
     },
     "execution_count": 275,
     "metadata": {},
     "output_type": "execute_result"
    }
   ],
   "source": [
    "song_mean.shape[0], n_song"
   ]
  },
  {
   "cell_type": "code",
   "execution_count": 276,
   "id": "86f1b73f",
   "metadata": {},
   "outputs": [],
   "source": [
    "song_source_df = train_df[[\"song_idx\",\"sources_id\", \"target\"]].groupby([\"song_idx\", \"sources_id\"]).mean().reset_index()"
   ]
  },
  {
   "cell_type": "code",
   "execution_count": 277,
   "id": "708e640b",
   "metadata": {},
   "outputs": [],
   "source": [
    "song_source_t = song_source_df.pivot_table(index = \"song_idx\", columns = [\"sources_id\"]).reset_index()"
   ]
  },
  {
   "cell_type": "code",
   "execution_count": 278,
   "id": "9a9c3404",
   "metadata": {},
   "outputs": [
    {
     "data": {
      "text/html": [
       "<div>\n",
       "<style scoped>\n",
       "    .dataframe tbody tr th:only-of-type {\n",
       "        vertical-align: middle;\n",
       "    }\n",
       "\n",
       "    .dataframe tbody tr th {\n",
       "        vertical-align: top;\n",
       "    }\n",
       "\n",
       "    .dataframe thead tr th {\n",
       "        text-align: left;\n",
       "    }\n",
       "</style>\n",
       "<table border=\"1\" class=\"dataframe\">\n",
       "  <thead>\n",
       "    <tr>\n",
       "      <th></th>\n",
       "      <th>song_idx</th>\n",
       "      <th colspan=\"9\" halign=\"left\">target</th>\n",
       "    </tr>\n",
       "    <tr>\n",
       "      <th>sources_id</th>\n",
       "      <th></th>\n",
       "      <th>0</th>\n",
       "      <th>1</th>\n",
       "      <th>2</th>\n",
       "      <th>3</th>\n",
       "      <th>4</th>\n",
       "      <th>5</th>\n",
       "      <th>6</th>\n",
       "      <th>7</th>\n",
       "      <th>8</th>\n",
       "    </tr>\n",
       "  </thead>\n",
       "  <tbody>\n",
       "    <tr>\n",
       "      <th>0</th>\n",
       "      <td>-1</td>\n",
       "      <td>0.000000</td>\n",
       "      <td>0.546875</td>\n",
       "      <td>0.315789</td>\n",
       "      <td>0.125000</td>\n",
       "      <td>NaN</td>\n",
       "      <td>0.20000</td>\n",
       "      <td>0.500000</td>\n",
       "      <td>NaN</td>\n",
       "      <td>NaN</td>\n",
       "    </tr>\n",
       "    <tr>\n",
       "      <th>1</th>\n",
       "      <td>0</td>\n",
       "      <td>NaN</td>\n",
       "      <td>0.625000</td>\n",
       "      <td>NaN</td>\n",
       "      <td>0.000000</td>\n",
       "      <td>NaN</td>\n",
       "      <td>NaN</td>\n",
       "      <td>0.000000</td>\n",
       "      <td>NaN</td>\n",
       "      <td>NaN</td>\n",
       "    </tr>\n",
       "    <tr>\n",
       "      <th>2</th>\n",
       "      <td>1</td>\n",
       "      <td>0.551402</td>\n",
       "      <td>0.803045</td>\n",
       "      <td>0.703125</td>\n",
       "      <td>0.503790</td>\n",
       "      <td>0.6</td>\n",
       "      <td>0.34375</td>\n",
       "      <td>0.090909</td>\n",
       "      <td>1.0</td>\n",
       "      <td>NaN</td>\n",
       "    </tr>\n",
       "    <tr>\n",
       "      <th>3</th>\n",
       "      <td>2</td>\n",
       "      <td>0.454545</td>\n",
       "      <td>0.625806</td>\n",
       "      <td>0.346154</td>\n",
       "      <td>0.339806</td>\n",
       "      <td>0.0</td>\n",
       "      <td>0.00000</td>\n",
       "      <td>0.166667</td>\n",
       "      <td>NaN</td>\n",
       "      <td>NaN</td>\n",
       "    </tr>\n",
       "    <tr>\n",
       "      <th>4</th>\n",
       "      <td>3</td>\n",
       "      <td>NaN</td>\n",
       "      <td>0.614634</td>\n",
       "      <td>0.282609</td>\n",
       "      <td>0.450000</td>\n",
       "      <td>0.0</td>\n",
       "      <td>0.00000</td>\n",
       "      <td>0.288889</td>\n",
       "      <td>NaN</td>\n",
       "      <td>NaN</td>\n",
       "    </tr>\n",
       "    <tr>\n",
       "      <th>...</th>\n",
       "      <td>...</td>\n",
       "      <td>...</td>\n",
       "      <td>...</td>\n",
       "      <td>...</td>\n",
       "      <td>...</td>\n",
       "      <td>...</td>\n",
       "      <td>...</td>\n",
       "      <td>...</td>\n",
       "      <td>...</td>\n",
       "      <td>...</td>\n",
       "    </tr>\n",
       "    <tr>\n",
       "      <th>359910</th>\n",
       "      <td>2296048</td>\n",
       "      <td>NaN</td>\n",
       "      <td>NaN</td>\n",
       "      <td>NaN</td>\n",
       "      <td>0.000000</td>\n",
       "      <td>NaN</td>\n",
       "      <td>NaN</td>\n",
       "      <td>NaN</td>\n",
       "      <td>NaN</td>\n",
       "      <td>NaN</td>\n",
       "    </tr>\n",
       "    <tr>\n",
       "      <th>359911</th>\n",
       "      <td>2296161</td>\n",
       "      <td>NaN</td>\n",
       "      <td>NaN</td>\n",
       "      <td>0.000000</td>\n",
       "      <td>NaN</td>\n",
       "      <td>NaN</td>\n",
       "      <td>NaN</td>\n",
       "      <td>NaN</td>\n",
       "      <td>NaN</td>\n",
       "      <td>NaN</td>\n",
       "    </tr>\n",
       "    <tr>\n",
       "      <th>359912</th>\n",
       "      <td>2296187</td>\n",
       "      <td>NaN</td>\n",
       "      <td>0.000000</td>\n",
       "      <td>NaN</td>\n",
       "      <td>NaN</td>\n",
       "      <td>NaN</td>\n",
       "      <td>NaN</td>\n",
       "      <td>NaN</td>\n",
       "      <td>NaN</td>\n",
       "      <td>NaN</td>\n",
       "    </tr>\n",
       "    <tr>\n",
       "      <th>359913</th>\n",
       "      <td>2296259</td>\n",
       "      <td>NaN</td>\n",
       "      <td>0.000000</td>\n",
       "      <td>NaN</td>\n",
       "      <td>NaN</td>\n",
       "      <td>NaN</td>\n",
       "      <td>NaN</td>\n",
       "      <td>NaN</td>\n",
       "      <td>NaN</td>\n",
       "      <td>NaN</td>\n",
       "    </tr>\n",
       "    <tr>\n",
       "      <th>359914</th>\n",
       "      <td>2296280</td>\n",
       "      <td>NaN</td>\n",
       "      <td>0.000000</td>\n",
       "      <td>NaN</td>\n",
       "      <td>NaN</td>\n",
       "      <td>NaN</td>\n",
       "      <td>NaN</td>\n",
       "      <td>NaN</td>\n",
       "      <td>NaN</td>\n",
       "      <td>NaN</td>\n",
       "    </tr>\n",
       "  </tbody>\n",
       "</table>\n",
       "<p>359915 rows × 10 columns</p>\n",
       "</div>"
      ],
      "text/plain": [
       "           song_idx    target                                              \\\n",
       "sources_id                  0         1         2         3    4        5   \n",
       "0                -1  0.000000  0.546875  0.315789  0.125000  NaN  0.20000   \n",
       "1                 0       NaN  0.625000       NaN  0.000000  NaN      NaN   \n",
       "2                 1  0.551402  0.803045  0.703125  0.503790  0.6  0.34375   \n",
       "3                 2  0.454545  0.625806  0.346154  0.339806  0.0  0.00000   \n",
       "4                 3       NaN  0.614634  0.282609  0.450000  0.0  0.00000   \n",
       "...             ...       ...       ...       ...       ...  ...      ...   \n",
       "359910      2296048       NaN       NaN       NaN  0.000000  NaN      NaN   \n",
       "359911      2296161       NaN       NaN  0.000000       NaN  NaN      NaN   \n",
       "359912      2296187       NaN  0.000000       NaN       NaN  NaN      NaN   \n",
       "359913      2296259       NaN  0.000000       NaN       NaN  NaN      NaN   \n",
       "359914      2296280       NaN  0.000000       NaN       NaN  NaN      NaN   \n",
       "\n",
       "                               \n",
       "sources_id         6    7   8  \n",
       "0           0.500000  NaN NaN  \n",
       "1           0.000000  NaN NaN  \n",
       "2           0.090909  1.0 NaN  \n",
       "3           0.166667  NaN NaN  \n",
       "4           0.288889  NaN NaN  \n",
       "...              ...  ...  ..  \n",
       "359910           NaN  NaN NaN  \n",
       "359911           NaN  NaN NaN  \n",
       "359912           NaN  NaN NaN  \n",
       "359913           NaN  NaN NaN  \n",
       "359914           NaN  NaN NaN  \n",
       "\n",
       "[359915 rows x 10 columns]"
      ]
     },
     "execution_count": 278,
     "metadata": {},
     "output_type": "execute_result"
    }
   ],
   "source": [
    "song_source_t"
   ]
  },
  {
   "cell_type": "code",
   "execution_count": 279,
   "id": "79350ff9",
   "metadata": {},
   "outputs": [],
   "source": [
    "source_mean = train_df[[\"sources_id\", \"target\"]].groupby(\"sources_id\").mean()[\"target\"].to_numpy()"
   ]
  },
  {
   "cell_type": "code",
   "execution_count": 280,
   "id": "d9375ca6",
   "metadata": {},
   "outputs": [
    {
     "data": {
      "text/plain": [
       "array([0.42214601, 0.61965897, 0.42136194, 0.41576972, 0.51036259,\n",
       "       0.22266158, 0.3265808 , 0.37801132, 0.59090909])"
      ]
     },
     "execution_count": 280,
     "metadata": {},
     "output_type": "execute_result"
    }
   ],
   "source": [
    "source_mean"
   ]
  },
  {
   "cell_type": "code",
   "execution_count": 281,
   "id": "1759a054",
   "metadata": {},
   "outputs": [],
   "source": [
    "song_source_mat = np.zeros((n_song+1, 9)) -1"
   ]
  },
  {
   "cell_type": "code",
   "execution_count": 282,
   "id": "357473b5",
   "metadata": {},
   "outputs": [],
   "source": [
    "song_source_mat[:,:] = source_mean[:]"
   ]
  },
  {
   "cell_type": "code",
   "execution_count": 284,
   "id": "c159d6a9",
   "metadata": {},
   "outputs": [],
   "source": [
    "song_source_mat2 = song_source_mat.copy()"
   ]
  },
  {
   "cell_type": "code",
   "execution_count": 285,
   "id": "c81fea5f",
   "metadata": {},
   "outputs": [],
   "source": [
    "song_source_mat[song_source_t[\"song_idx\"]+1] = song_source_t[\"target\"]"
   ]
  },
  {
   "cell_type": "code",
   "execution_count": 286,
   "id": "f733589c",
   "metadata": {},
   "outputs": [],
   "source": [
    "song_source_mat[np.isnan(song_source_mat)] = song_source_mat2[np.isnan(song_source_mat)]"
   ]
  },
  {
   "cell_type": "code",
   "execution_count": null,
   "id": "ddee5612",
   "metadata": {},
   "outputs": [],
   "source": []
  },
  {
   "cell_type": "code",
   "execution_count": null,
   "id": "d3fa1d66",
   "metadata": {},
   "outputs": [],
   "source": []
  },
  {
   "cell_type": "code",
   "execution_count": null,
   "id": "5444bb45",
   "metadata": {},
   "outputs": [],
   "source": []
  },
  {
   "cell_type": "code",
   "execution_count": 51,
   "id": "3ce75b6a",
   "metadata": {},
   "outputs": [],
   "source": [
    "member_genre1 = train_df2.drop([\"song_idx\"], axis = 1).query(\"target == 1\").groupby(\"msno_idx\").sum()\n",
    "member_genre01 = train_df2.drop([\"song_idx\"], axis = 1).groupby(\"msno_idx\").sum()\n",
    "member_genre_prob = member_genre1/(member_genre01 + 0.5)"
   ]
  },
  {
   "cell_type": "code",
   "execution_count": 52,
   "id": "ce89fbf5",
   "metadata": {},
   "outputs": [],
   "source": [
    "member_genre_prob.drop([\"target\"], axis = 1, inplace = True)\n",
    "member_genre_prob = member_genre_prob.reset_index()"
   ]
  },
  {
   "cell_type": "code",
   "execution_count": 53,
   "id": "1bf6ce33",
   "metadata": {},
   "outputs": [],
   "source": [
    "member_genre_mat = member_genre_prob.drop([\"msno_idx\"], axis = 1).to_numpy()"
   ]
  },
  {
   "cell_type": "code",
   "execution_count": 54,
   "id": "f6a5a997",
   "metadata": {},
   "outputs": [],
   "source": [
    "msno_idx_array2 = member_genre_prob[\"msno_idx\"].to_numpy()\n",
    "\n",
    "msno_idx_loc = {}\n",
    "for i in range(msno_idx_array2.shape[0]):\n",
    "    msno_idx_loc[msno_idx_array2[i]] = i"
   ]
  },
  {
   "cell_type": "code",
   "execution_count": null,
   "id": "39258f59",
   "metadata": {},
   "outputs": [],
   "source": []
  },
  {
   "cell_type": "code",
   "execution_count": 77,
   "id": "3329e73c",
   "metadata": {},
   "outputs": [
    {
     "data": {
      "text/plain": [
       "0.8939627358079237"
      ]
     },
     "execution_count": 77,
     "metadata": {},
     "output_type": "execute_result"
    }
   ],
   "source": [
    "member_genre_mat.shape[0]/n_member"
   ]
  },
  {
   "cell_type": "code",
   "execution_count": 288,
   "id": "c0e497c5",
   "metadata": {},
   "outputs": [],
   "source": [
    "msno_test = test_df[\"msno_idx\"].to_numpy()\n",
    "song_test = test_df[\"song_idx\"].to_numpy()"
   ]
  },
  {
   "cell_type": "code",
   "execution_count": 289,
   "id": "1dac9a6f",
   "metadata": {},
   "outputs": [],
   "source": [
    "source_test = test_df[\"sources_id\"].to_numpy()"
   ]
  },
  {
   "cell_type": "code",
   "execution_count": 306,
   "id": "c6f65f2a",
   "metadata": {},
   "outputs": [],
   "source": [
    "yhat_test = np.zeros(n_test)"
   ]
  },
  {
   "cell_type": "code",
   "execution_count": 307,
   "id": "fba150fc",
   "metadata": {},
   "outputs": [
    {
     "data": {
      "text/plain": [
       "((30755, 9), (30755, 191))"
      ]
     },
     "execution_count": 307,
     "metadata": {},
     "output_type": "execute_result"
    }
   ],
   "source": [
    "member_source_mat.shape, member_genre_mat.shape"
   ]
  },
  {
   "cell_type": "code",
   "execution_count": 308,
   "id": "911eff24",
   "metadata": {},
   "outputs": [],
   "source": [
    "count = 0\n",
    "for i in range(n_test):\n",
    "    divider = np.sum(song_genre_mat[song_test[i]+1])\n",
    "    \n",
    "    if divider > 0:\n",
    "        try:\n",
    "            val1 = member_source_mat[msno_idx_loc[msno_test[i]], source_test[i]]\n",
    "            #val2 = np.sum(member_genre_mat[msno_idx_loc[msno_test[i]],:][song_genre_mat[song_test[i]+1]])/divider\n",
    "            yhat_test[i] = val1 \n",
    "            #yhat_test[i] = (val1 + val2)/2\n",
    "        except KeyError:\n",
    "            count += 1\n",
    "            #yhat_test[i] = song_mean[song_test[i]+1]\n",
    "            val3 = song_source_mat[song_test[i]+1, source_test[i]]\n",
    "            \n",
    "            \n",
    "    else:\n",
    "        \n",
    "        yhat_test[i] = source_mean[source_test[i]]"
   ]
  },
  {
   "cell_type": "code",
   "execution_count": 309,
   "id": "09f05082",
   "metadata": {},
   "outputs": [
    {
     "data": {
      "text/plain": [
       "(array([306250., 154584., 250163., 333811., 406554., 336694., 287937.,\n",
       "        192755., 132836.,  64526.]),\n",
       " array([0.        , 0.09992759, 0.19985518, 0.29978277, 0.39971035,\n",
       "        0.49963794, 0.59956553, 0.69949312, 0.79942071, 0.8993483 ,\n",
       "        0.99927589]),\n",
       " <BarContainer object of 10 artists>)"
      ]
     },
     "execution_count": 309,
     "metadata": {},
     "output_type": "execute_result"
    },
    {
     "data": {
      "image/png": "[encoded data removed]",
      "text/plain": [
       "<Figure size 432x288 with 1 Axes>"
      ]
     },
     "metadata": {
      "needs_background": "light"
     },
     "output_type": "display_data"
    }
   ],
   "source": [
    "plt.hist(yhat_test)"
   ]
  },
  {
   "cell_type": "code",
   "execution_count": 315,
   "id": "2138583a",
   "metadata": {},
   "outputs": [
    {
     "data": {
      "text/plain": [
       "0.0"
      ]
     },
     "execution_count": 315,
     "metadata": {},
     "output_type": "execute_result"
    }
   ],
   "source": [
    "np.sum(np.isnan(yhat_test))/n_test"
   ]
  },
  {
   "cell_type": "code",
   "execution_count": 311,
   "id": "4d13243a",
   "metadata": {},
   "outputs": [],
   "source": [
    "filter1 = np.isnan(yhat_test)\n",
    "yhat_test[np.isnan(yhat_test)] = source_mean[source_test[filter1]]"
   ]
  },
  {
   "cell_type": "code",
   "execution_count": 312,
   "id": "2ada5e63",
   "metadata": {},
   "outputs": [
    {
     "data": {
      "text/plain": [
       "0.07067181896049343"
      ]
     },
     "execution_count": 312,
     "metadata": {},
     "output_type": "execute_result"
    }
   ],
   "source": [
    "count/n_test"
   ]
  },
  {
   "cell_type": "code",
   "execution_count": 313,
   "id": "fcd21773",
   "metadata": {},
   "outputs": [
    {
     "data": {
      "text/plain": [
       "(0.999275887038378, 0.0)"
      ]
     },
     "execution_count": 313,
     "metadata": {},
     "output_type": "execute_result"
    }
   ],
   "source": [
    "yhat_test.max(),yhat_test.min()"
   ]
  },
  {
   "cell_type": "code",
   "execution_count": 314,
   "id": "0e7485d2",
   "metadata": {},
   "outputs": [
    {
     "data": {
      "text/plain": [
       "(array([306250., 154584., 280143., 345198., 440905., 339937., 299656.,\n",
       "        192755., 132836.,  64526.]),\n",
       " array([0.        , 0.09992759, 0.19985518, 0.29978277, 0.39971035,\n",
       "        0.49963794, 0.59956553, 0.69949312, 0.79942071, 0.8993483 ,\n",
       "        0.99927589]),\n",
       " <BarContainer object of 10 artists>)"
      ]
     },
     "execution_count": 314,
     "metadata": {},
     "output_type": "execute_result"
    },
    {
     "data": {
      "image/png": "[encoded data removed]",
      "text/plain": [
       "<Figure size 432x288 with 1 Axes>"
      ]
     },
     "metadata": {
      "needs_background": "light"
     },
     "output_type": "display_data"
    }
   ],
   "source": [
    "plt.hist(yhat_test)"
   ]
  },
  {
   "cell_type": "code",
   "execution_count": null,
   "id": "f5d4dd9d",
   "metadata": {},
   "outputs": [],
   "source": []
  },
  {
   "cell_type": "code",
   "execution_count": 316,
   "id": "920722a1",
   "metadata": {},
   "outputs": [],
   "source": [
    "sample_df = pd.read_parquet(\"data/sample_submission.parquet\")"
   ]
  },
  {
   "cell_type": "code",
   "execution_count": 317,
   "id": "01ac5b01",
   "metadata": {},
   "outputs": [],
   "source": [
    "sample_df[\"target\"] = yhat_test"
   ]
  },
  {
   "cell_type": "code",
   "execution_count": 318,
   "id": "9673950c",
   "metadata": {},
   "outputs": [],
   "source": [
    "sample_df.to_csv(\"output/Content_Source_1.csv\", index = False)"
   ]
  },
  {
   "cell_type": "code",
   "execution_count": 152,
   "id": "8661c0ce",
   "metadata": {},
   "outputs": [
    {
     "data": {
      "text/plain": [
       "0.5035170841614234"
      ]
     },
     "execution_count": 152,
     "metadata": {},
     "output_type": "execute_result"
    }
   ],
   "source": [
    "train_df[\"target\"].mean()"
   ]
  },
  {
   "cell_type": "code",
   "execution_count": 156,
   "id": "9a9f98dc",
   "metadata": {},
   "outputs": [
    {
     "data": {
      "text/html": [
       "<div>\n",
       "<style scoped>\n",
       "    .dataframe tbody tr th:only-of-type {\n",
       "        vertical-align: middle;\n",
       "    }\n",
       "\n",
       "    .dataframe tbody tr th {\n",
       "        vertical-align: top;\n",
       "    }\n",
       "\n",
       "    .dataframe thead th {\n",
       "        text-align: right;\n",
       "    }\n",
       "</style>\n",
       "<table border=\"1\" class=\"dataframe\">\n",
       "  <thead>\n",
       "    <tr style=\"text-align: right;\">\n",
       "      <th></th>\n",
       "      <th>target</th>\n",
       "    </tr>\n",
       "    <tr>\n",
       "      <th>source_system_tab</th>\n",
       "      <th></th>\n",
       "    </tr>\n",
       "  </thead>\n",
       "  <tbody>\n",
       "    <tr>\n",
       "      <th>radio</th>\n",
       "      <td>0.222662</td>\n",
       "    </tr>\n",
       "    <tr>\n",
       "      <th>listen with</th>\n",
       "      <td>0.326581</td>\n",
       "    </tr>\n",
       "    <tr>\n",
       "      <th>notification</th>\n",
       "      <td>0.378011</td>\n",
       "    </tr>\n",
       "    <tr>\n",
       "      <th>discover</th>\n",
       "      <td>0.415770</td>\n",
       "    </tr>\n",
       "    <tr>\n",
       "      <th>search</th>\n",
       "      <td>0.421362</td>\n",
       "    </tr>\n",
       "    <tr>\n",
       "      <th>explore</th>\n",
       "      <td>0.422146</td>\n",
       "    </tr>\n",
       "    <tr>\n",
       "      <th>settings</th>\n",
       "      <td>0.590909</td>\n",
       "    </tr>\n",
       "    <tr>\n",
       "      <th>my library</th>\n",
       "      <td>0.619659</td>\n",
       "    </tr>\n",
       "  </tbody>\n",
       "</table>\n",
       "</div>"
      ],
      "text/plain": [
       "                     target\n",
       "source_system_tab          \n",
       "radio              0.222662\n",
       "listen with        0.326581\n",
       "notification       0.378011\n",
       "discover           0.415770\n",
       "search             0.421362\n",
       "explore            0.422146\n",
       "settings           0.590909\n",
       "my library         0.619659"
      ]
     },
     "execution_count": 156,
     "metadata": {},
     "output_type": "execute_result"
    }
   ],
   "source": [
    "train_df[[\"source_system_tab\", \"target\"]].groupby(\"source_system_tab\").mean().sort_values(\"target\")"
   ]
  },
  {
   "cell_type": "code",
   "execution_count": 154,
   "id": "ab024fb0",
   "metadata": {},
   "outputs": [
    {
     "data": {
      "text/plain": [
       "<AxesSubplot:xlabel='source_system_tab'>"
      ]
     },
     "execution_count": 154,
     "metadata": {},
     "output_type": "execute_result"
    },
    {
     "data": {
      "image/png": "[encoded data removed]",
      "text/plain": [
       "<Figure size 432x288 with 1 Axes>"
      ]
     },
     "metadata": {
      "needs_background": "light"
     },
     "output_type": "display_data"
    }
   ],
   "source": [
    "train_df[[\"source_system_tab\", \"target\"]].groupby(\"source_system_tab\").count().plot()"
   ]
  },
  {
   "cell_type": "code",
   "execution_count": 153,
   "id": "36cb2e0c",
   "metadata": {},
   "outputs": [
    {
     "data": {
      "text/plain": [
       "<AxesSubplot:xlabel='source_system_tab'>"
      ]
     },
     "execution_count": 153,
     "metadata": {},
     "output_type": "execute_result"
    },
    {
     "data": {
      "image/png": "[encoded data removed]",
      "text/plain": [
       "<Figure size 432x288 with 1 Axes>"
      ]
     },
     "metadata": {
      "needs_background": "light"
     },
     "output_type": "display_data"
    }
   ],
   "source": [
    "test_df[[\"source_system_tab\", \"id\"]].groupby(\"source_system_tab\").count().plot()"
   ]
  },
  {
   "cell_type": "code",
   "execution_count": 161,
   "id": "2ca49b5b",
   "metadata": {},
   "outputs": [],
   "source": []
  },
  {
   "cell_type": "code",
   "execution_count": 164,
   "id": "6ff2f549",
   "metadata": {},
   "outputs": [],
   "source": []
  },
  {
   "cell_type": "code",
   "execution_count": 166,
   "id": "5680f9a1",
   "metadata": {},
   "outputs": [],
   "source": []
  },
  {
   "cell_type": "code",
   "execution_count": 169,
   "id": "55eb36bf",
   "metadata": {},
   "outputs": [],
   "source": []
  },
  {
   "cell_type": "code",
   "execution_count": 170,
   "id": "b705c6c9",
   "metadata": {},
   "outputs": [
    {
     "data": {
      "text/html": [
       "<div>\n",
       "<style scoped>\n",
       "    .dataframe tbody tr th:only-of-type {\n",
       "        vertical-align: middle;\n",
       "    }\n",
       "\n",
       "    .dataframe tbody tr th {\n",
       "        vertical-align: top;\n",
       "    }\n",
       "\n",
       "    .dataframe thead tr th {\n",
       "        text-align: left;\n",
       "    }\n",
       "\n",
       "    .dataframe thead tr:last-of-type th {\n",
       "        text-align: right;\n",
       "    }\n",
       "</style>\n",
       "<table border=\"1\" class=\"dataframe\">\n",
       "  <thead>\n",
       "    <tr>\n",
       "      <th></th>\n",
       "      <th colspan=\"8\" halign=\"left\">target</th>\n",
       "    </tr>\n",
       "    <tr>\n",
       "      <th>source_system_tab</th>\n",
       "      <th>discover</th>\n",
       "      <th>explore</th>\n",
       "      <th>listen with</th>\n",
       "      <th>my library</th>\n",
       "      <th>notification</th>\n",
       "      <th>radio</th>\n",
       "      <th>search</th>\n",
       "      <th>settings</th>\n",
       "    </tr>\n",
       "    <tr>\n",
       "      <th>msno_idx</th>\n",
       "      <th></th>\n",
       "      <th></th>\n",
       "      <th></th>\n",
       "      <th></th>\n",
       "      <th></th>\n",
       "      <th></th>\n",
       "      <th></th>\n",
       "      <th></th>\n",
       "    </tr>\n",
       "  </thead>\n",
       "  <tbody>\n",
       "    <tr>\n",
       "      <th>0</th>\n",
       "      <td>0.095238</td>\n",
       "      <td>NaN</td>\n",
       "      <td>0.938547</td>\n",
       "      <td>0.830493</td>\n",
       "      <td>NaN</td>\n",
       "      <td>NaN</td>\n",
       "      <td>0.960000</td>\n",
       "      <td>NaN</td>\n",
       "    </tr>\n",
       "    <tr>\n",
       "      <th>1</th>\n",
       "      <td>0.000000</td>\n",
       "      <td>NaN</td>\n",
       "      <td>NaN</td>\n",
       "      <td>NaN</td>\n",
       "      <td>NaN</td>\n",
       "      <td>NaN</td>\n",
       "      <td>NaN</td>\n",
       "      <td>NaN</td>\n",
       "    </tr>\n",
       "    <tr>\n",
       "      <th>2</th>\n",
       "      <td>0.580645</td>\n",
       "      <td>0.235294</td>\n",
       "      <td>NaN</td>\n",
       "      <td>NaN</td>\n",
       "      <td>NaN</td>\n",
       "      <td>NaN</td>\n",
       "      <td>NaN</td>\n",
       "      <td>NaN</td>\n",
       "    </tr>\n",
       "    <tr>\n",
       "      <th>3</th>\n",
       "      <td>0.000000</td>\n",
       "      <td>NaN</td>\n",
       "      <td>NaN</td>\n",
       "      <td>NaN</td>\n",
       "      <td>NaN</td>\n",
       "      <td>NaN</td>\n",
       "      <td>NaN</td>\n",
       "      <td>NaN</td>\n",
       "    </tr>\n",
       "    <tr>\n",
       "      <th>4</th>\n",
       "      <td>0.000000</td>\n",
       "      <td>NaN</td>\n",
       "      <td>NaN</td>\n",
       "      <td>NaN</td>\n",
       "      <td>NaN</td>\n",
       "      <td>NaN</td>\n",
       "      <td>0.000000</td>\n",
       "      <td>NaN</td>\n",
       "    </tr>\n",
       "    <tr>\n",
       "      <th>...</th>\n",
       "      <td>...</td>\n",
       "      <td>...</td>\n",
       "      <td>...</td>\n",
       "      <td>...</td>\n",
       "      <td>...</td>\n",
       "      <td>...</td>\n",
       "      <td>...</td>\n",
       "      <td>...</td>\n",
       "    </tr>\n",
       "    <tr>\n",
       "      <th>34398</th>\n",
       "      <td>0.609062</td>\n",
       "      <td>NaN</td>\n",
       "      <td>NaN</td>\n",
       "      <td>NaN</td>\n",
       "      <td>NaN</td>\n",
       "      <td>NaN</td>\n",
       "      <td>NaN</td>\n",
       "      <td>NaN</td>\n",
       "    </tr>\n",
       "    <tr>\n",
       "      <th>34399</th>\n",
       "      <td>NaN</td>\n",
       "      <td>NaN</td>\n",
       "      <td>NaN</td>\n",
       "      <td>0.830189</td>\n",
       "      <td>NaN</td>\n",
       "      <td>NaN</td>\n",
       "      <td>NaN</td>\n",
       "      <td>NaN</td>\n",
       "    </tr>\n",
       "    <tr>\n",
       "      <th>34400</th>\n",
       "      <td>NaN</td>\n",
       "      <td>NaN</td>\n",
       "      <td>NaN</td>\n",
       "      <td>0.322581</td>\n",
       "      <td>NaN</td>\n",
       "      <td>NaN</td>\n",
       "      <td>NaN</td>\n",
       "      <td>NaN</td>\n",
       "    </tr>\n",
       "    <tr>\n",
       "      <th>34401</th>\n",
       "      <td>NaN</td>\n",
       "      <td>NaN</td>\n",
       "      <td>NaN</td>\n",
       "      <td>0.755418</td>\n",
       "      <td>NaN</td>\n",
       "      <td>NaN</td>\n",
       "      <td>0.857143</td>\n",
       "      <td>NaN</td>\n",
       "    </tr>\n",
       "    <tr>\n",
       "      <th>34402</th>\n",
       "      <td>NaN</td>\n",
       "      <td>NaN</td>\n",
       "      <td>NaN</td>\n",
       "      <td>0.260870</td>\n",
       "      <td>NaN</td>\n",
       "      <td>NaN</td>\n",
       "      <td>NaN</td>\n",
       "      <td>NaN</td>\n",
       "    </tr>\n",
       "  </tbody>\n",
       "</table>\n",
       "<p>30647 rows × 8 columns</p>\n",
       "</div>"
      ],
      "text/plain": [
       "                     target                                                \\\n",
       "source_system_tab  discover   explore listen with my library notification   \n",
       "msno_idx                                                                    \n",
       "0                  0.095238       NaN    0.938547   0.830493          NaN   \n",
       "1                  0.000000       NaN         NaN        NaN          NaN   \n",
       "2                  0.580645  0.235294         NaN        NaN          NaN   \n",
       "3                  0.000000       NaN         NaN        NaN          NaN   \n",
       "4                  0.000000       NaN         NaN        NaN          NaN   \n",
       "...                     ...       ...         ...        ...          ...   \n",
       "34398              0.609062       NaN         NaN        NaN          NaN   \n",
       "34399                   NaN       NaN         NaN   0.830189          NaN   \n",
       "34400                   NaN       NaN         NaN   0.322581          NaN   \n",
       "34401                   NaN       NaN         NaN   0.755418          NaN   \n",
       "34402                   NaN       NaN         NaN   0.260870          NaN   \n",
       "\n",
       "                                            \n",
       "source_system_tab radio    search settings  \n",
       "msno_idx                                    \n",
       "0                   NaN  0.960000      NaN  \n",
       "1                   NaN       NaN      NaN  \n",
       "2                   NaN       NaN      NaN  \n",
       "3                   NaN       NaN      NaN  \n",
       "4                   NaN  0.000000      NaN  \n",
       "...                 ...       ...      ...  \n",
       "34398               NaN       NaN      NaN  \n",
       "34399               NaN       NaN      NaN  \n",
       "34400               NaN       NaN      NaN  \n",
       "34401               NaN  0.857143      NaN  \n",
       "34402               NaN       NaN      NaN  \n",
       "\n",
       "[30647 rows x 8 columns]"
      ]
     },
     "execution_count": 170,
     "metadata": {},
     "output_type": "execute_result"
    }
   ],
   "source": [
    "member_source_t"
   ]
  },
  {
   "cell_type": "code",
   "execution_count": 190,
   "id": "81aaf705",
   "metadata": {},
   "outputs": [],
   "source": []
  },
  {
   "cell_type": "code",
   "execution_count": 191,
   "id": "189334f6",
   "metadata": {},
   "outputs": [],
   "source": []
  },
  {
   "cell_type": "code",
   "execution_count": 192,
   "id": "d96302a4",
   "metadata": {},
   "outputs": [],
   "source": []
  },
  {
   "cell_type": "code",
   "execution_count": 193,
   "id": "b34e6f46",
   "metadata": {},
   "outputs": [],
   "source": []
  },
  {
   "cell_type": "code",
   "execution_count": 198,
   "id": "27cf14b8",
   "metadata": {},
   "outputs": [],
   "source": []
  },
  {
   "cell_type": "code",
   "execution_count": 199,
   "id": "4705f48d",
   "metadata": {},
   "outputs": [
    {
     "data": {
      "text/html": [
       "<div>\n",
       "<style scoped>\n",
       "    .dataframe tbody tr th:only-of-type {\n",
       "        vertical-align: middle;\n",
       "    }\n",
       "\n",
       "    .dataframe tbody tr th {\n",
       "        vertical-align: top;\n",
       "    }\n",
       "\n",
       "    .dataframe thead tr th {\n",
       "        text-align: left;\n",
       "    }\n",
       "\n",
       "    .dataframe thead tr:last-of-type th {\n",
       "        text-align: right;\n",
       "    }\n",
       "</style>\n",
       "<table border=\"1\" class=\"dataframe\">\n",
       "  <thead>\n",
       "    <tr>\n",
       "      <th></th>\n",
       "      <th colspan=\"9\" halign=\"left\">target</th>\n",
       "    </tr>\n",
       "    <tr>\n",
       "      <th>sources_id</th>\n",
       "      <th>0</th>\n",
       "      <th>1</th>\n",
       "      <th>2</th>\n",
       "      <th>3</th>\n",
       "      <th>4</th>\n",
       "      <th>5</th>\n",
       "      <th>6</th>\n",
       "      <th>7</th>\n",
       "      <th>8</th>\n",
       "    </tr>\n",
       "    <tr>\n",
       "      <th>msno_idx</th>\n",
       "      <th></th>\n",
       "      <th></th>\n",
       "      <th></th>\n",
       "      <th></th>\n",
       "      <th></th>\n",
       "      <th></th>\n",
       "      <th></th>\n",
       "      <th></th>\n",
       "      <th></th>\n",
       "    </tr>\n",
       "  </thead>\n",
       "  <tbody>\n",
       "    <tr>\n",
       "      <th>0</th>\n",
       "      <td>NaN</td>\n",
       "      <td>0.830493</td>\n",
       "      <td>0.960000</td>\n",
       "      <td>0.095238</td>\n",
       "      <td>NaN</td>\n",
       "      <td>NaN</td>\n",
       "      <td>0.938547</td>\n",
       "      <td>NaN</td>\n",
       "      <td>NaN</td>\n",
       "    </tr>\n",
       "    <tr>\n",
       "      <th>1</th>\n",
       "      <td>NaN</td>\n",
       "      <td>NaN</td>\n",
       "      <td>NaN</td>\n",
       "      <td>0.000000</td>\n",
       "      <td>NaN</td>\n",
       "      <td>NaN</td>\n",
       "      <td>NaN</td>\n",
       "      <td>NaN</td>\n",
       "      <td>NaN</td>\n",
       "    </tr>\n",
       "    <tr>\n",
       "      <th>2</th>\n",
       "      <td>0.235294</td>\n",
       "      <td>NaN</td>\n",
       "      <td>NaN</td>\n",
       "      <td>0.580645</td>\n",
       "      <td>NaN</td>\n",
       "      <td>NaN</td>\n",
       "      <td>NaN</td>\n",
       "      <td>NaN</td>\n",
       "      <td>NaN</td>\n",
       "    </tr>\n",
       "    <tr>\n",
       "      <th>3</th>\n",
       "      <td>NaN</td>\n",
       "      <td>NaN</td>\n",
       "      <td>NaN</td>\n",
       "      <td>0.000000</td>\n",
       "      <td>NaN</td>\n",
       "      <td>NaN</td>\n",
       "      <td>NaN</td>\n",
       "      <td>NaN</td>\n",
       "      <td>NaN</td>\n",
       "    </tr>\n",
       "    <tr>\n",
       "      <th>4</th>\n",
       "      <td>NaN</td>\n",
       "      <td>NaN</td>\n",
       "      <td>0.000000</td>\n",
       "      <td>0.000000</td>\n",
       "      <td>NaN</td>\n",
       "      <td>NaN</td>\n",
       "      <td>NaN</td>\n",
       "      <td>NaN</td>\n",
       "      <td>NaN</td>\n",
       "    </tr>\n",
       "    <tr>\n",
       "      <th>...</th>\n",
       "      <td>...</td>\n",
       "      <td>...</td>\n",
       "      <td>...</td>\n",
       "      <td>...</td>\n",
       "      <td>...</td>\n",
       "      <td>...</td>\n",
       "      <td>...</td>\n",
       "      <td>...</td>\n",
       "      <td>...</td>\n",
       "    </tr>\n",
       "    <tr>\n",
       "      <th>34398</th>\n",
       "      <td>NaN</td>\n",
       "      <td>NaN</td>\n",
       "      <td>NaN</td>\n",
       "      <td>0.609062</td>\n",
       "      <td>NaN</td>\n",
       "      <td>NaN</td>\n",
       "      <td>NaN</td>\n",
       "      <td>NaN</td>\n",
       "      <td>NaN</td>\n",
       "    </tr>\n",
       "    <tr>\n",
       "      <th>34399</th>\n",
       "      <td>NaN</td>\n",
       "      <td>0.830189</td>\n",
       "      <td>NaN</td>\n",
       "      <td>NaN</td>\n",
       "      <td>0.0</td>\n",
       "      <td>NaN</td>\n",
       "      <td>NaN</td>\n",
       "      <td>NaN</td>\n",
       "      <td>NaN</td>\n",
       "    </tr>\n",
       "    <tr>\n",
       "      <th>34400</th>\n",
       "      <td>NaN</td>\n",
       "      <td>0.322581</td>\n",
       "      <td>NaN</td>\n",
       "      <td>NaN</td>\n",
       "      <td>NaN</td>\n",
       "      <td>NaN</td>\n",
       "      <td>NaN</td>\n",
       "      <td>NaN</td>\n",
       "      <td>NaN</td>\n",
       "    </tr>\n",
       "    <tr>\n",
       "      <th>34401</th>\n",
       "      <td>NaN</td>\n",
       "      <td>0.755418</td>\n",
       "      <td>0.857143</td>\n",
       "      <td>NaN</td>\n",
       "      <td>NaN</td>\n",
       "      <td>NaN</td>\n",
       "      <td>NaN</td>\n",
       "      <td>NaN</td>\n",
       "      <td>NaN</td>\n",
       "    </tr>\n",
       "    <tr>\n",
       "      <th>34402</th>\n",
       "      <td>NaN</td>\n",
       "      <td>0.260870</td>\n",
       "      <td>NaN</td>\n",
       "      <td>NaN</td>\n",
       "      <td>NaN</td>\n",
       "      <td>NaN</td>\n",
       "      <td>NaN</td>\n",
       "      <td>NaN</td>\n",
       "      <td>NaN</td>\n",
       "    </tr>\n",
       "  </tbody>\n",
       "</table>\n",
       "<p>30755 rows × 9 columns</p>\n",
       "</div>"
      ],
      "text/plain": [
       "              target                                                         \n",
       "sources_id         0         1         2         3    4   5         6   7   8\n",
       "msno_idx                                                                     \n",
       "0                NaN  0.830493  0.960000  0.095238  NaN NaN  0.938547 NaN NaN\n",
       "1                NaN       NaN       NaN  0.000000  NaN NaN       NaN NaN NaN\n",
       "2           0.235294       NaN       NaN  0.580645  NaN NaN       NaN NaN NaN\n",
       "3                NaN       NaN       NaN  0.000000  NaN NaN       NaN NaN NaN\n",
       "4                NaN       NaN  0.000000  0.000000  NaN NaN       NaN NaN NaN\n",
       "...              ...       ...       ...       ...  ...  ..       ...  ..  ..\n",
       "34398            NaN       NaN       NaN  0.609062  NaN NaN       NaN NaN NaN\n",
       "34399            NaN  0.830189       NaN       NaN  0.0 NaN       NaN NaN NaN\n",
       "34400            NaN  0.322581       NaN       NaN  NaN NaN       NaN NaN NaN\n",
       "34401            NaN  0.755418  0.857143       NaN  NaN NaN       NaN NaN NaN\n",
       "34402            NaN  0.260870       NaN       NaN  NaN NaN       NaN NaN NaN\n",
       "\n",
       "[30755 rows x 9 columns]"
      ]
     },
     "execution_count": 199,
     "metadata": {},
     "output_type": "execute_result"
    }
   ],
   "source": [
    "member_source_t"
   ]
  },
  {
   "cell_type": "code",
   "execution_count": null,
   "id": "1b82f4b1",
   "metadata": {},
   "outputs": [],
   "source": []
  },
  {
   "cell_type": "code",
   "execution_count": null,
   "id": "3821d413",
   "metadata": {},
   "outputs": [],
   "source": []
  },
  {
   "cell_type": "code",
   "execution_count": null,
   "id": "a0ccee56",
   "metadata": {},
   "outputs": [],
   "source": []
  }
 ],
 "metadata": {
  "kernelspec": {
   "display_name": "Python 3 (ipykernel)",
   "language": "python",
   "name": "python3"
  },
  "language_info": {
   "codemirror_mode": {
    "name": "ipython",
    "version": 3
   },
   "file_extension": ".py",
   "mimetype": "text/x-python",
   "name": "python",
   "nbconvert_exporter": "python",
   "pygments_lexer": "ipython3",
   "version": "3.9.7"
  }
 },
 "nbformat": 4,
 "nbformat_minor": 5
}
